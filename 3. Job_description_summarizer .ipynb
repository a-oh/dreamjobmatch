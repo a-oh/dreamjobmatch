{
 "cells": [
  {
   "cell_type": "code",
   "execution_count": null,
   "metadata": {
    "ExecuteTime": {
     "end_time": "2021-02-17T23:47:55.627268Z",
     "start_time": "2021-02-17T23:47:52.239075Z"
    },
    "colab": {
     "base_uri": "https://localhost:8080/"
    },
    "id": "I1luu-K9Kqaf",
    "outputId": "d0935a01-bc54-4862-b8e1-1fec15cb617b"
   },
   "outputs": [
    {
     "name": "stdout",
     "output_type": "stream",
     "text": [
      "Collecting gensim\n",
      "\u001b[?25l  Downloading https://files.pythonhosted.org/packages/2b/e0/fa6326251692056dc880a64eb22117e03269906ba55a6864864d24ec8b4e/gensim-3.8.3-cp36-cp36m-manylinux1_x86_64.whl (24.2MB)\n",
      "\u001b[K     |████████████████████████████████| 24.2MB 133kB/s \n",
      "\u001b[?25hRequirement already satisfied, skipping upgrade: numpy>=1.11.3 in /usr/local/lib/python3.6/dist-packages (from gensim) (1.19.5)\n",
      "Requirement already satisfied, skipping upgrade: smart-open>=1.8.1 in /usr/local/lib/python3.6/dist-packages (from gensim) (4.1.2)\n",
      "Requirement already satisfied, skipping upgrade: six>=1.5.0 in /usr/local/lib/python3.6/dist-packages (from gensim) (1.15.0)\n",
      "Requirement already satisfied, skipping upgrade: scipy>=0.18.1 in /usr/local/lib/python3.6/dist-packages (from gensim) (1.4.1)\n",
      "Installing collected packages: gensim\n",
      "  Found existing installation: gensim 3.6.0\n",
      "    Uninstalling gensim-3.6.0:\n",
      "      Successfully uninstalled gensim-3.6.0\n",
      "Successfully installed gensim-3.8.3\n"
     ]
    }
   ],
   "source": [
    "!pip install gensim --upgrade"
   ]
  },
  {
   "cell_type": "markdown",
   "metadata": {
    "id": "Mkgr3ehJutix"
   },
   "source": [
    "# Use `Transformers.pipeline` to summarize the job description\n"
   ]
  },
  {
   "cell_type": "markdown",
   "metadata": {},
   "source": [
    "- In this section, I am using Google Colab to run `Transformers` to summarize the job description column.\n",
    "- Because there are some values in float, we have to **convert the type to string**. \n",
    "- Also, the **maximum character is 1024**, so whatever that is longer than that had to be truncated. There were only a handful of them and most fit within the range, I decide to truncate the description instead of slicing them into two objects. In this case, all our summaries will be concise and uniform. "
   ]
  },
  {
   "cell_type": "code",
   "execution_count": null,
   "metadata": {
    "colab": {
     "base_uri": "https://localhost:8080/"
    },
    "id": "pVT6_oMiusO6",
    "outputId": "62f22f28-c9dd-4a8f-bc88-15e98f4e9ec3",
    "scrolled": true
   },
   "outputs": [
    {
     "name": "stdout",
     "output_type": "stream",
     "text": [
      "Collecting transformers\n",
      "\u001b[?25l  Downloading https://files.pythonhosted.org/packages/98/87/ef312eef26f5cecd8b17ae9654cdd8d1fae1eb6dbd87257d6d73c128a4d0/transformers-4.3.2-py3-none-any.whl (1.8MB)\n",
      "\u001b[K     |████████████████████████████████| 1.8MB 8.4MB/s \n",
      "\u001b[?25hRequirement already satisfied: numpy>=1.17 in /usr/local/lib/python3.6/dist-packages (from transformers) (1.19.5)\n",
      "Requirement already satisfied: tqdm>=4.27 in /usr/local/lib/python3.6/dist-packages (from transformers) (4.41.1)\n",
      "Requirement already satisfied: importlib-metadata; python_version < \"3.8\" in /usr/local/lib/python3.6/dist-packages (from transformers) (3.4.0)\n",
      "Collecting sacremoses\n",
      "\u001b[?25l  Downloading https://files.pythonhosted.org/packages/7d/34/09d19aff26edcc8eb2a01bed8e98f13a1537005d31e95233fd48216eed10/sacremoses-0.0.43.tar.gz (883kB)\n",
      "\u001b[K     |████████████████████████████████| 890kB 35.8MB/s \n",
      "\u001b[?25hRequirement already satisfied: packaging in /usr/local/lib/python3.6/dist-packages (from transformers) (20.9)\n",
      "Requirement already satisfied: filelock in /usr/local/lib/python3.6/dist-packages (from transformers) (3.0.12)\n",
      "Collecting tokenizers<0.11,>=0.10.1\n",
      "\u001b[?25l  Downloading https://files.pythonhosted.org/packages/fd/5b/44baae602e0a30bcc53fbdbc60bd940c15e143d252d658dfdefce736ece5/tokenizers-0.10.1-cp36-cp36m-manylinux2010_x86_64.whl (3.2MB)\n",
      "\u001b[K     |████████████████████████████████| 3.2MB 49.3MB/s \n",
      "\u001b[?25hRequirement already satisfied: dataclasses; python_version < \"3.7\" in /usr/local/lib/python3.6/dist-packages (from transformers) (0.8)\n",
      "Requirement already satisfied: requests in /usr/local/lib/python3.6/dist-packages (from transformers) (2.23.0)\n",
      "Requirement already satisfied: regex!=2019.12.17 in /usr/local/lib/python3.6/dist-packages (from transformers) (2019.12.20)\n",
      "Requirement already satisfied: zipp>=0.5 in /usr/local/lib/python3.6/dist-packages (from importlib-metadata; python_version < \"3.8\"->transformers) (3.4.0)\n",
      "Requirement already satisfied: typing-extensions>=3.6.4; python_version < \"3.8\" in /usr/local/lib/python3.6/dist-packages (from importlib-metadata; python_version < \"3.8\"->transformers) (3.7.4.3)\n",
      "Requirement already satisfied: six in /usr/local/lib/python3.6/dist-packages (from sacremoses->transformers) (1.15.0)\n",
      "Requirement already satisfied: click in /usr/local/lib/python3.6/dist-packages (from sacremoses->transformers) (7.1.2)\n",
      "Requirement already satisfied: joblib in /usr/local/lib/python3.6/dist-packages (from sacremoses->transformers) (1.0.0)\n",
      "Requirement already satisfied: pyparsing>=2.0.2 in /usr/local/lib/python3.6/dist-packages (from packaging->transformers) (2.4.7)\n",
      "Requirement already satisfied: chardet<4,>=3.0.2 in /usr/local/lib/python3.6/dist-packages (from requests->transformers) (3.0.4)\n",
      "Requirement already satisfied: idna<3,>=2.5 in /usr/local/lib/python3.6/dist-packages (from requests->transformers) (2.10)\n",
      "Requirement already satisfied: certifi>=2017.4.17 in /usr/local/lib/python3.6/dist-packages (from requests->transformers) (2020.12.5)\n",
      "Requirement already satisfied: urllib3!=1.25.0,!=1.25.1,<1.26,>=1.21.1 in /usr/local/lib/python3.6/dist-packages (from requests->transformers) (1.24.3)\n",
      "Building wheels for collected packages: sacremoses\n",
      "  Building wheel for sacremoses (setup.py) ... \u001b[?25l\u001b[?25hdone\n",
      "  Created wheel for sacremoses: filename=sacremoses-0.0.43-cp36-none-any.whl size=893261 sha256=01e0f67d71875233ddccfc65429f6f6e682680af639b5e13ad5b8af64682d5db\n",
      "  Stored in directory: /root/.cache/pip/wheels/29/3c/fd/7ce5c3f0666dab31a50123635e6fb5e19ceb42ce38d4e58f45\n",
      "Successfully built sacremoses\n",
      "Installing collected packages: sacremoses, tokenizers, transformers\n",
      "Successfully installed sacremoses-0.0.43 tokenizers-0.10.1 transformers-4.3.2\n"
     ]
    }
   ],
   "source": [
    "!pip install transformers"
   ]
  },
  {
   "cell_type": "code",
   "execution_count": null,
   "metadata": {
    "ExecuteTime": {
     "end_time": "2021-02-17T23:51:27.079201Z",
     "start_time": "2021-02-17T23:51:27.071368Z"
    },
    "colab": {
     "base_uri": "https://localhost:8080/"
    },
    "id": "EDHoSBXkRH6E",
    "outputId": "f70a3e73-5aab-46e2-a83b-f9c9a180b9ca"
   },
   "outputs": [
    {
     "name": "stderr",
     "output_type": "stream",
     "text": [
      "/usr/local/lib/python3.6/dist-packages/ipykernel_launcher.py:6: FutureWarning: Passing a negative integer is deprecated in version 1.0 and will not be supported in future version. Instead, use None to not limit the column width.\n",
      "  \n"
     ]
    }
   ],
   "source": [
    "import pandas as pd\n",
    "\n",
    "\n",
    "import gensim.downloader as api\n",
    "from gensim.models.word2vec import Word2Vec\n",
    "pd.options.display.max_colwidth = -1"
   ]
  },
  {
   "cell_type": "code",
   "execution_count": null,
   "metadata": {},
   "outputs": [],
   "source": []
  },
  {
   "cell_type": "code",
   "execution_count": null,
   "metadata": {
    "id": "zHh485BnusO7"
   },
   "outputs": [],
   "source": [
    "from transformers import pipeline"
   ]
  },
  {
   "cell_type": "code",
   "execution_count": null,
   "metadata": {
    "colab": {
     "base_uri": "https://localhost:8080/",
     "height": 262,
     "referenced_widgets": [
      "e717368172784532b0f47805cfb16aec",
      "2217acfa739942858978766bae60969e",
      "98dea98c16e241178a7ad9d2186d75be",
      "2973a5df64ee4227a10ae8c0c2fa848b",
      "13284b929f2749fb9c0d9bae98fcdcf0",
      "9cdfbf791eae40d6926522eb6fee5af1",
      "78bd7c433ffa438b9940dfc2ce25f7ac",
      "569f4cfc23bb4b759e05bad8307e12db",
      "1740c113e2b34bf9b29a40cb412611eb",
      "3520bfead0544981afafa56f4e25da8f",
      "30169534f42d408dad64f985d22f6a1b",
      "f85872248fb445c090d62ddb3bcaf785",
      "2f285581c8cc4e46bece3f4cb0f53791",
      "80a1bcef1766492f8bf5db831c398e10",
      "f7ff4f51e6214a99ae6c8667a670fb1e",
      "1eca62ca54e746e9a76de7517d3028c4",
      "2545e68456604da2a53cd28320a1fb41",
      "648c1028999b42e7bac510ebc6939f22",
      "2f4d1a0b2199487189439c1482b9ffaf",
      "3611179ab3f5466a8c28d04b8ec8236d",
      "a60251d3b1d148a5b934db7f6b42eed9",
      "9766ee10d5df48ad987446d1e79ed294",
      "2950869aafc440cbb33ba2f61229ede4",
      "92320deb74af46b4887e88321a7753fa",
      "eb70f9eb1f534e18bfdf141bf6a1847a",
      "f4a5c5321bc94825bad40ad2e6173a62",
      "9564c32514c24af9810903aff823e7fc",
      "c3345b39dfd04651b123358b3b0ebfd3",
      "c3721eb2244f4b2fbfd47c012bf5682a",
      "cfb7d53d90124a42a4e46e36e7622cf1",
      "cadcbab4537c4b3786758f8fc21c439f",
      "2e1914486ce04f1f968884a7fa297c50",
      "bcb8bc1ec07b4afe919f0a47a477a562",
      "a30f19f9758b47569f7b6303f9d0c8c8",
      "34b4f405041545ed93ba9efc3967ce55",
      "76031f779aa841f7aeb33b89d4e2dfee",
      "81ee114132d945d9953cb7a9ef9cfe64",
      "1a5feb342ae14e96a3c81def5d1c1eb9",
      "e33215186af542a8b5602c9e6429009c",
      "d0cc9ce17e30428bb61cc73141a808e5"
     ]
    },
    "id": "Ol8P5xoQKnfF",
    "outputId": "3810d7da-bc06-42b9-b40c-12fe1d7aadb6",
    "scrolled": true
   },
   "outputs": [
    {
     "data": {
      "application/vnd.jupyter.widget-view+json": {
       "model_id": "e717368172784532b0f47805cfb16aec",
       "version_major": 2,
       "version_minor": 0
      },
      "text/plain": [
       "HBox(children=(FloatProgress(value=0.0, description='Downloading', max=1621.0, style=ProgressStyle(description…"
      ]
     },
     "metadata": {
      "tags": []
     },
     "output_type": "display_data"
    },
    {
     "name": "stdout",
     "output_type": "stream",
     "text": [
      "\n"
     ]
    },
    {
     "data": {
      "application/vnd.jupyter.widget-view+json": {
       "model_id": "1740c113e2b34bf9b29a40cb412611eb",
       "version_major": 2,
       "version_minor": 0
      },
      "text/plain": [
       "HBox(children=(FloatProgress(value=0.0, description='Downloading', max=1222317369.0, style=ProgressStyle(descr…"
      ]
     },
     "metadata": {
      "tags": []
     },
     "output_type": "display_data"
    },
    {
     "name": "stdout",
     "output_type": "stream",
     "text": [
      "\n"
     ]
    },
    {
     "data": {
      "application/vnd.jupyter.widget-view+json": {
       "model_id": "2545e68456604da2a53cd28320a1fb41",
       "version_major": 2,
       "version_minor": 0
      },
      "text/plain": [
       "HBox(children=(FloatProgress(value=0.0, description='Downloading', max=898822.0, style=ProgressStyle(descripti…"
      ]
     },
     "metadata": {
      "tags": []
     },
     "output_type": "display_data"
    },
    {
     "name": "stdout",
     "output_type": "stream",
     "text": [
      "\n"
     ]
    },
    {
     "data": {
      "application/vnd.jupyter.widget-view+json": {
       "model_id": "eb70f9eb1f534e18bfdf141bf6a1847a",
       "version_major": 2,
       "version_minor": 0
      },
      "text/plain": [
       "HBox(children=(FloatProgress(value=0.0, description='Downloading', max=456318.0, style=ProgressStyle(descripti…"
      ]
     },
     "metadata": {
      "tags": []
     },
     "output_type": "display_data"
    },
    {
     "name": "stdout",
     "output_type": "stream",
     "text": [
      "\n"
     ]
    },
    {
     "data": {
      "application/vnd.jupyter.widget-view+json": {
       "model_id": "bcb8bc1ec07b4afe919f0a47a477a562",
       "version_major": 2,
       "version_minor": 0
      },
      "text/plain": [
       "HBox(children=(FloatProgress(value=0.0, description='Downloading', max=26.0, style=ProgressStyle(description_w…"
      ]
     },
     "metadata": {
      "tags": []
     },
     "output_type": "display_data"
    },
    {
     "name": "stdout",
     "output_type": "stream",
     "text": [
      "\n"
     ]
    }
   ],
   "source": [
    "summarizer = pipeline('summarization')"
   ]
  },
  {
   "cell_type": "code",
   "execution_count": null,
   "metadata": {
    "id": "vUMdjhvfRIL8"
   },
   "outputs": [],
   "source": [
    "jobs_df = pd.read_csv('job_df.csv')"
   ]
  },
  {
   "cell_type": "code",
   "execution_count": null,
   "metadata": {
    "colab": {
     "base_uri": "https://localhost:8080/"
    },
    "id": "e12hfS_pKnfF",
    "outputId": "57a0d2bc-08dc-42a2-accb-d7d6aac8ec64"
   },
   "outputs": [
    {
     "name": "stderr",
     "output_type": "stream",
     "text": [
      "Your min_length is set to 56, but you input_length is only 3. You might consider decreasing min_length manually, e.g. summarizer('...', min_length=10)\n",
      "Your max_length is set to 142, but you input_length is only 3. You might consider decreasing max_length manually, e.g. summarizer('...', max_length=50)\n",
      "Your min_length is set to 56, but you input_length is only 3. You might consider decreasing min_length manually, e.g. summarizer('...', min_length=10)\n",
      "Your max_length is set to 142, but you input_length is only 3. You might consider decreasing max_length manually, e.g. summarizer('...', max_length=50)\n",
      "Your min_length is set to 56, but you input_length is only 3. You might consider decreasing min_length manually, e.g. summarizer('...', min_length=10)\n",
      "Your max_length is set to 142, but you input_length is only 3. You might consider decreasing max_length manually, e.g. summarizer('...', max_length=50)\n",
      "Your min_length is set to 56, but you input_length is only 3. You might consider decreasing min_length manually, e.g. summarizer('...', min_length=10)\n",
      "Your max_length is set to 142, but you input_length is only 3. You might consider decreasing max_length manually, e.g. summarizer('...', max_length=50)\n",
      "Your min_length is set to 56, but you input_length is only 3. You might consider decreasing min_length manually, e.g. summarizer('...', min_length=10)\n",
      "Your max_length is set to 142, but you input_length is only 3. You might consider decreasing max_length manually, e.g. summarizer('...', max_length=50)\n",
      "Your min_length is set to 56, but you input_length is only 3. You might consider decreasing min_length manually, e.g. summarizer('...', min_length=10)\n",
      "Your max_length is set to 142, but you input_length is only 3. You might consider decreasing max_length manually, e.g. summarizer('...', max_length=50)\n",
      "Your min_length is set to 56, but you input_length is only 3. You might consider decreasing min_length manually, e.g. summarizer('...', min_length=10)\n",
      "Your max_length is set to 142, but you input_length is only 3. You might consider decreasing max_length manually, e.g. summarizer('...', max_length=50)\n",
      "Your min_length is set to 56, but you input_length is only 3. You might consider decreasing min_length manually, e.g. summarizer('...', min_length=10)\n",
      "Your max_length is set to 142, but you input_length is only 3. You might consider decreasing max_length manually, e.g. summarizer('...', max_length=50)\n",
      "Your min_length is set to 56, but you input_length is only 3. You might consider decreasing min_length manually, e.g. summarizer('...', min_length=10)\n",
      "Your max_length is set to 142, but you input_length is only 3. You might consider decreasing max_length manually, e.g. summarizer('...', max_length=50)\n",
      "Your min_length is set to 56, but you input_length is only 3. You might consider decreasing min_length manually, e.g. summarizer('...', min_length=10)\n",
      "Your max_length is set to 142, but you input_length is only 3. You might consider decreasing max_length manually, e.g. summarizer('...', max_length=50)\n",
      "Your min_length is set to 56, but you input_length is only 3. You might consider decreasing min_length manually, e.g. summarizer('...', min_length=10)\n",
      "Your max_length is set to 142, but you input_length is only 3. You might consider decreasing max_length manually, e.g. summarizer('...', max_length=50)\n",
      "Your min_length is set to 56, but you input_length is only 3. You might consider decreasing min_length manually, e.g. summarizer('...', min_length=10)\n",
      "Your max_length is set to 142, but you input_length is only 3. You might consider decreasing max_length manually, e.g. summarizer('...', max_length=50)\n",
      "Your min_length is set to 56, but you input_length is only 3. You might consider decreasing min_length manually, e.g. summarizer('...', min_length=10)\n",
      "Your max_length is set to 142, but you input_length is only 3. You might consider decreasing max_length manually, e.g. summarizer('...', max_length=50)\n",
      "Your min_length is set to 56, but you input_length is only 3. You might consider decreasing min_length manually, e.g. summarizer('...', min_length=10)\n",
      "Your max_length is set to 142, but you input_length is only 3. You might consider decreasing max_length manually, e.g. summarizer('...', max_length=50)\n",
      "Your min_length is set to 56, but you input_length is only 3. You might consider decreasing min_length manually, e.g. summarizer('...', min_length=10)\n",
      "Your max_length is set to 142, but you input_length is only 3. You might consider decreasing max_length manually, e.g. summarizer('...', max_length=50)\n",
      "Your min_length is set to 56, but you input_length is only 3. You might consider decreasing min_length manually, e.g. summarizer('...', min_length=10)\n",
      "Your max_length is set to 142, but you input_length is only 3. You might consider decreasing max_length manually, e.g. summarizer('...', max_length=50)\n",
      "Your min_length is set to 56, but you input_length is only 3. You might consider decreasing min_length manually, e.g. summarizer('...', min_length=10)\n",
      "Your max_length is set to 142, but you input_length is only 3. You might consider decreasing max_length manually, e.g. summarizer('...', max_length=50)\n",
      "Your min_length is set to 56, but you input_length is only 3. You might consider decreasing min_length manually, e.g. summarizer('...', min_length=10)\n",
      "Your max_length is set to 142, but you input_length is only 3. You might consider decreasing max_length manually, e.g. summarizer('...', max_length=50)\n"
     ]
    }
   ],
   "source": [
    "jobs_df['desc_summarizer'] = jobs_df['description'].apply(lambda x: summarizer(str(x)) if len(str(x)) < 1024 else summarizer(x[:1024]))"
   ]
  },
  {
   "cell_type": "code",
   "execution_count": 9,
   "metadata": {
    "colab": {
     "base_uri": "https://localhost:8080/",
     "height": 1000
    },
    "id": "UsiKxpMuKnfF",
    "outputId": "e6505f3e-1ca7-4d1a-9c2a-c7953960a1b8"
   },
   "outputs": [
    {
     "data": {
      "text/html": [
       "<div>\n",
       "<style scoped>\n",
       "    .dataframe tbody tr th:only-of-type {\n",
       "        vertical-align: middle;\n",
       "    }\n",
       "\n",
       "    .dataframe tbody tr th {\n",
       "        vertical-align: top;\n",
       "    }\n",
       "\n",
       "    .dataframe thead th {\n",
       "        text-align: right;\n",
       "    }\n",
       "</style>\n",
       "<table border=\"1\" class=\"dataframe\">\n",
       "  <thead>\n",
       "    <tr style=\"text-align: right;\">\n",
       "      <th></th>\n",
       "      <th>title</th>\n",
       "      <th>company</th>\n",
       "      <th>location</th>\n",
       "      <th>summary</th>\n",
       "      <th>description</th>\n",
       "      <th>salary</th>\n",
       "      <th>rating</th>\n",
       "      <th>desc_summarizer</th>\n",
       "    </tr>\n",
       "  </thead>\n",
       "  <tbody>\n",
       "    <tr>\n",
       "      <th>0</th>\n",
       "      <td>Clinical Trial Research Coordinator I - South San Francisco,..._new</td>\n",
       "      <td>Kaiser Permanente</td>\n",
       "      <td>San Francisco, CA</td>\n",
       "      <td>Assist in the collection of protocol-required data w/ timely &amp; accurate submissions as required by Sponsor (e.g., weekly screening log, routine electronic data…</td>\n",
       "      <td>The Clinical Trial Research Coordinator I (CTRC-I) is a novice level position which, under the clinical direction of the Principal Investigator (PI), assists in the operational and administrative research support of the Kaiser Permanente Northern California (KPNC) PI and KPNC Clinical Trials Operations Director or designee, and other research staff conducting multiple FDA-regulated clinical trials. This is a non-licensed position which works under the daily supervision of an experienced Clinical Trial Nurse, Clinical Trial Research Coordinator, and/or KFRI-designated, licensed clinical trial research staff member. This position must adhere to the position's scope of practice as outlined in the Major Responsibilities below. This position is also responsible for assisting in protecting the health, safety, and welfare of research participants.\\n\\n\\n\\nEssential Functions:\\nComplianceSupport &amp; comply w/ the Principles of Responsibility (Kaiser Permanente Code of Conduct). W/ guidance from PI, assist w/ ensuring compliance w/ KPNC IRB Standard Operating Procedures (SOP) &amp; document applications. Adhere to Guideline for Good Clinical Practice (GCP), federal, state, &amp; local regulations, &amp; KP policies &amp; procedures. W/ supervision, assist w/ preparation for inspections, audits &amp; monitoring visits.Study Implementation: Maintain the security &amp; confidentiality of participants' paper or electronic data (e.g., case report forms kept in a secure, locked space). Assist w/ scheduling participants for study assessments/visits, required tests including visit-specific laboratory kits and/or paperwork preparation. Prepare packets for participants (e.g., instructions, phone numbers, calendars, diaries, etc.).\\nAssist w/ obtaining medical records &amp; test results for all projects/participants. w/ supervision &amp; certification, perform packaging &amp; shipping of protocol specimens to the Sponsor lab in accordance w/ IATA/DOT regulations &amp; Sponsor shipping guidelines. Direct issues requiring medical decision-making to the appropriate licensed staff member promptly.\\nProvide PI and/or Clinical Trial Nurse w/ the ongoing informed consent process by coordinating the current consent documents. According to protocol and/or IRB-approved telephone script, collect &amp; document research data in a timely manner, &amp; report the information to the appropriate licensed staff member &amp; PI for assessment. Assist in the collection of protocol-required data w/ timely &amp; accurate submissions as required by Sponsor (e.g., weekly screening log, routine electronic data submissions).\\nUnder specific direction, assist w/ data entry of study activity onto a case report form (paper or electronic), &amp; maintain a database program to track all study activity (i.e., study enrollment &amp; consents). Assist in maintaining research charts &amp; site regulatory files. Assist in ensuring that study-related, non-test article supplies are shipped &amp; re-supplied according to protocol, including tracking expiration dates. Assist in obtaining protocol specific regulatory documents including MDs/RNs licenses &amp; CVs.\\nReport any potential protocol violations/deviations to the PI in a timely manner. Support the regulatory team in the maintenance &amp; storage of critical documents required to be maintained &amp; provided to the Sponsor during the conduct of the trial. W/ supervision, assist in study closure activities including preparation &amp; collection of close-out documentation, &amp; preparation of study files for distribution to longterm storage.\\nThis job description is not all encompassing.\\nBasic Qualifications:\\nExperience\\nN/A.\\nEducation\\nAssociate's degree or higher OR two (2) years of work experience in an ambulatory and/or acute health care setting required (LVN maybe substituted for an Associate's degree)High School Diploma or General Education Development (GED) required.\\nLicense, Certification, Registration\\nN/A.\\nAdditional Requirements:\\nWillingness to obtain IATA/DOT certification prior to start date.Current BLS certification required prior to start date.Satisfies requirements for career advancement/maintenance as defined by the Clinical Trial Career Ladder Program.Must be proficient in electronic health systems and databases used in research environment and word-processing or willingness to learn within 3 months of hire.Demonstrate organizational and communication skills.Demonstrate written, verbal, and interpersonal communication skills.Demonstrate proficiency in medical terminology.Demonstrate attention to detail and accuracy.Ability to manage multiple tasks.Demonstrate good prioritization and organizational skills.Ability to be flexible and dependable.Ability to work effectively on cross-functional teams.Present professional manner and appearance.Demonstrated skill in administrative tasks (i.e., filing, photocopying, faxing, etc.).Knowledge of GCP, federal, state, and local regulations including HIPAA and KP policies and procedures.Must be able to work in a Labor Partnership environment.\\nPreferred Qualifications:\\nClinical trials experience preferred.\\nPrimaryLocation : California,South San Francisco,S. San Francisco Medical Offices\\nHoursPerWeek : 40\\nShift : Day\\nWorkdays : Variable\\nWorkingHoursStart : 08:30 AM\\nWorkingHoursEnd : 05:00 PM\\nJob Schedule : Full-time\\nJob Type : Standard\\nEmployee Status : Regular\\nEmployee Group/Union Affiliation : CNV-NUE|NUE|Non Union Employee\\nJob Level : Entry Level\\nJob Category : Research and Development\\nDepartment : Oakland Reg - 2000 Broadway - Rsrch-Invstgtr Staffg Mdl Dept - 0201\\nTravel : No\\nKaiser Permanente is an equal opportunity employer committed to a diverse and inclusive workforce. Applicants will receive consideration for employment without regard to race, color, religion, sex (including pregnancy), age, sexual orientation, national origin, marital status, parental status, ancestry, disability, gender identity, veteran status, genetic information, other distinguishing characteristics of diversity and inclusion, or any other protected status.\\n\\nExternal hires must pass a background check/drug screen. Qualified applicants with arrest and/or conviction records will be considered for employment in a manner consistent with federal and state laws, as well as applicable local ordinances, including but not limited to the San Francisco and Los Angeles Fair Chance Ordinances.</td>\n",
       "      <td>None</td>\n",
       "      <td>4.1</td>\n",
       "      <td>[{'summary_text': ' The Clinical Trial Research Coordinator I (CTRC-I) assists in the operational and administrative research support of the Kaiser Permanente Northern California (KPNC) PI and KPNC Clinical Trials Operations Director or designee . This position is also responsible for assisting in protecting the health, safety, and welfare of research participants .'}]</td>\n",
       "    </tr>\n",
       "    <tr>\n",
       "      <th>1</th>\n",
       "      <td>Senior Research Assistant_new</td>\n",
       "      <td>Kaiser Permanente</td>\n",
       "      <td>Oakland, CA</td>\n",
       "      <td>Provides basic data management using database software.\\nTranscribes data from records to forms.\\nUses computer software to provide basic data management and…</td>\n",
       "      <td>Conducts telephone or in-person interviews with study participants. Recruits and consents study participants. Assists in training new study staff in study protocols and provides instruction to study participants. Uses computer software to provide basic data management and generate reports.\\nEssential Functions:\\nAssists in training new study staff in protocols and implementation of study goals/objectives. Provides instruction to participants to teach them how to perform specific study protocols. Prepares computergenerated reports, including statistical tables. Answers participants' and providers' questions. Screens and recruits participants; obtains consent.Schedules examination appointments for study participants. Conducts telephone or in-person interviews with study participants and providers. Reviews questionnaires for completeness and accuracy; checks for inconsistencies; and codes open-ended questions. Assists with all aspects of mailed surveys. Monitors participants' progress (e.g., blood pressure, exercise, response to questionnaires, tracking, etc.). Provides basic data management using database software. Maintains all pertinent project records and files. Transcribes data from records to forms.Kaiser Permanente conducts compensation reviews of positions on a routine basis. At any time, Kaiser Permanente reserves the right to reevaluate and change job descriptions, or to change such positions from salaried to hourly pay status. Such changes are generally implemented only after notice is given to affected employees.\\nBasic Qualifications:\\nExperience\\nMinimum one (1) year of experience in a research/health care environment required (Bachelor's degree may substitute for experience in field).\\nEducation\\nAssociate's degree OR two (2) years of experience in a directly related field.High School Diploma or General Education Development (GED) required.\\nLicenses, Certifications, Registrations\\nN/A.\\nAdditional Requirements:\\nExperience with computer applications, such as word processing and database software, required.Experience in editing/coding questionnaires required.Interviewing experience required.Excellent interpersonal and communication skills; telephone skills required.Familiar with medical terminology.Must be able to work in a Labor/Management Partnership environment.\\n Preferred Qualifications:\\nBachelor's degree OR four (4) years of experience in a directly related field preferred.\\nPrimaryLocation : California,Oakland,2000 Broadway\\nHoursPerWeek : 40\\nShift : Day\\nWorkdays : Mon-Fri\\nWorkingHoursStart : 8:00 AM\\nWorkingHoursEnd : 5:00 PM\\nJob Schedule : Full-time\\nJob Type : Standard\\nEmployee Status : Regular\\nEmployee Group/Union Affiliation : NUE-NCAL-09|NUE|Non Union Employee\\nJob Level : Entry Level\\nJob Category : Research and Development\\nDepartment : Oakland Reg - 1950 Franklin - RI Center for Comm Health_Eval - 0206\\nTravel : No\\nKaiser Permanente is an equal opportunity employer committed to a diverse and inclusive workforce. Applicants will receive consideration for employment without regard to race, color, religion, sex (including pregnancy), age, sexual orientation, national origin, marital status, parental status, ancestry, disability, gender identity, veteran status, genetic information, other distinguishing characteristics of diversity and inclusion, or any other protected status.\\n\\nExternal hires must pass a background check/drug screen. Qualified applicants with arrest and/or conviction records will be considered for employment in a manner consistent with federal and state laws, as well as applicable local ordinances, including but not limited to the San Francisco and Los Angeles Fair Chance Ordinances.</td>\n",
       "      <td>None</td>\n",
       "      <td>4.1</td>\n",
       "      <td>[{'summary_text': ' Assists in training new study staff in protocols and implementation of study goals/objectives . Conducts telephone or in-person interviews with study participants and providers . Assists with all aspects of mailed surveys . Monitors participants' progress (e.g., blood pressure, exerciaries)'}]</td>\n",
       "    </tr>\n",
       "    <tr>\n",
       "      <th>2</th>\n",
       "      <td>Data Analyst_new</td>\n",
       "      <td>National Mortgage Insurance Corporation</td>\n",
       "      <td>Emeryville, CA 94608</td>\n",
       "      <td>The Analyst will be part of the Sales Effectiveness team with responsibility for owning and developing reporting and analysis tools.</td>\n",
       "      <td>POSITION SUMMARY\\nThe Analyst will be part of the Sales Effectiveness team with responsibility for owning and developing reporting and analysis tools. The Analyst will have broad organizational access to support the analytic and reporting needs at all levels of Sales and Risk Management.\\n\\nJOB DUTIES &amp; RESPONSIBILITIES\\n\\n\\nSupport organization-wide activities, both internally facing and in support of customer requests.\\nSupport Sales with analyses of lender production reports and provide findings to appropriate parties including account owner, sales leaders, and pricing department.\\nAssist in the development of presentations for various audiences including executive management, sales, and operations.\\nContribute to development and maintenance of large analytic datasets, both internal and externally sourced.\\nDevelop operational workflow reporting as well as risk-based analysis. Add insight to help drive decisions and process improvements.\\nCreate new reports and metrics, as needed.\\nAssist in implementation of new systems and software, as needed.\\nProvide analytics, insight, and opinion on trends and issues affecting the company, customers, and mortgage industry; may include customer benchmarking, competitor and industry analyses, and landscape changes relative to the Federal Housing Administration (FHA), Fannie Mae, Freddie Mac, and the Federal Housing Finance Agency (FHFA).\\nPerform ad hoc responsibilities, as needed.\\n\\nSKILLS &amp; KNOWLEDGE\\n\\n\\nBachelor's degree in business, accounting, economics, math, a related field, or equivalent work experience.\\nMinimum of 2-3 years of experience in an analytic and reporting capacity, preferably in support of an Operational, Accounting, or Finance group in a financial services industry-related role (Credit, Risk, Insurance, Mortgage, Real Estate).\\nProficiency in developing transaction? structured query language (T-SQL) scripting.\\nUnderstanding of stored procedures (MS SQL Server or comparable) is a plus.\\nAdvanced user of Microsoft Office suite tools for productivity, analytics and presentation.\\nAdvanced level in Excel pivot tables, charts, and graphs.\\nExecutive-quality PowerPoint presentations and interactive slide-shows.\\nFamiliarity with SharePoint 2010/2013.\\nExperience using Salesforce.com or comparable customer relationship management (CRM) solution is a plus.\\nExperience with DOMO, GoToWebinar, Zoom, and/or Skype is a plus.\\nMust be able to communicate, written and verbal, with technical and non-technical audiences.\\nAbility to work independently with support and guidance of manager.\\nStrong attention to detail and results-oriented.\\nStrong written and verbal communication skills.\\n\\nNational MI is an Equal Employment Opportunity employer and is committed to a diverse workforce. We value and actively seek to recruit, develop, and retain individuals with varied backgrounds and experiences reflecting the full diversity of the communities that we serve. It is the policy of the National MI to comply with all applicable laws concerning the employment of persons with disabilities.</td>\n",
       "      <td>None</td>\n",
       "      <td>None</td>\n",
       "      <td>[{'summary_text': ' The Analyst will have broad organizational access to support the analytic and reporting needs at all levels of Sales and Risk Management . He will be part of the Sales Effectiveness team with responsibility for owning and developing reporting and analysis tools . The Analyst is responsible for developing and maintaining large analytic datasets, both internal and externally sourced .'}]</td>\n",
       "    </tr>\n",
       "    <tr>\n",
       "      <th>3</th>\n",
       "      <td>SR Product Analyst - Chartio, SQL (Part-time Contract/REMOTE..._new</td>\n",
       "      <td>CyberCoders</td>\n",
       "      <td>San Francisco, CA 94107 (South Of Market area)</td>\n",
       "      <td>5+ years of data analytics product development.\\nExperience working with Segment (customer data platform).\\nThis person will not be tasked with analyzing data.</td>\n",
       "      <td>SR Product Analyst - Chartio, SQL (Part-time Contract/REMOTE)\\n100% REMOTE\\nPART-TIME\\nCONTRACT\\n\\nBased in the heart of San Francisco, our company builds next-generation software that helps governments worldwide to make expert, data-driven decisions regarding healthcare for developing countries. We've partnered with Ministries of Health, are raising millions in funding, and are on-target for a record-breaking year of revenue.\\nWhat You Will Be Doing\\nWe are looking for a contractor &amp; expert product analyst/developer to refresh/rebuild our dashboards and assist with the backlog of changes requested by our internal teams. We built the dashboards in-house but are running into errors and limitations due to the climbing amount of users and data, so we're needing a Chartio expert to clean up our mess and set us up for great success moving forward. This person will not be tasked with analyzing data.\\nWhat You Need for this Position\\n5+ years of data analytics product development\\n\\nAdvanced/Expert experience with Chartio\\n\\nHigh SQL proficiency\\n\\nExperience working with Segment (customer data platform)\\n..\\n\\nSo if you are a product developer with experience building features in dashboards using Chartio, apply today and email caroline.veillon@cybercoders.com with the best time + number to reach you!Applicants must be authorized to work in the U.S.\\nCyberCoders, Inc is proud to be an Equal Opportunity Employer\\n\\n\\nAll qualified applicants will receive consideration for employment without regard to race, color, religion, sex, national origin, disability, protected veteran status, or any other characteristic protected by law.\\n\\n\\nYour Right to Work – In compliance with federal law, all persons hired will be required to verify identity and eligibility to work in the United States and to complete the required employment eligibility verification document form upon hire.</td>\n",
       "      <td>None</td>\n",
       "      <td>3.2</td>\n",
       "      <td>[{'summary_text': ' We are looking for a contractor &amp; expert product analyst/developer to refresh/rebuild our dashboards and assist with the backlog of changes requested by our internal teams . We built the dashboards in-house but are running into errors and limitations due to the climbing amount of users and data . This person will not be tasked with analyzing data .'}]</td>\n",
       "    </tr>\n",
       "    <tr>\n",
       "      <th>4</th>\n",
       "      <td>Sr. PHP Developer_new</td>\n",
       "      <td>The Lead Group</td>\n",
       "      <td>United States</td>\n",
       "      <td>Excellent relational database skills with MySQL (PostgreSQL or SQL Server is OK too).\\nDevelop working knowledge of the data-model for the Search ROI &amp; Debt…</td>\n",
       "      <td>We are a rapidly growing Online Lead Generation company with offices in Kansas City &amp; Atlanta, and remote staff in Dallas &amp; Phoenix. We are looking to bring on a Sr. PHP Developer to help us build new features that empower our business efforts, scale APIs that handle thousands of requests per minute, and maintain existing applications while working with the latest cloud technologies.ResponsibilitiesWork with the Software Engineering Manager to develop and execute on multiple large-scale projects in parallelWrite “clean”, well-designed code that meets all provided product specificationsRefactor, optimize, and improve the existing codebase for maintenance and scaleDocument product architecture, sub-components, and the development processTroubleshoot, test, and maintain the core product software and databases to ensure strong optimization and functionalityContribute to all phases of the software development lifecycleMilestonesFirst 90 daysUnderstand the TLG business at a high level; you should be aware of what each application within each product line is responsible forBe fully up to speed on the existing dev processes (coding standards, deployment pipeline, automation testing); know the purpose of each code repository; know the purpose of each 3rd party tool being usedBe able to independently work on minor projects, some maintenance tasks, and review smaller PRsDevelop working knowledge of the data-model for the Search ROI &amp; Debt systemsFirst 6 monthsDevelop a much deeper understanding of the Search ROI &amp; Debt systems (codebases, data model, cloud infrastructure); and be able review PRs of any sizeTake full ownership of the API layer for Search ROI &amp; Debt systemsDevelop working knowledge of the Datawarehouse and be able to generate reports/alerts from itHave reviewed all existing documentation for the product; you should be comfortable with the business jargon and be able to place the various systems, acronyms, and abbreviations in the correct context &amp; flowWithin a yearBe the technical subject matter expert on all backend processesBe able to execute projects of any size, spanning multiple systems and stakeholders from start to finishRequirements7+ years of proven MVC software development experience using object-oriented PHP; experience with one of the major PHP frameworks (Laravel, Symphony, CodeIgniter, etc.) is a mustGood understanding of design patterns, and experience implementing those with PHPExcellent relational database skills with MySQL (PostgreSQL or SQL Server is OK too)Good knowledge of version control tools (preferably Git) and web technologies such as HTML, CSS, JQuery, JavaScript, AJAXExperience with microservices is a plusExperience with AWS (or any other public cloud) is a plusPassion for best design and coding practices and a desire to develop new bold ideasStrong analytical &amp; problem-solving skillsBS/MS degree in Computer Science, Engineering, or a related subjectBenefits: 100% remote environment availableCompetitive SalaryMedical, Dental, and Vision Insurance401(k) PlanPaid time offCasual working environmentJob Type: Full-time</td>\n",
       "      <td>None</td>\n",
       "      <td>None</td>\n",
       "      <td>[{'summary_text': ' We are looking to bring on a Sr. PHP Developer to help us build new features that empower our business efforts . We are a rapidly growing Online Lead Generation company with offices in Kansas City &amp; Atlanta, and remote staff in Dallas &amp; Phoenix .Responsibilities include writing “clean”, well-designed code that meets all provided product specifications .'}]</td>\n",
       "    </tr>\n",
       "  </tbody>\n",
       "</table>\n",
       "</div>"
      ],
      "text/plain": [
       "                                                                 title  ...                                                                                                                                                                                                                                                                                                                                                                                                           desc_summarizer\n",
       "0  Clinical Trial Research Coordinator I - South San Francisco,..._new  ...  [{'summary_text': ' The Clinical Trial Research Coordinator I (CTRC-I) assists in the operational and administrative research support of the Kaiser Permanente Northern California (KPNC) PI and KPNC Clinical Trials Operations Director or designee . This position is also responsible for assisting in protecting the health, safety, and welfare of research participants .'}]                                     \n",
       "1  Senior Research Assistant_new                                        ...  [{'summary_text': ' Assists in training new study staff in protocols and implementation of study goals/objectives . Conducts telephone or in-person interviews with study participants and providers . Assists with all aspects of mailed surveys . Monitors participants' progress (e.g., blood pressure, exerciaries)'}]                                                                                              \n",
       "2  Data Analyst_new                                                     ...  [{'summary_text': ' The Analyst will have broad organizational access to support the analytic and reporting needs at all levels of Sales and Risk Management . He will be part of the Sales Effectiveness team with responsibility for owning and developing reporting and analysis tools . The Analyst is responsible for developing and maintaining large analytic datasets, both internal and externally sourced .'}]\n",
       "3  SR Product Analyst - Chartio, SQL (Part-time Contract/REMOTE..._new  ...  [{'summary_text': ' We are looking for a contractor & expert product analyst/developer to refresh/rebuild our dashboards and assist with the backlog of changes requested by our internal teams . We built the dashboards in-house but are running into errors and limitations due to the climbing amount of users and data . This person will not be tasked with analyzing data .'}]                                   \n",
       "4  Sr. PHP Developer_new                                                ...  [{'summary_text': ' We are looking to bring on a Sr. PHP Developer to help us build new features that empower our business efforts . We are a rapidly growing Online Lead Generation company with offices in Kansas City & Atlanta, and remote staff in Dallas & Phoenix .Responsibilities include writing “clean”, well-designed code that meets all provided product specifications .'}]                              \n",
       "\n",
       "[5 rows x 8 columns]"
      ]
     },
     "execution_count": 9,
     "metadata": {
      "tags": []
     },
     "output_type": "execute_result"
    }
   ],
   "source": [
    "jobs_df.head()"
   ]
  },
  {
   "cell_type": "markdown",
   "metadata": {
    "id": "yVioP_sMMtbo"
   },
   "source": [
    "# save the output as `csv` and check the document"
   ]
  },
  {
   "cell_type": "code",
   "execution_count": 10,
   "metadata": {
    "id": "4U48K_akbLGl"
   },
   "outputs": [],
   "source": [
    "jobs_df.to_csv('jobs_summarized.csv')"
   ]
  },
  {
   "cell_type": "code",
   "execution_count": 16,
   "metadata": {
    "ExecuteTime": {
     "end_time": "2021-02-17T23:48:53.007835Z",
     "start_time": "2021-02-17T23:48:52.985966Z"
    },
    "id": "BlvoV2zsbUM_"
   },
   "outputs": [],
   "source": [
    "jobs_df = pd.read_csv('jobs_summarized.csv')"
   ]
  },
  {
   "cell_type": "code",
   "execution_count": 14,
   "metadata": {
    "ExecuteTime": {
     "end_time": "2021-02-17T23:51:05.018967Z",
     "start_time": "2021-02-17T23:51:05.009910Z"
    },
    "id": "IpR-adqXusO8"
   },
   "outputs": [],
   "source": [
    "jobs_df.drop(columns=['Unnamed: 0'], inplace=True)"
   ]
  },
  {
   "cell_type": "code",
   "execution_count": 15,
   "metadata": {
    "ExecuteTime": {
     "end_time": "2021-02-17T23:51:40.895101Z",
     "start_time": "2021-02-17T23:51:40.874783Z"
    },
    "colab": {
     "base_uri": "https://localhost:8080/",
     "height": 1000
    },
    "id": "NOPqd_rWusO9",
    "outputId": "23f03905-0a74-42d3-ce31-5bf715ebcb51"
   },
   "outputs": [
    {
     "data": {
      "text/html": [
       "<div>\n",
       "<style scoped>\n",
       "    .dataframe tbody tr th:only-of-type {\n",
       "        vertical-align: middle;\n",
       "    }\n",
       "\n",
       "    .dataframe tbody tr th {\n",
       "        vertical-align: top;\n",
       "    }\n",
       "\n",
       "    .dataframe thead th {\n",
       "        text-align: right;\n",
       "    }\n",
       "</style>\n",
       "<table border=\"1\" class=\"dataframe\">\n",
       "  <thead>\n",
       "    <tr style=\"text-align: right;\">\n",
       "      <th></th>\n",
       "      <th>title</th>\n",
       "      <th>company</th>\n",
       "      <th>location</th>\n",
       "      <th>summary</th>\n",
       "      <th>description</th>\n",
       "      <th>salary</th>\n",
       "      <th>rating</th>\n",
       "      <th>desc_summarizer</th>\n",
       "    </tr>\n",
       "  </thead>\n",
       "  <tbody>\n",
       "    <tr>\n",
       "      <th>0</th>\n",
       "      <td>Clinical Trial Research Coordinator I - South San Francisco,..._new</td>\n",
       "      <td>Kaiser Permanente</td>\n",
       "      <td>San Francisco, CA</td>\n",
       "      <td>Assist in the collection of protocol-required data w/ timely &amp; accurate submissions as required by Sponsor (e.g., weekly screening log, routine electronic data…</td>\n",
       "      <td>The Clinical Trial Research Coordinator I (CTRC-I) is a novice level position which, under the clinical direction of the Principal Investigator (PI), assists in the operational and administrative research support of the Kaiser Permanente Northern California (KPNC) PI and KPNC Clinical Trials Operations Director or designee, and other research staff conducting multiple FDA-regulated clinical trials. This is a non-licensed position which works under the daily supervision of an experienced Clinical Trial Nurse, Clinical Trial Research Coordinator, and/or KFRI-designated, licensed clinical trial research staff member. This position must adhere to the position's scope of practice as outlined in the Major Responsibilities below. This position is also responsible for assisting in protecting the health, safety, and welfare of research participants.\\n\\n\\n\\nEssential Functions:\\nComplianceSupport &amp; comply w/ the Principles of Responsibility (Kaiser Permanente Code of Conduct). W/ guidance from PI, assist w/ ensuring compliance w/ KPNC IRB Standard Operating Procedures (SOP) &amp; document applications. Adhere to Guideline for Good Clinical Practice (GCP), federal, state, &amp; local regulations, &amp; KP policies &amp; procedures. W/ supervision, assist w/ preparation for inspections, audits &amp; monitoring visits.Study Implementation: Maintain the security &amp; confidentiality of participants' paper or electronic data (e.g., case report forms kept in a secure, locked space). Assist w/ scheduling participants for study assessments/visits, required tests including visit-specific laboratory kits and/or paperwork preparation. Prepare packets for participants (e.g., instructions, phone numbers, calendars, diaries, etc.).\\nAssist w/ obtaining medical records &amp; test results for all projects/participants. w/ supervision &amp; certification, perform packaging &amp; shipping of protocol specimens to the Sponsor lab in accordance w/ IATA/DOT regulations &amp; Sponsor shipping guidelines. Direct issues requiring medical decision-making to the appropriate licensed staff member promptly.\\nProvide PI and/or Clinical Trial Nurse w/ the ongoing informed consent process by coordinating the current consent documents. According to protocol and/or IRB-approved telephone script, collect &amp; document research data in a timely manner, &amp; report the information to the appropriate licensed staff member &amp; PI for assessment. Assist in the collection of protocol-required data w/ timely &amp; accurate submissions as required by Sponsor (e.g., weekly screening log, routine electronic data submissions).\\nUnder specific direction, assist w/ data entry of study activity onto a case report form (paper or electronic), &amp; maintain a database program to track all study activity (i.e., study enrollment &amp; consents). Assist in maintaining research charts &amp; site regulatory files. Assist in ensuring that study-related, non-test article supplies are shipped &amp; re-supplied according to protocol, including tracking expiration dates. Assist in obtaining protocol specific regulatory documents including MDs/RNs licenses &amp; CVs.\\nReport any potential protocol violations/deviations to the PI in a timely manner. Support the regulatory team in the maintenance &amp; storage of critical documents required to be maintained &amp; provided to the Sponsor during the conduct of the trial. W/ supervision, assist in study closure activities including preparation &amp; collection of close-out documentation, &amp; preparation of study files for distribution to longterm storage.\\nThis job description is not all encompassing.\\nBasic Qualifications:\\nExperience\\nN/A.\\nEducation\\nAssociate's degree or higher OR two (2) years of work experience in an ambulatory and/or acute health care setting required (LVN maybe substituted for an Associate's degree)High School Diploma or General Education Development (GED) required.\\nLicense, Certification, Registration\\nN/A.\\nAdditional Requirements:\\nWillingness to obtain IATA/DOT certification prior to start date.Current BLS certification required prior to start date.Satisfies requirements for career advancement/maintenance as defined by the Clinical Trial Career Ladder Program.Must be proficient in electronic health systems and databases used in research environment and word-processing or willingness to learn within 3 months of hire.Demonstrate organizational and communication skills.Demonstrate written, verbal, and interpersonal communication skills.Demonstrate proficiency in medical terminology.Demonstrate attention to detail and accuracy.Ability to manage multiple tasks.Demonstrate good prioritization and organizational skills.Ability to be flexible and dependable.Ability to work effectively on cross-functional teams.Present professional manner and appearance.Demonstrated skill in administrative tasks (i.e., filing, photocopying, faxing, etc.).Knowledge of GCP, federal, state, and local regulations including HIPAA and KP policies and procedures.Must be able to work in a Labor Partnership environment.\\nPreferred Qualifications:\\nClinical trials experience preferred.\\nPrimaryLocation : California,South San Francisco,S. San Francisco Medical Offices\\nHoursPerWeek : 40\\nShift : Day\\nWorkdays : Variable\\nWorkingHoursStart : 08:30 AM\\nWorkingHoursEnd : 05:00 PM\\nJob Schedule : Full-time\\nJob Type : Standard\\nEmployee Status : Regular\\nEmployee Group/Union Affiliation : CNV-NUE|NUE|Non Union Employee\\nJob Level : Entry Level\\nJob Category : Research and Development\\nDepartment : Oakland Reg - 2000 Broadway - Rsrch-Invstgtr Staffg Mdl Dept - 0201\\nTravel : No\\nKaiser Permanente is an equal opportunity employer committed to a diverse and inclusive workforce. Applicants will receive consideration for employment without regard to race, color, religion, sex (including pregnancy), age, sexual orientation, national origin, marital status, parental status, ancestry, disability, gender identity, veteran status, genetic information, other distinguishing characteristics of diversity and inclusion, or any other protected status.\\n\\nExternal hires must pass a background check/drug screen. Qualified applicants with arrest and/or conviction records will be considered for employment in a manner consistent with federal and state laws, as well as applicable local ordinances, including but not limited to the San Francisco and Los Angeles Fair Chance Ordinances.</td>\n",
       "      <td>None</td>\n",
       "      <td>4.1</td>\n",
       "      <td>[{'summary_text': ' The Clinical Trial Research Coordinator I (CTRC-I) assists in the operational and administrative research support of the Kaiser Permanente Northern California (KPNC) PI and KPNC Clinical Trials Operations Director or designee . This position is also responsible for assisting in protecting the health, safety, and welfare of research participants .'}]</td>\n",
       "    </tr>\n",
       "    <tr>\n",
       "      <th>1</th>\n",
       "      <td>Senior Research Assistant_new</td>\n",
       "      <td>Kaiser Permanente</td>\n",
       "      <td>Oakland, CA</td>\n",
       "      <td>Provides basic data management using database software.\\nTranscribes data from records to forms.\\nUses computer software to provide basic data management and…</td>\n",
       "      <td>Conducts telephone or in-person interviews with study participants. Recruits and consents study participants. Assists in training new study staff in study protocols and provides instruction to study participants. Uses computer software to provide basic data management and generate reports.\\nEssential Functions:\\nAssists in training new study staff in protocols and implementation of study goals/objectives. Provides instruction to participants to teach them how to perform specific study protocols. Prepares computergenerated reports, including statistical tables. Answers participants' and providers' questions. Screens and recruits participants; obtains consent.Schedules examination appointments for study participants. Conducts telephone or in-person interviews with study participants and providers. Reviews questionnaires for completeness and accuracy; checks for inconsistencies; and codes open-ended questions. Assists with all aspects of mailed surveys. Monitors participants' progress (e.g., blood pressure, exercise, response to questionnaires, tracking, etc.). Provides basic data management using database software. Maintains all pertinent project records and files. Transcribes data from records to forms.Kaiser Permanente conducts compensation reviews of positions on a routine basis. At any time, Kaiser Permanente reserves the right to reevaluate and change job descriptions, or to change such positions from salaried to hourly pay status. Such changes are generally implemented only after notice is given to affected employees.\\nBasic Qualifications:\\nExperience\\nMinimum one (1) year of experience in a research/health care environment required (Bachelor's degree may substitute for experience in field).\\nEducation\\nAssociate's degree OR two (2) years of experience in a directly related field.High School Diploma or General Education Development (GED) required.\\nLicenses, Certifications, Registrations\\nN/A.\\nAdditional Requirements:\\nExperience with computer applications, such as word processing and database software, required.Experience in editing/coding questionnaires required.Interviewing experience required.Excellent interpersonal and communication skills; telephone skills required.Familiar with medical terminology.Must be able to work in a Labor/Management Partnership environment.\\n Preferred Qualifications:\\nBachelor's degree OR four (4) years of experience in a directly related field preferred.\\nPrimaryLocation : California,Oakland,2000 Broadway\\nHoursPerWeek : 40\\nShift : Day\\nWorkdays : Mon-Fri\\nWorkingHoursStart : 8:00 AM\\nWorkingHoursEnd : 5:00 PM\\nJob Schedule : Full-time\\nJob Type : Standard\\nEmployee Status : Regular\\nEmployee Group/Union Affiliation : NUE-NCAL-09|NUE|Non Union Employee\\nJob Level : Entry Level\\nJob Category : Research and Development\\nDepartment : Oakland Reg - 1950 Franklin - RI Center for Comm Health_Eval - 0206\\nTravel : No\\nKaiser Permanente is an equal opportunity employer committed to a diverse and inclusive workforce. Applicants will receive consideration for employment without regard to race, color, religion, sex (including pregnancy), age, sexual orientation, national origin, marital status, parental status, ancestry, disability, gender identity, veteran status, genetic information, other distinguishing characteristics of diversity and inclusion, or any other protected status.\\n\\nExternal hires must pass a background check/drug screen. Qualified applicants with arrest and/or conviction records will be considered for employment in a manner consistent with federal and state laws, as well as applicable local ordinances, including but not limited to the San Francisco and Los Angeles Fair Chance Ordinances.</td>\n",
       "      <td>None</td>\n",
       "      <td>4.1</td>\n",
       "      <td>[{'summary_text': \" Assists in training new study staff in protocols and implementation of study goals/objectives . Conducts telephone or in-person interviews with study participants and providers . Assists with all aspects of mailed surveys . Monitors participants' progress (e.g., blood pressure, exerciaries)\"}]</td>\n",
       "    </tr>\n",
       "    <tr>\n",
       "      <th>2</th>\n",
       "      <td>Data Analyst_new</td>\n",
       "      <td>National Mortgage Insurance Corporation</td>\n",
       "      <td>Emeryville, CA 94608</td>\n",
       "      <td>The Analyst will be part of the Sales Effectiveness team with responsibility for owning and developing reporting and analysis tools.</td>\n",
       "      <td>POSITION SUMMARY\\nThe Analyst will be part of the Sales Effectiveness team with responsibility for owning and developing reporting and analysis tools. The Analyst will have broad organizational access to support the analytic and reporting needs at all levels of Sales and Risk Management.\\n\\nJOB DUTIES &amp; RESPONSIBILITIES\\n\\n\\nSupport organization-wide activities, both internally facing and in support of customer requests.\\nSupport Sales with analyses of lender production reports and provide findings to appropriate parties including account owner, sales leaders, and pricing department.\\nAssist in the development of presentations for various audiences including executive management, sales, and operations.\\nContribute to development and maintenance of large analytic datasets, both internal and externally sourced.\\nDevelop operational workflow reporting as well as risk-based analysis. Add insight to help drive decisions and process improvements.\\nCreate new reports and metrics, as needed.\\nAssist in implementation of new systems and software, as needed.\\nProvide analytics, insight, and opinion on trends and issues affecting the company, customers, and mortgage industry; may include customer benchmarking, competitor and industry analyses, and landscape changes relative to the Federal Housing Administration (FHA), Fannie Mae, Freddie Mac, and the Federal Housing Finance Agency (FHFA).\\nPerform ad hoc responsibilities, as needed.\\n\\nSKILLS &amp; KNOWLEDGE\\n\\n\\nBachelor's degree in business, accounting, economics, math, a related field, or equivalent work experience.\\nMinimum of 2-3 years of experience in an analytic and reporting capacity, preferably in support of an Operational, Accounting, or Finance group in a financial services industry-related role (Credit, Risk, Insurance, Mortgage, Real Estate).\\nProficiency in developing transaction? structured query language (T-SQL) scripting.\\nUnderstanding of stored procedures (MS SQL Server or comparable) is a plus.\\nAdvanced user of Microsoft Office suite tools for productivity, analytics and presentation.\\nAdvanced level in Excel pivot tables, charts, and graphs.\\nExecutive-quality PowerPoint presentations and interactive slide-shows.\\nFamiliarity with SharePoint 2010/2013.\\nExperience using Salesforce.com or comparable customer relationship management (CRM) solution is a plus.\\nExperience with DOMO, GoToWebinar, Zoom, and/or Skype is a plus.\\nMust be able to communicate, written and verbal, with technical and non-technical audiences.\\nAbility to work independently with support and guidance of manager.\\nStrong attention to detail and results-oriented.\\nStrong written and verbal communication skills.\\n\\nNational MI is an Equal Employment Opportunity employer and is committed to a diverse workforce. We value and actively seek to recruit, develop, and retain individuals with varied backgrounds and experiences reflecting the full diversity of the communities that we serve. It is the policy of the National MI to comply with all applicable laws concerning the employment of persons with disabilities.</td>\n",
       "      <td>None</td>\n",
       "      <td>None</td>\n",
       "      <td>[{'summary_text': ' The Analyst will have broad organizational access to support the analytic and reporting needs at all levels of Sales and Risk Management . He will be part of the Sales Effectiveness team with responsibility for owning and developing reporting and analysis tools . The Analyst is responsible for developing and maintaining large analytic datasets, both internal and externally sourced .'}]</td>\n",
       "    </tr>\n",
       "    <tr>\n",
       "      <th>3</th>\n",
       "      <td>SR Product Analyst - Chartio, SQL (Part-time Contract/REMOTE..._new</td>\n",
       "      <td>CyberCoders</td>\n",
       "      <td>San Francisco, CA 94107 (South Of Market area)</td>\n",
       "      <td>5+ years of data analytics product development.\\nExperience working with Segment (customer data platform).\\nThis person will not be tasked with analyzing data.</td>\n",
       "      <td>SR Product Analyst - Chartio, SQL (Part-time Contract/REMOTE)\\n100% REMOTE\\nPART-TIME\\nCONTRACT\\n\\nBased in the heart of San Francisco, our company builds next-generation software that helps governments worldwide to make expert, data-driven decisions regarding healthcare for developing countries. We've partnered with Ministries of Health, are raising millions in funding, and are on-target for a record-breaking year of revenue.\\nWhat You Will Be Doing\\nWe are looking for a contractor &amp; expert product analyst/developer to refresh/rebuild our dashboards and assist with the backlog of changes requested by our internal teams. We built the dashboards in-house but are running into errors and limitations due to the climbing amount of users and data, so we're needing a Chartio expert to clean up our mess and set us up for great success moving forward. This person will not be tasked with analyzing data.\\nWhat You Need for this Position\\n5+ years of data analytics product development\\n\\nAdvanced/Expert experience with Chartio\\n\\nHigh SQL proficiency\\n\\nExperience working with Segment (customer data platform)\\n..\\n\\nSo if you are a product developer with experience building features in dashboards using Chartio, apply today and email caroline.veillon@cybercoders.com with the best time + number to reach you!Applicants must be authorized to work in the U.S.\\nCyberCoders, Inc is proud to be an Equal Opportunity Employer\\n\\n\\nAll qualified applicants will receive consideration for employment without regard to race, color, religion, sex, national origin, disability, protected veteran status, or any other characteristic protected by law.\\n\\n\\nYour Right to Work – In compliance with federal law, all persons hired will be required to verify identity and eligibility to work in the United States and to complete the required employment eligibility verification document form upon hire.</td>\n",
       "      <td>None</td>\n",
       "      <td>3.2</td>\n",
       "      <td>[{'summary_text': ' We are looking for a contractor &amp; expert product analyst/developer to refresh/rebuild our dashboards and assist with the backlog of changes requested by our internal teams . We built the dashboards in-house but are running into errors and limitations due to the climbing amount of users and data . This person will not be tasked with analyzing data .'}]</td>\n",
       "    </tr>\n",
       "    <tr>\n",
       "      <th>4</th>\n",
       "      <td>Sr. PHP Developer_new</td>\n",
       "      <td>The Lead Group</td>\n",
       "      <td>United States</td>\n",
       "      <td>Excellent relational database skills with MySQL (PostgreSQL or SQL Server is OK too).\\nDevelop working knowledge of the data-model for the Search ROI &amp; Debt…</td>\n",
       "      <td>We are a rapidly growing Online Lead Generation company with offices in Kansas City &amp; Atlanta, and remote staff in Dallas &amp; Phoenix. We are looking to bring on a Sr. PHP Developer to help us build new features that empower our business efforts, scale APIs that handle thousands of requests per minute, and maintain existing applications while working with the latest cloud technologies.ResponsibilitiesWork with the Software Engineering Manager to develop and execute on multiple large-scale projects in parallelWrite “clean”, well-designed code that meets all provided product specificationsRefactor, optimize, and improve the existing codebase for maintenance and scaleDocument product architecture, sub-components, and the development processTroubleshoot, test, and maintain the core product software and databases to ensure strong optimization and functionalityContribute to all phases of the software development lifecycleMilestonesFirst 90 daysUnderstand the TLG business at a high level; you should be aware of what each application within each product line is responsible forBe fully up to speed on the existing dev processes (coding standards, deployment pipeline, automation testing); know the purpose of each code repository; know the purpose of each 3rd party tool being usedBe able to independently work on minor projects, some maintenance tasks, and review smaller PRsDevelop working knowledge of the data-model for the Search ROI &amp; Debt systemsFirst 6 monthsDevelop a much deeper understanding of the Search ROI &amp; Debt systems (codebases, data model, cloud infrastructure); and be able review PRs of any sizeTake full ownership of the API layer for Search ROI &amp; Debt systemsDevelop working knowledge of the Datawarehouse and be able to generate reports/alerts from itHave reviewed all existing documentation for the product; you should be comfortable with the business jargon and be able to place the various systems, acronyms, and abbreviations in the correct context &amp; flowWithin a yearBe the technical subject matter expert on all backend processesBe able to execute projects of any size, spanning multiple systems and stakeholders from start to finishRequirements7+ years of proven MVC software development experience using object-oriented PHP; experience with one of the major PHP frameworks (Laravel, Symphony, CodeIgniter, etc.) is a mustGood understanding of design patterns, and experience implementing those with PHPExcellent relational database skills with MySQL (PostgreSQL or SQL Server is OK too)Good knowledge of version control tools (preferably Git) and web technologies such as HTML, CSS, JQuery, JavaScript, AJAXExperience with microservices is a plusExperience with AWS (or any other public cloud) is a plusPassion for best design and coding practices and a desire to develop new bold ideasStrong analytical &amp; problem-solving skillsBS/MS degree in Computer Science, Engineering, or a related subjectBenefits: 100% remote environment availableCompetitive SalaryMedical, Dental, and Vision Insurance401(k) PlanPaid time offCasual working environmentJob Type: Full-time</td>\n",
       "      <td>None</td>\n",
       "      <td>None</td>\n",
       "      <td>[{'summary_text': ' We are looking to bring on a Sr. PHP Developer to help us build new features that empower our business efforts . We are a rapidly growing Online Lead Generation company with offices in Kansas City &amp; Atlanta, and remote staff in Dallas &amp; Phoenix .Responsibilities include writing “clean”, well-designed code that meets all provided product specifications .'}]</td>\n",
       "    </tr>\n",
       "  </tbody>\n",
       "</table>\n",
       "</div>"
      ],
      "text/plain": [
       "                                                                 title  ...                                                                                                                                                                                                                                                                                                                                                                                                           desc_summarizer\n",
       "0  Clinical Trial Research Coordinator I - South San Francisco,..._new  ...  [{'summary_text': ' The Clinical Trial Research Coordinator I (CTRC-I) assists in the operational and administrative research support of the Kaiser Permanente Northern California (KPNC) PI and KPNC Clinical Trials Operations Director or designee . This position is also responsible for assisting in protecting the health, safety, and welfare of research participants .'}]                                     \n",
       "1  Senior Research Assistant_new                                        ...  [{'summary_text': \" Assists in training new study staff in protocols and implementation of study goals/objectives . Conducts telephone or in-person interviews with study participants and providers . Assists with all aspects of mailed surveys . Monitors participants' progress (e.g., blood pressure, exerciaries)\"}]                                                                                              \n",
       "2  Data Analyst_new                                                     ...  [{'summary_text': ' The Analyst will have broad organizational access to support the analytic and reporting needs at all levels of Sales and Risk Management . He will be part of the Sales Effectiveness team with responsibility for owning and developing reporting and analysis tools . The Analyst is responsible for developing and maintaining large analytic datasets, both internal and externally sourced .'}]\n",
       "3  SR Product Analyst - Chartio, SQL (Part-time Contract/REMOTE..._new  ...  [{'summary_text': ' We are looking for a contractor & expert product analyst/developer to refresh/rebuild our dashboards and assist with the backlog of changes requested by our internal teams . We built the dashboards in-house but are running into errors and limitations due to the climbing amount of users and data . This person will not be tasked with analyzing data .'}]                                   \n",
       "4  Sr. PHP Developer_new                                                ...  [{'summary_text': ' We are looking to bring on a Sr. PHP Developer to help us build new features that empower our business efforts . We are a rapidly growing Online Lead Generation company with offices in Kansas City & Atlanta, and remote staff in Dallas & Phoenix .Responsibilities include writing “clean”, well-designed code that meets all provided product specifications .'}]                              \n",
       "\n",
       "[5 rows x 8 columns]"
      ]
     },
     "execution_count": 15,
     "metadata": {
      "tags": []
     },
     "output_type": "execute_result"
    }
   ],
   "source": [
    "jobs_df.head()"
   ]
  },
  {
   "cell_type": "code",
   "execution_count": null,
   "metadata": {
    "id": "b1j-rwP4usO9"
   },
   "outputs": [],
   "source": []
  }
 ],
 "metadata": {
  "accelerator": "GPU",
  "colab": {
   "name": "jobs_summarizer.ipynb",
   "provenance": [],
   "toc_visible": true
  },
  "kernelspec": {
   "display_name": "Python 3",
   "language": "python",
   "name": "python3"
  },
  "language_info": {
   "codemirror_mode": {
    "name": "ipython",
    "version": 3
   },
   "file_extension": ".py",
   "mimetype": "text/x-python",
   "name": "python",
   "nbconvert_exporter": "python",
   "pygments_lexer": "ipython3",
   "version": "3.8.5"
  },
  "toc": {
   "base_numbering": 1,
   "nav_menu": {},
   "number_sections": true,
   "sideBar": true,
   "skip_h1_title": false,
   "title_cell": "Table of Contents",
   "title_sidebar": "Contents",
   "toc_cell": false,
   "toc_position": {},
   "toc_section_display": true,
   "toc_window_display": true
  },
  "varInspector": {
   "cols": {
    "lenName": 16,
    "lenType": 16,
    "lenVar": 40
   },
   "kernels_config": {
    "python": {
     "delete_cmd_postfix": "",
     "delete_cmd_prefix": "del ",
     "library": "var_list.py",
     "varRefreshCmd": "print(var_dic_list())"
    },
    "r": {
     "delete_cmd_postfix": ") ",
     "delete_cmd_prefix": "rm(",
     "library": "var_list.r",
     "varRefreshCmd": "cat(var_dic_list()) "
    }
   },
   "types_to_exclude": [
    "module",
    "function",
    "builtin_function_or_method",
    "instance",
    "_Feature"
   ],
   "window_display": false
  },
  "widgets": {
   "application/vnd.jupyter.widget-state+json": {
    "13284b929f2749fb9c0d9bae98fcdcf0": {
     "model_module": "@jupyter-widgets/controls",
     "model_name": "ProgressStyleModel",
     "state": {
      "_model_module": "@jupyter-widgets/controls",
      "_model_module_version": "1.5.0",
      "_model_name": "ProgressStyleModel",
      "_view_count": null,
      "_view_module": "@jupyter-widgets/base",
      "_view_module_version": "1.2.0",
      "_view_name": "StyleView",
      "bar_color": null,
      "description_width": "initial"
     }
    },
    "1740c113e2b34bf9b29a40cb412611eb": {
     "model_module": "@jupyter-widgets/controls",
     "model_name": "HBoxModel",
     "state": {
      "_dom_classes": [],
      "_model_module": "@jupyter-widgets/controls",
      "_model_module_version": "1.5.0",
      "_model_name": "HBoxModel",
      "_view_count": null,
      "_view_module": "@jupyter-widgets/controls",
      "_view_module_version": "1.5.0",
      "_view_name": "HBoxView",
      "box_style": "",
      "children": [
       "IPY_MODEL_30169534f42d408dad64f985d22f6a1b",
       "IPY_MODEL_f85872248fb445c090d62ddb3bcaf785"
      ],
      "layout": "IPY_MODEL_3520bfead0544981afafa56f4e25da8f"
     }
    },
    "1a5feb342ae14e96a3c81def5d1c1eb9": {
     "model_module": "@jupyter-widgets/base",
     "model_name": "LayoutModel",
     "state": {
      "_model_module": "@jupyter-widgets/base",
      "_model_module_version": "1.2.0",
      "_model_name": "LayoutModel",
      "_view_count": null,
      "_view_module": "@jupyter-widgets/base",
      "_view_module_version": "1.2.0",
      "_view_name": "LayoutView",
      "align_content": null,
      "align_items": null,
      "align_self": null,
      "border": null,
      "bottom": null,
      "display": null,
      "flex": null,
      "flex_flow": null,
      "grid_area": null,
      "grid_auto_columns": null,
      "grid_auto_flow": null,
      "grid_auto_rows": null,
      "grid_column": null,
      "grid_gap": null,
      "grid_row": null,
      "grid_template_areas": null,
      "grid_template_columns": null,
      "grid_template_rows": null,
      "height": null,
      "justify_content": null,
      "justify_items": null,
      "left": null,
      "margin": null,
      "max_height": null,
      "max_width": null,
      "min_height": null,
      "min_width": null,
      "object_fit": null,
      "object_position": null,
      "order": null,
      "overflow": null,
      "overflow_x": null,
      "overflow_y": null,
      "padding": null,
      "right": null,
      "top": null,
      "visibility": null,
      "width": null
     }
    },
    "1eca62ca54e746e9a76de7517d3028c4": {
     "model_module": "@jupyter-widgets/base",
     "model_name": "LayoutModel",
     "state": {
      "_model_module": "@jupyter-widgets/base",
      "_model_module_version": "1.2.0",
      "_model_name": "LayoutModel",
      "_view_count": null,
      "_view_module": "@jupyter-widgets/base",
      "_view_module_version": "1.2.0",
      "_view_name": "LayoutView",
      "align_content": null,
      "align_items": null,
      "align_self": null,
      "border": null,
      "bottom": null,
      "display": null,
      "flex": null,
      "flex_flow": null,
      "grid_area": null,
      "grid_auto_columns": null,
      "grid_auto_flow": null,
      "grid_auto_rows": null,
      "grid_column": null,
      "grid_gap": null,
      "grid_row": null,
      "grid_template_areas": null,
      "grid_template_columns": null,
      "grid_template_rows": null,
      "height": null,
      "justify_content": null,
      "justify_items": null,
      "left": null,
      "margin": null,
      "max_height": null,
      "max_width": null,
      "min_height": null,
      "min_width": null,
      "object_fit": null,
      "object_position": null,
      "order": null,
      "overflow": null,
      "overflow_x": null,
      "overflow_y": null,
      "padding": null,
      "right": null,
      "top": null,
      "visibility": null,
      "width": null
     }
    },
    "2217acfa739942858978766bae60969e": {
     "model_module": "@jupyter-widgets/base",
     "model_name": "LayoutModel",
     "state": {
      "_model_module": "@jupyter-widgets/base",
      "_model_module_version": "1.2.0",
      "_model_name": "LayoutModel",
      "_view_count": null,
      "_view_module": "@jupyter-widgets/base",
      "_view_module_version": "1.2.0",
      "_view_name": "LayoutView",
      "align_content": null,
      "align_items": null,
      "align_self": null,
      "border": null,
      "bottom": null,
      "display": null,
      "flex": null,
      "flex_flow": null,
      "grid_area": null,
      "grid_auto_columns": null,
      "grid_auto_flow": null,
      "grid_auto_rows": null,
      "grid_column": null,
      "grid_gap": null,
      "grid_row": null,
      "grid_template_areas": null,
      "grid_template_columns": null,
      "grid_template_rows": null,
      "height": null,
      "justify_content": null,
      "justify_items": null,
      "left": null,
      "margin": null,
      "max_height": null,
      "max_width": null,
      "min_height": null,
      "min_width": null,
      "object_fit": null,
      "object_position": null,
      "order": null,
      "overflow": null,
      "overflow_x": null,
      "overflow_y": null,
      "padding": null,
      "right": null,
      "top": null,
      "visibility": null,
      "width": null
     }
    },
    "2545e68456604da2a53cd28320a1fb41": {
     "model_module": "@jupyter-widgets/controls",
     "model_name": "HBoxModel",
     "state": {
      "_dom_classes": [],
      "_model_module": "@jupyter-widgets/controls",
      "_model_module_version": "1.5.0",
      "_model_name": "HBoxModel",
      "_view_count": null,
      "_view_module": "@jupyter-widgets/controls",
      "_view_module_version": "1.5.0",
      "_view_name": "HBoxView",
      "box_style": "",
      "children": [
       "IPY_MODEL_2f4d1a0b2199487189439c1482b9ffaf",
       "IPY_MODEL_3611179ab3f5466a8c28d04b8ec8236d"
      ],
      "layout": "IPY_MODEL_648c1028999b42e7bac510ebc6939f22"
     }
    },
    "2950869aafc440cbb33ba2f61229ede4": {
     "model_module": "@jupyter-widgets/controls",
     "model_name": "DescriptionStyleModel",
     "state": {
      "_model_module": "@jupyter-widgets/controls",
      "_model_module_version": "1.5.0",
      "_model_name": "DescriptionStyleModel",
      "_view_count": null,
      "_view_module": "@jupyter-widgets/base",
      "_view_module_version": "1.2.0",
      "_view_name": "StyleView",
      "description_width": ""
     }
    },
    "2973a5df64ee4227a10ae8c0c2fa848b": {
     "model_module": "@jupyter-widgets/controls",
     "model_name": "HTMLModel",
     "state": {
      "_dom_classes": [],
      "_model_module": "@jupyter-widgets/controls",
      "_model_module_version": "1.5.0",
      "_model_name": "HTMLModel",
      "_view_count": null,
      "_view_module": "@jupyter-widgets/controls",
      "_view_module_version": "1.5.0",
      "_view_name": "HTMLView",
      "description": "",
      "description_tooltip": null,
      "layout": "IPY_MODEL_569f4cfc23bb4b759e05bad8307e12db",
      "placeholder": "​",
      "style": "IPY_MODEL_78bd7c433ffa438b9940dfc2ce25f7ac",
      "value": " 1.62k/1.62k [00:26&lt;00:00, 62.2B/s]"
     }
    },
    "2e1914486ce04f1f968884a7fa297c50": {
     "model_module": "@jupyter-widgets/base",
     "model_name": "LayoutModel",
     "state": {
      "_model_module": "@jupyter-widgets/base",
      "_model_module_version": "1.2.0",
      "_model_name": "LayoutModel",
      "_view_count": null,
      "_view_module": "@jupyter-widgets/base",
      "_view_module_version": "1.2.0",
      "_view_name": "LayoutView",
      "align_content": null,
      "align_items": null,
      "align_self": null,
      "border": null,
      "bottom": null,
      "display": null,
      "flex": null,
      "flex_flow": null,
      "grid_area": null,
      "grid_auto_columns": null,
      "grid_auto_flow": null,
      "grid_auto_rows": null,
      "grid_column": null,
      "grid_gap": null,
      "grid_row": null,
      "grid_template_areas": null,
      "grid_template_columns": null,
      "grid_template_rows": null,
      "height": null,
      "justify_content": null,
      "justify_items": null,
      "left": null,
      "margin": null,
      "max_height": null,
      "max_width": null,
      "min_height": null,
      "min_width": null,
      "object_fit": null,
      "object_position": null,
      "order": null,
      "overflow": null,
      "overflow_x": null,
      "overflow_y": null,
      "padding": null,
      "right": null,
      "top": null,
      "visibility": null,
      "width": null
     }
    },
    "2f285581c8cc4e46bece3f4cb0f53791": {
     "model_module": "@jupyter-widgets/controls",
     "model_name": "ProgressStyleModel",
     "state": {
      "_model_module": "@jupyter-widgets/controls",
      "_model_module_version": "1.5.0",
      "_model_name": "ProgressStyleModel",
      "_view_count": null,
      "_view_module": "@jupyter-widgets/base",
      "_view_module_version": "1.2.0",
      "_view_name": "StyleView",
      "bar_color": null,
      "description_width": "initial"
     }
    },
    "2f4d1a0b2199487189439c1482b9ffaf": {
     "model_module": "@jupyter-widgets/controls",
     "model_name": "FloatProgressModel",
     "state": {
      "_dom_classes": [],
      "_model_module": "@jupyter-widgets/controls",
      "_model_module_version": "1.5.0",
      "_model_name": "FloatProgressModel",
      "_view_count": null,
      "_view_module": "@jupyter-widgets/controls",
      "_view_module_version": "1.5.0",
      "_view_name": "ProgressView",
      "bar_style": "success",
      "description": "Downloading: 100%",
      "description_tooltip": null,
      "layout": "IPY_MODEL_9766ee10d5df48ad987446d1e79ed294",
      "max": 898822,
      "min": 0,
      "orientation": "horizontal",
      "style": "IPY_MODEL_a60251d3b1d148a5b934db7f6b42eed9",
      "value": 898822
     }
    },
    "30169534f42d408dad64f985d22f6a1b": {
     "model_module": "@jupyter-widgets/controls",
     "model_name": "FloatProgressModel",
     "state": {
      "_dom_classes": [],
      "_model_module": "@jupyter-widgets/controls",
      "_model_module_version": "1.5.0",
      "_model_name": "FloatProgressModel",
      "_view_count": null,
      "_view_module": "@jupyter-widgets/controls",
      "_view_module_version": "1.5.0",
      "_view_name": "ProgressView",
      "bar_style": "success",
      "description": "Downloading: 100%",
      "description_tooltip": null,
      "layout": "IPY_MODEL_80a1bcef1766492f8bf5db831c398e10",
      "max": 1222317369,
      "min": 0,
      "orientation": "horizontal",
      "style": "IPY_MODEL_2f285581c8cc4e46bece3f4cb0f53791",
      "value": 1222317369
     }
    },
    "34b4f405041545ed93ba9efc3967ce55": {
     "model_module": "@jupyter-widgets/controls",
     "model_name": "FloatProgressModel",
     "state": {
      "_dom_classes": [],
      "_model_module": "@jupyter-widgets/controls",
      "_model_module_version": "1.5.0",
      "_model_name": "FloatProgressModel",
      "_view_count": null,
      "_view_module": "@jupyter-widgets/controls",
      "_view_module_version": "1.5.0",
      "_view_name": "ProgressView",
      "bar_style": "success",
      "description": "Downloading: 100%",
      "description_tooltip": null,
      "layout": "IPY_MODEL_1a5feb342ae14e96a3c81def5d1c1eb9",
      "max": 26,
      "min": 0,
      "orientation": "horizontal",
      "style": "IPY_MODEL_81ee114132d945d9953cb7a9ef9cfe64",
      "value": 26
     }
    },
    "3520bfead0544981afafa56f4e25da8f": {
     "model_module": "@jupyter-widgets/base",
     "model_name": "LayoutModel",
     "state": {
      "_model_module": "@jupyter-widgets/base",
      "_model_module_version": "1.2.0",
      "_model_name": "LayoutModel",
      "_view_count": null,
      "_view_module": "@jupyter-widgets/base",
      "_view_module_version": "1.2.0",
      "_view_name": "LayoutView",
      "align_content": null,
      "align_items": null,
      "align_self": null,
      "border": null,
      "bottom": null,
      "display": null,
      "flex": null,
      "flex_flow": null,
      "grid_area": null,
      "grid_auto_columns": null,
      "grid_auto_flow": null,
      "grid_auto_rows": null,
      "grid_column": null,
      "grid_gap": null,
      "grid_row": null,
      "grid_template_areas": null,
      "grid_template_columns": null,
      "grid_template_rows": null,
      "height": null,
      "justify_content": null,
      "justify_items": null,
      "left": null,
      "margin": null,
      "max_height": null,
      "max_width": null,
      "min_height": null,
      "min_width": null,
      "object_fit": null,
      "object_position": null,
      "order": null,
      "overflow": null,
      "overflow_x": null,
      "overflow_y": null,
      "padding": null,
      "right": null,
      "top": null,
      "visibility": null,
      "width": null
     }
    },
    "3611179ab3f5466a8c28d04b8ec8236d": {
     "model_module": "@jupyter-widgets/controls",
     "model_name": "HTMLModel",
     "state": {
      "_dom_classes": [],
      "_model_module": "@jupyter-widgets/controls",
      "_model_module_version": "1.5.0",
      "_model_name": "HTMLModel",
      "_view_count": null,
      "_view_module": "@jupyter-widgets/controls",
      "_view_module_version": "1.5.0",
      "_view_name": "HTMLView",
      "description": "",
      "description_tooltip": null,
      "layout": "IPY_MODEL_92320deb74af46b4887e88321a7753fa",
      "placeholder": "​",
      "style": "IPY_MODEL_2950869aafc440cbb33ba2f61229ede4",
      "value": " 899k/899k [00:02&lt;00:00, 414kB/s]"
     }
    },
    "569f4cfc23bb4b759e05bad8307e12db": {
     "model_module": "@jupyter-widgets/base",
     "model_name": "LayoutModel",
     "state": {
      "_model_module": "@jupyter-widgets/base",
      "_model_module_version": "1.2.0",
      "_model_name": "LayoutModel",
      "_view_count": null,
      "_view_module": "@jupyter-widgets/base",
      "_view_module_version": "1.2.0",
      "_view_name": "LayoutView",
      "align_content": null,
      "align_items": null,
      "align_self": null,
      "border": null,
      "bottom": null,
      "display": null,
      "flex": null,
      "flex_flow": null,
      "grid_area": null,
      "grid_auto_columns": null,
      "grid_auto_flow": null,
      "grid_auto_rows": null,
      "grid_column": null,
      "grid_gap": null,
      "grid_row": null,
      "grid_template_areas": null,
      "grid_template_columns": null,
      "grid_template_rows": null,
      "height": null,
      "justify_content": null,
      "justify_items": null,
      "left": null,
      "margin": null,
      "max_height": null,
      "max_width": null,
      "min_height": null,
      "min_width": null,
      "object_fit": null,
      "object_position": null,
      "order": null,
      "overflow": null,
      "overflow_x": null,
      "overflow_y": null,
      "padding": null,
      "right": null,
      "top": null,
      "visibility": null,
      "width": null
     }
    },
    "648c1028999b42e7bac510ebc6939f22": {
     "model_module": "@jupyter-widgets/base",
     "model_name": "LayoutModel",
     "state": {
      "_model_module": "@jupyter-widgets/base",
      "_model_module_version": "1.2.0",
      "_model_name": "LayoutModel",
      "_view_count": null,
      "_view_module": "@jupyter-widgets/base",
      "_view_module_version": "1.2.0",
      "_view_name": "LayoutView",
      "align_content": null,
      "align_items": null,
      "align_self": null,
      "border": null,
      "bottom": null,
      "display": null,
      "flex": null,
      "flex_flow": null,
      "grid_area": null,
      "grid_auto_columns": null,
      "grid_auto_flow": null,
      "grid_auto_rows": null,
      "grid_column": null,
      "grid_gap": null,
      "grid_row": null,
      "grid_template_areas": null,
      "grid_template_columns": null,
      "grid_template_rows": null,
      "height": null,
      "justify_content": null,
      "justify_items": null,
      "left": null,
      "margin": null,
      "max_height": null,
      "max_width": null,
      "min_height": null,
      "min_width": null,
      "object_fit": null,
      "object_position": null,
      "order": null,
      "overflow": null,
      "overflow_x": null,
      "overflow_y": null,
      "padding": null,
      "right": null,
      "top": null,
      "visibility": null,
      "width": null
     }
    },
    "76031f779aa841f7aeb33b89d4e2dfee": {
     "model_module": "@jupyter-widgets/controls",
     "model_name": "HTMLModel",
     "state": {
      "_dom_classes": [],
      "_model_module": "@jupyter-widgets/controls",
      "_model_module_version": "1.5.0",
      "_model_name": "HTMLModel",
      "_view_count": null,
      "_view_module": "@jupyter-widgets/controls",
      "_view_module_version": "1.5.0",
      "_view_name": "HTMLView",
      "description": "",
      "description_tooltip": null,
      "layout": "IPY_MODEL_d0cc9ce17e30428bb61cc73141a808e5",
      "placeholder": "​",
      "style": "IPY_MODEL_e33215186af542a8b5602c9e6429009c",
      "value": " 26.0/26.0 [00:00&lt;00:00, 299B/s]"
     }
    },
    "78bd7c433ffa438b9940dfc2ce25f7ac": {
     "model_module": "@jupyter-widgets/controls",
     "model_name": "DescriptionStyleModel",
     "state": {
      "_model_module": "@jupyter-widgets/controls",
      "_model_module_version": "1.5.0",
      "_model_name": "DescriptionStyleModel",
      "_view_count": null,
      "_view_module": "@jupyter-widgets/base",
      "_view_module_version": "1.2.0",
      "_view_name": "StyleView",
      "description_width": ""
     }
    },
    "80a1bcef1766492f8bf5db831c398e10": {
     "model_module": "@jupyter-widgets/base",
     "model_name": "LayoutModel",
     "state": {
      "_model_module": "@jupyter-widgets/base",
      "_model_module_version": "1.2.0",
      "_model_name": "LayoutModel",
      "_view_count": null,
      "_view_module": "@jupyter-widgets/base",
      "_view_module_version": "1.2.0",
      "_view_name": "LayoutView",
      "align_content": null,
      "align_items": null,
      "align_self": null,
      "border": null,
      "bottom": null,
      "display": null,
      "flex": null,
      "flex_flow": null,
      "grid_area": null,
      "grid_auto_columns": null,
      "grid_auto_flow": null,
      "grid_auto_rows": null,
      "grid_column": null,
      "grid_gap": null,
      "grid_row": null,
      "grid_template_areas": null,
      "grid_template_columns": null,
      "grid_template_rows": null,
      "height": null,
      "justify_content": null,
      "justify_items": null,
      "left": null,
      "margin": null,
      "max_height": null,
      "max_width": null,
      "min_height": null,
      "min_width": null,
      "object_fit": null,
      "object_position": null,
      "order": null,
      "overflow": null,
      "overflow_x": null,
      "overflow_y": null,
      "padding": null,
      "right": null,
      "top": null,
      "visibility": null,
      "width": null
     }
    },
    "81ee114132d945d9953cb7a9ef9cfe64": {
     "model_module": "@jupyter-widgets/controls",
     "model_name": "ProgressStyleModel",
     "state": {
      "_model_module": "@jupyter-widgets/controls",
      "_model_module_version": "1.5.0",
      "_model_name": "ProgressStyleModel",
      "_view_count": null,
      "_view_module": "@jupyter-widgets/base",
      "_view_module_version": "1.2.0",
      "_view_name": "StyleView",
      "bar_color": null,
      "description_width": "initial"
     }
    },
    "92320deb74af46b4887e88321a7753fa": {
     "model_module": "@jupyter-widgets/base",
     "model_name": "LayoutModel",
     "state": {
      "_model_module": "@jupyter-widgets/base",
      "_model_module_version": "1.2.0",
      "_model_name": "LayoutModel",
      "_view_count": null,
      "_view_module": "@jupyter-widgets/base",
      "_view_module_version": "1.2.0",
      "_view_name": "LayoutView",
      "align_content": null,
      "align_items": null,
      "align_self": null,
      "border": null,
      "bottom": null,
      "display": null,
      "flex": null,
      "flex_flow": null,
      "grid_area": null,
      "grid_auto_columns": null,
      "grid_auto_flow": null,
      "grid_auto_rows": null,
      "grid_column": null,
      "grid_gap": null,
      "grid_row": null,
      "grid_template_areas": null,
      "grid_template_columns": null,
      "grid_template_rows": null,
      "height": null,
      "justify_content": null,
      "justify_items": null,
      "left": null,
      "margin": null,
      "max_height": null,
      "max_width": null,
      "min_height": null,
      "min_width": null,
      "object_fit": null,
      "object_position": null,
      "order": null,
      "overflow": null,
      "overflow_x": null,
      "overflow_y": null,
      "padding": null,
      "right": null,
      "top": null,
      "visibility": null,
      "width": null
     }
    },
    "9564c32514c24af9810903aff823e7fc": {
     "model_module": "@jupyter-widgets/controls",
     "model_name": "FloatProgressModel",
     "state": {
      "_dom_classes": [],
      "_model_module": "@jupyter-widgets/controls",
      "_model_module_version": "1.5.0",
      "_model_name": "FloatProgressModel",
      "_view_count": null,
      "_view_module": "@jupyter-widgets/controls",
      "_view_module_version": "1.5.0",
      "_view_name": "ProgressView",
      "bar_style": "success",
      "description": "Downloading: 100%",
      "description_tooltip": null,
      "layout": "IPY_MODEL_cfb7d53d90124a42a4e46e36e7622cf1",
      "max": 456318,
      "min": 0,
      "orientation": "horizontal",
      "style": "IPY_MODEL_c3721eb2244f4b2fbfd47c012bf5682a",
      "value": 456318
     }
    },
    "9766ee10d5df48ad987446d1e79ed294": {
     "model_module": "@jupyter-widgets/base",
     "model_name": "LayoutModel",
     "state": {
      "_model_module": "@jupyter-widgets/base",
      "_model_module_version": "1.2.0",
      "_model_name": "LayoutModel",
      "_view_count": null,
      "_view_module": "@jupyter-widgets/base",
      "_view_module_version": "1.2.0",
      "_view_name": "LayoutView",
      "align_content": null,
      "align_items": null,
      "align_self": null,
      "border": null,
      "bottom": null,
      "display": null,
      "flex": null,
      "flex_flow": null,
      "grid_area": null,
      "grid_auto_columns": null,
      "grid_auto_flow": null,
      "grid_auto_rows": null,
      "grid_column": null,
      "grid_gap": null,
      "grid_row": null,
      "grid_template_areas": null,
      "grid_template_columns": null,
      "grid_template_rows": null,
      "height": null,
      "justify_content": null,
      "justify_items": null,
      "left": null,
      "margin": null,
      "max_height": null,
      "max_width": null,
      "min_height": null,
      "min_width": null,
      "object_fit": null,
      "object_position": null,
      "order": null,
      "overflow": null,
      "overflow_x": null,
      "overflow_y": null,
      "padding": null,
      "right": null,
      "top": null,
      "visibility": null,
      "width": null
     }
    },
    "98dea98c16e241178a7ad9d2186d75be": {
     "model_module": "@jupyter-widgets/controls",
     "model_name": "FloatProgressModel",
     "state": {
      "_dom_classes": [],
      "_model_module": "@jupyter-widgets/controls",
      "_model_module_version": "1.5.0",
      "_model_name": "FloatProgressModel",
      "_view_count": null,
      "_view_module": "@jupyter-widgets/controls",
      "_view_module_version": "1.5.0",
      "_view_name": "ProgressView",
      "bar_style": "success",
      "description": "Downloading: 100%",
      "description_tooltip": null,
      "layout": "IPY_MODEL_9cdfbf791eae40d6926522eb6fee5af1",
      "max": 1621,
      "min": 0,
      "orientation": "horizontal",
      "style": "IPY_MODEL_13284b929f2749fb9c0d9bae98fcdcf0",
      "value": 1621
     }
    },
    "9cdfbf791eae40d6926522eb6fee5af1": {
     "model_module": "@jupyter-widgets/base",
     "model_name": "LayoutModel",
     "state": {
      "_model_module": "@jupyter-widgets/base",
      "_model_module_version": "1.2.0",
      "_model_name": "LayoutModel",
      "_view_count": null,
      "_view_module": "@jupyter-widgets/base",
      "_view_module_version": "1.2.0",
      "_view_name": "LayoutView",
      "align_content": null,
      "align_items": null,
      "align_self": null,
      "border": null,
      "bottom": null,
      "display": null,
      "flex": null,
      "flex_flow": null,
      "grid_area": null,
      "grid_auto_columns": null,
      "grid_auto_flow": null,
      "grid_auto_rows": null,
      "grid_column": null,
      "grid_gap": null,
      "grid_row": null,
      "grid_template_areas": null,
      "grid_template_columns": null,
      "grid_template_rows": null,
      "height": null,
      "justify_content": null,
      "justify_items": null,
      "left": null,
      "margin": null,
      "max_height": null,
      "max_width": null,
      "min_height": null,
      "min_width": null,
      "object_fit": null,
      "object_position": null,
      "order": null,
      "overflow": null,
      "overflow_x": null,
      "overflow_y": null,
      "padding": null,
      "right": null,
      "top": null,
      "visibility": null,
      "width": null
     }
    },
    "a30f19f9758b47569f7b6303f9d0c8c8": {
     "model_module": "@jupyter-widgets/base",
     "model_name": "LayoutModel",
     "state": {
      "_model_module": "@jupyter-widgets/base",
      "_model_module_version": "1.2.0",
      "_model_name": "LayoutModel",
      "_view_count": null,
      "_view_module": "@jupyter-widgets/base",
      "_view_module_version": "1.2.0",
      "_view_name": "LayoutView",
      "align_content": null,
      "align_items": null,
      "align_self": null,
      "border": null,
      "bottom": null,
      "display": null,
      "flex": null,
      "flex_flow": null,
      "grid_area": null,
      "grid_auto_columns": null,
      "grid_auto_flow": null,
      "grid_auto_rows": null,
      "grid_column": null,
      "grid_gap": null,
      "grid_row": null,
      "grid_template_areas": null,
      "grid_template_columns": null,
      "grid_template_rows": null,
      "height": null,
      "justify_content": null,
      "justify_items": null,
      "left": null,
      "margin": null,
      "max_height": null,
      "max_width": null,
      "min_height": null,
      "min_width": null,
      "object_fit": null,
      "object_position": null,
      "order": null,
      "overflow": null,
      "overflow_x": null,
      "overflow_y": null,
      "padding": null,
      "right": null,
      "top": null,
      "visibility": null,
      "width": null
     }
    },
    "a60251d3b1d148a5b934db7f6b42eed9": {
     "model_module": "@jupyter-widgets/controls",
     "model_name": "ProgressStyleModel",
     "state": {
      "_model_module": "@jupyter-widgets/controls",
      "_model_module_version": "1.5.0",
      "_model_name": "ProgressStyleModel",
      "_view_count": null,
      "_view_module": "@jupyter-widgets/base",
      "_view_module_version": "1.2.0",
      "_view_name": "StyleView",
      "bar_color": null,
      "description_width": "initial"
     }
    },
    "bcb8bc1ec07b4afe919f0a47a477a562": {
     "model_module": "@jupyter-widgets/controls",
     "model_name": "HBoxModel",
     "state": {
      "_dom_classes": [],
      "_model_module": "@jupyter-widgets/controls",
      "_model_module_version": "1.5.0",
      "_model_name": "HBoxModel",
      "_view_count": null,
      "_view_module": "@jupyter-widgets/controls",
      "_view_module_version": "1.5.0",
      "_view_name": "HBoxView",
      "box_style": "",
      "children": [
       "IPY_MODEL_34b4f405041545ed93ba9efc3967ce55",
       "IPY_MODEL_76031f779aa841f7aeb33b89d4e2dfee"
      ],
      "layout": "IPY_MODEL_a30f19f9758b47569f7b6303f9d0c8c8"
     }
    },
    "c3345b39dfd04651b123358b3b0ebfd3": {
     "model_module": "@jupyter-widgets/controls",
     "model_name": "HTMLModel",
     "state": {
      "_dom_classes": [],
      "_model_module": "@jupyter-widgets/controls",
      "_model_module_version": "1.5.0",
      "_model_name": "HTMLModel",
      "_view_count": null,
      "_view_module": "@jupyter-widgets/controls",
      "_view_module_version": "1.5.0",
      "_view_name": "HTMLView",
      "description": "",
      "description_tooltip": null,
      "layout": "IPY_MODEL_2e1914486ce04f1f968884a7fa297c50",
      "placeholder": "​",
      "style": "IPY_MODEL_cadcbab4537c4b3786758f8fc21c439f",
      "value": " 456k/456k [00:01&lt;00:00, 338kB/s]"
     }
    },
    "c3721eb2244f4b2fbfd47c012bf5682a": {
     "model_module": "@jupyter-widgets/controls",
     "model_name": "ProgressStyleModel",
     "state": {
      "_model_module": "@jupyter-widgets/controls",
      "_model_module_version": "1.5.0",
      "_model_name": "ProgressStyleModel",
      "_view_count": null,
      "_view_module": "@jupyter-widgets/base",
      "_view_module_version": "1.2.0",
      "_view_name": "StyleView",
      "bar_color": null,
      "description_width": "initial"
     }
    },
    "cadcbab4537c4b3786758f8fc21c439f": {
     "model_module": "@jupyter-widgets/controls",
     "model_name": "DescriptionStyleModel",
     "state": {
      "_model_module": "@jupyter-widgets/controls",
      "_model_module_version": "1.5.0",
      "_model_name": "DescriptionStyleModel",
      "_view_count": null,
      "_view_module": "@jupyter-widgets/base",
      "_view_module_version": "1.2.0",
      "_view_name": "StyleView",
      "description_width": ""
     }
    },
    "cfb7d53d90124a42a4e46e36e7622cf1": {
     "model_module": "@jupyter-widgets/base",
     "model_name": "LayoutModel",
     "state": {
      "_model_module": "@jupyter-widgets/base",
      "_model_module_version": "1.2.0",
      "_model_name": "LayoutModel",
      "_view_count": null,
      "_view_module": "@jupyter-widgets/base",
      "_view_module_version": "1.2.0",
      "_view_name": "LayoutView",
      "align_content": null,
      "align_items": null,
      "align_self": null,
      "border": null,
      "bottom": null,
      "display": null,
      "flex": null,
      "flex_flow": null,
      "grid_area": null,
      "grid_auto_columns": null,
      "grid_auto_flow": null,
      "grid_auto_rows": null,
      "grid_column": null,
      "grid_gap": null,
      "grid_row": null,
      "grid_template_areas": null,
      "grid_template_columns": null,
      "grid_template_rows": null,
      "height": null,
      "justify_content": null,
      "justify_items": null,
      "left": null,
      "margin": null,
      "max_height": null,
      "max_width": null,
      "min_height": null,
      "min_width": null,
      "object_fit": null,
      "object_position": null,
      "order": null,
      "overflow": null,
      "overflow_x": null,
      "overflow_y": null,
      "padding": null,
      "right": null,
      "top": null,
      "visibility": null,
      "width": null
     }
    },
    "d0cc9ce17e30428bb61cc73141a808e5": {
     "model_module": "@jupyter-widgets/base",
     "model_name": "LayoutModel",
     "state": {
      "_model_module": "@jupyter-widgets/base",
      "_model_module_version": "1.2.0",
      "_model_name": "LayoutModel",
      "_view_count": null,
      "_view_module": "@jupyter-widgets/base",
      "_view_module_version": "1.2.0",
      "_view_name": "LayoutView",
      "align_content": null,
      "align_items": null,
      "align_self": null,
      "border": null,
      "bottom": null,
      "display": null,
      "flex": null,
      "flex_flow": null,
      "grid_area": null,
      "grid_auto_columns": null,
      "grid_auto_flow": null,
      "grid_auto_rows": null,
      "grid_column": null,
      "grid_gap": null,
      "grid_row": null,
      "grid_template_areas": null,
      "grid_template_columns": null,
      "grid_template_rows": null,
      "height": null,
      "justify_content": null,
      "justify_items": null,
      "left": null,
      "margin": null,
      "max_height": null,
      "max_width": null,
      "min_height": null,
      "min_width": null,
      "object_fit": null,
      "object_position": null,
      "order": null,
      "overflow": null,
      "overflow_x": null,
      "overflow_y": null,
      "padding": null,
      "right": null,
      "top": null,
      "visibility": null,
      "width": null
     }
    },
    "e33215186af542a8b5602c9e6429009c": {
     "model_module": "@jupyter-widgets/controls",
     "model_name": "DescriptionStyleModel",
     "state": {
      "_model_module": "@jupyter-widgets/controls",
      "_model_module_version": "1.5.0",
      "_model_name": "DescriptionStyleModel",
      "_view_count": null,
      "_view_module": "@jupyter-widgets/base",
      "_view_module_version": "1.2.0",
      "_view_name": "StyleView",
      "description_width": ""
     }
    },
    "e717368172784532b0f47805cfb16aec": {
     "model_module": "@jupyter-widgets/controls",
     "model_name": "HBoxModel",
     "state": {
      "_dom_classes": [],
      "_model_module": "@jupyter-widgets/controls",
      "_model_module_version": "1.5.0",
      "_model_name": "HBoxModel",
      "_view_count": null,
      "_view_module": "@jupyter-widgets/controls",
      "_view_module_version": "1.5.0",
      "_view_name": "HBoxView",
      "box_style": "",
      "children": [
       "IPY_MODEL_98dea98c16e241178a7ad9d2186d75be",
       "IPY_MODEL_2973a5df64ee4227a10ae8c0c2fa848b"
      ],
      "layout": "IPY_MODEL_2217acfa739942858978766bae60969e"
     }
    },
    "eb70f9eb1f534e18bfdf141bf6a1847a": {
     "model_module": "@jupyter-widgets/controls",
     "model_name": "HBoxModel",
     "state": {
      "_dom_classes": [],
      "_model_module": "@jupyter-widgets/controls",
      "_model_module_version": "1.5.0",
      "_model_name": "HBoxModel",
      "_view_count": null,
      "_view_module": "@jupyter-widgets/controls",
      "_view_module_version": "1.5.0",
      "_view_name": "HBoxView",
      "box_style": "",
      "children": [
       "IPY_MODEL_9564c32514c24af9810903aff823e7fc",
       "IPY_MODEL_c3345b39dfd04651b123358b3b0ebfd3"
      ],
      "layout": "IPY_MODEL_f4a5c5321bc94825bad40ad2e6173a62"
     }
    },
    "f4a5c5321bc94825bad40ad2e6173a62": {
     "model_module": "@jupyter-widgets/base",
     "model_name": "LayoutModel",
     "state": {
      "_model_module": "@jupyter-widgets/base",
      "_model_module_version": "1.2.0",
      "_model_name": "LayoutModel",
      "_view_count": null,
      "_view_module": "@jupyter-widgets/base",
      "_view_module_version": "1.2.0",
      "_view_name": "LayoutView",
      "align_content": null,
      "align_items": null,
      "align_self": null,
      "border": null,
      "bottom": null,
      "display": null,
      "flex": null,
      "flex_flow": null,
      "grid_area": null,
      "grid_auto_columns": null,
      "grid_auto_flow": null,
      "grid_auto_rows": null,
      "grid_column": null,
      "grid_gap": null,
      "grid_row": null,
      "grid_template_areas": null,
      "grid_template_columns": null,
      "grid_template_rows": null,
      "height": null,
      "justify_content": null,
      "justify_items": null,
      "left": null,
      "margin": null,
      "max_height": null,
      "max_width": null,
      "min_height": null,
      "min_width": null,
      "object_fit": null,
      "object_position": null,
      "order": null,
      "overflow": null,
      "overflow_x": null,
      "overflow_y": null,
      "padding": null,
      "right": null,
      "top": null,
      "visibility": null,
      "width": null
     }
    },
    "f7ff4f51e6214a99ae6c8667a670fb1e": {
     "model_module": "@jupyter-widgets/controls",
     "model_name": "DescriptionStyleModel",
     "state": {
      "_model_module": "@jupyter-widgets/controls",
      "_model_module_version": "1.5.0",
      "_model_name": "DescriptionStyleModel",
      "_view_count": null,
      "_view_module": "@jupyter-widgets/base",
      "_view_module_version": "1.2.0",
      "_view_name": "StyleView",
      "description_width": ""
     }
    },
    "f85872248fb445c090d62ddb3bcaf785": {
     "model_module": "@jupyter-widgets/controls",
     "model_name": "HTMLModel",
     "state": {
      "_dom_classes": [],
      "_model_module": "@jupyter-widgets/controls",
      "_model_module_version": "1.5.0",
      "_model_name": "HTMLModel",
      "_view_count": null,
      "_view_module": "@jupyter-widgets/controls",
      "_view_module_version": "1.5.0",
      "_view_name": "HTMLView",
      "description": "",
      "description_tooltip": null,
      "layout": "IPY_MODEL_1eca62ca54e746e9a76de7517d3028c4",
      "placeholder": "​",
      "style": "IPY_MODEL_f7ff4f51e6214a99ae6c8667a670fb1e",
      "value": " 1.22G/1.22G [00:25&lt;00:00, 47.7MB/s]"
     }
    }
   }
  }
 },
 "nbformat": 4,
 "nbformat_minor": 1
}
