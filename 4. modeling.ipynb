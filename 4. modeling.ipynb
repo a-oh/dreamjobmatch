{
 "cells": [
  {
   "cell_type": "code",
   "execution_count": 29,
   "metadata": {
    "ExecuteTime": {
     "end_time": "2021-02-23T10:27:58.182526Z",
     "start_time": "2021-02-23T10:27:57.137403Z"
    },
    "run_control": {
     "marked": true
    }
   },
   "outputs": [
    {
     "name": "stdout",
     "output_type": "stream",
     "text": [
      "Collecting docx2txt\n",
      "  Using cached docx2txt-0.8.tar.gz (2.8 kB)\n",
      "Building wheels for collected packages: docx2txt\n",
      "  Building wheel for docx2txt (setup.py) ... \u001b[?25ldone\n",
      "\u001b[?25h  Created wheel for docx2txt: filename=docx2txt-0.8-py3-none-any.whl size=3966 sha256=fd50cf4560fe3321156dce548d28eda55b245f40626c5ab8a44192fe6bcf6d81\n",
      "  Stored in directory: /Users/alyssiaoh/Library/Caches/pip/wheels/40/75/01/e6c444034338bde9c7947d3467807f889123465c2371e77418\n",
      "Successfully built docx2txt\n",
      "Installing collected packages: docx2txt\n",
      "Successfully installed docx2txt-0.8\n"
     ]
    }
   ],
   "source": [
    "# Install the docx2txt package\n",
    "!pip install docx2txt\n",
    "# Import the library\n",
    "import docx2txt\n"
   ]
  },
  {
   "cell_type": "code",
   "execution_count": 33,
   "metadata": {
    "ExecuteTime": {
     "end_time": "2021-02-23T10:28:45.884371Z",
     "start_time": "2021-02-23T10:28:45.850101Z"
    }
   },
   "outputs": [],
   "source": [
    "\n",
    "from sklearn.linear_model import LinearRegression, LogisticRegression\n",
    "from scipy import stats\n",
    "\n",
    "from sklearn.metrics import (accuracy_score, \n",
    "                            confusion_matrix, \n",
    "                            classification_report,\n",
    "                            plot_confusion_matrix)\n",
    "from sklearn.model_selection import train_test_split, cross_val_score \n",
    "from sklearn.neighbors import KNeighborsClassifier\n",
    "from sklearn.preprocessing import StandardScaler\n",
    "import numpy as np\n",
    "import pandas as pd\n",
    "import time\n",
    "import matplotlib.pyplot as plt\n",
    "import seaborn as sns\n",
    "\n",
    "\n",
    "import requests\n",
    "from bs4 import BeautifulSoup    \n",
    "from nltk.tokenize import sent_tokenize, word_tokenize, RegexpTokenizer\n",
    "from nltk.stem import WordNetLemmatizer\n",
    "from nltk.stem.porter import PorterStemmer\n",
    "from nltk.corpus import stopwords\n",
    "from nltk.sentiment.vader import SentimentIntensityAnalyzer\n",
    "from nltk import FreqDist, pos_tag\n",
    "from collections import Counter\n",
    "import re\n",
    "from sklearn.metrics import mean_squared_error \n",
    "from sklearn.linear_model import LinearRegression\n",
    "from sklearn.svm import SVC\n",
    "from sklearn.model_selection import train_test_split, GridSearchCV\n",
    "from sklearn.pipeline import Pipeline, FeatureUnion\n",
    "from sklearn.naive_bayes import MultinomialNB, GaussianNB\n",
    "from sklearn.linear_model import LogisticRegression\n",
    "from sklearn.metrics import confusion_matrix, plot_confusion_matrix\n",
    "from sklearn.preprocessing import StandardScaler, FunctionTransformer\n",
    "from sklearn.ensemble import RandomForestClassifier, ExtraTreesClassifier\n",
    "# Import CountVectorizer and TFIDFVectorizer from feature_extraction.text.\n",
    "from sklearn.feature_extraction.text import CountVectorizer, TfidfVectorizer\n",
    "sns.set_style('darkgrid')\n",
    "pd.set_option('display.max_columns', None)\n",
    "pd.set_option('max_colwidth', None)\n",
    "\n",
    "\n",
    "%config InlineBackend.figure_format = 'retina'"
   ]
  },
  {
   "cell_type": "code",
   "execution_count": 22,
   "metadata": {
    "ExecuteTime": {
     "end_time": "2021-02-23T08:47:30.604152Z",
     "start_time": "2021-02-23T08:47:30.524237Z"
    },
    "scrolled": true
   },
   "outputs": [
    {
     "data": {
      "text/html": [
       "<div>\n",
       "<style scoped>\n",
       "    .dataframe tbody tr th:only-of-type {\n",
       "        vertical-align: middle;\n",
       "    }\n",
       "\n",
       "    .dataframe tbody tr th {\n",
       "        vertical-align: top;\n",
       "    }\n",
       "\n",
       "    .dataframe thead th {\n",
       "        text-align: right;\n",
       "    }\n",
       "</style>\n",
       "<table border=\"1\" class=\"dataframe\">\n",
       "  <thead>\n",
       "    <tr style=\"text-align: right;\">\n",
       "      <th></th>\n",
       "      <th>title</th>\n",
       "      <th>company</th>\n",
       "      <th>location</th>\n",
       "      <th>summary</th>\n",
       "      <th>description</th>\n",
       "      <th>salary</th>\n",
       "      <th>rating</th>\n",
       "      <th>desc_summarizer</th>\n",
       "    </tr>\n",
       "  </thead>\n",
       "  <tbody>\n",
       "    <tr>\n",
       "      <th>20</th>\n",
       "      <td>Data Analyst (Entry) - Data Science - R&amp;D - PH - US_new</td>\n",
       "      <td>Bayer</td>\n",
       "      <td>Berkeley, CA 94710</td>\n",
       "      <td>Experience with data dashboarding (Spotfire, tableau, or similar).\\nWork with users (scientists) to ensure the tools we build are usable and useful.</td>\n",
       "      <td>Perform the following tasks related to the software applications:\\nConfiguration\\nDevelopment of templates and dashboards\\nWork with users (scientists) to ensure the tools we build are usable and useful\\nQuickly learn biologics manufacturing process concepts\\nEstablish and document best practices\\nAnswer user questions\\nTroubleshoot problems\\nTrain users\\nRequired qualification\\nUniversity degree with 2+ years experience\\nNeeds to be someone excited to learn new tools and work with customers\\nDemonstrated ability to master software (e.g., experience with scripting; complex software configuration)\\nPreferred qualification\\nExperience with ISA-88 Batch Processing\\nExperience with biological laboratory techniques\\nExperience with chemical manufacturing and control\\nExperience with data dashboarding (Spotfire, tableau, or similar)\\nData analysis experience\\nExperience with Riffyn Nexus, Fluxa PKM, or QbDVision\\nBAY1JP00006374</td>\n",
       "      <td>None</td>\n",
       "      <td>4.2</td>\n",
       "      <td>[{'summary_text': ' Perform the following tasks related to the software applications: Configuration and development of templates and dashboards . Work with users (scientists) to ensure the tools we build are usable and useful. Quickly learn biologics manufacturing process concepts. Establish and document best practices; answer user questions.'}]</td>\n",
       "    </tr>\n",
       "    <tr>\n",
       "      <th>21</th>\n",
       "      <td>Payroll Manager_new</td>\n",
       "      <td>Golden Gate Bridge Highway and Transportation District</td>\n",
       "      <td>San Rafael, CA 94901 (Canal area)</td>\n",
       "      <td>Maintain control of payroll system; conduct regular system and process audits to ensure data integrity and compliance.\\nPosition is located in San Rafael, CA.</td>\n",
       "      <td>POSITION: PAYROLL MANAGER (PS101503)Position is located in San Rafael, CA.SALARY RANGE: $102,252.80 to $123,593.60 annually plus excellent benefits 40-hour workweekEmployee pays 7% of salary/wage toward CalPERS retirement plan DATEPOSITION DESCRIPTION:Under general direction of the Director of Accounting along with collaboration with the Managers of Human Resources, Deputy General Manager-Administrative and Development, and the District’s legal counsel, this position manages the Payroll Department &amp; represents the District’s interests in all payroll, benefit &amp; pension matters. The Payroll Manager plans, develops, interprets, and implements all activities of the Payroll Department through subordinate staff in a highly demanding and fast-paced environment.The position is committed toward continuous improvement in accuracy, efficiency and service levels to ensure readiness for growth and the ability to provide superior service. In addition, this position develops and executes a vision for future processes and systems including project implementation plans and monitoring &amp; reporting of process improvement initiatives. Other key areas of responsibility include, but are not limited to, leadership in addressing financial controls with both internal and external stakeholders; being an expert in compliance with federal and California state laws as they impact compensation and tax reporting, knowledge of Memorandum of Understanding (MOU) contracts, CalPERS legislative policy and procedures, any other pension legislation.The position also provides professional development opportunities for the Payroll team and implementation of District’s policies and procedures; takes ownership of software systems that support payroll processing and reporting; organize, assign, direct, review and evaluate the work of assigned staff. The role must stay abreast of the latest developments in compensation and pension law and serves as the subject matter expert on all payroll issues. In partnership with Human Resources, the position also guides management toward resolution of compensation issues to ensure compliance with the law yet address practicality of proposed solutions and is very hands-on with the District’s payroll objectives and processing. Payroll Manager (PS101503)MINIMUM JOB REQUIREMENTS:Education and/or Experience:A Bachelor’s degree in Business Administration, Finance, Public Administration, Accounting, or in any related field. Qualifying experience may be substituted on a year-for-year basis in lieu of education. A written statement detailing qualifying experience must be submitted with the application.A minimum of seven years of in-house payroll processing and reporting requirements for federal, state, and pension/retirement plan authorities in organizations of 700+ employees.A minimum four years of recent related supervisory and/or managerial level payroll systems knowledge.Experience with public sector payroll accounting, particularly with a transportation background, is highly desirable.Required License:Must possess and maintain a current, valid California driver's license and satisfactory driving record (Operates District vehicles on a regular basis).CPP (Certified Payroll Professional) certification desirable.Physical Requirements:Mobility to work in a typical office setting. Ability to communicate in person and over the telephone. Ability to read printed materials and a computer screen. Ability to travel to District facilities. Routine use of computer, telephone and other office equipment.ESSENTIAL RESPONSIBILITIES:Oversees the in-house compensation processing associated with a multi-location agency, covering 64 bi-weekly and monthly payroll-reporting periods. The District comprises 800+ employees, 26 bargaining units, 17 unions, 4 pension plans (CalPERS, ATU, IBU &amp; MEBA), has numerous health plans (high deductible plans, self-insured providers, etc.), and two separate timekeeping systems.Manage compliance with: federal, state &amp; local tax law &amp; quarterly and annual payroll reporting (DE9, 941s), etc., tax deposit reporting, involuntary deductions (levies) (IRS, EDD, FTB), union benefit trusts payment &amp; reporting, Bureau of Labor Statistics reporting, National Transit Database compilation and pension requirements.Interprets, educates and applies a variety of laws and regulations governing payroll administration. This includes pertinent labor contract and administrative code provisions, annual salary and salary standardization directives, departmental rules and other documents governing employee's pay and benefit rights. Written and oral explanations to management, union officials and employees is necessitated.Advises District management, supervisors and employees on the interpretation and application of Payroll guidelines/policies, Federal and State regulations and internal Memorandums of Understanding (MOU).Communicates and enforces organization-wide payroll policies and processes regarding earnings, deductions, timekeeping and government compliance reporting. Develops written procedures to document processes &amp; rationale behind decision-making.Supervises internal departmental audits to ensure the accuracy of reporting and compliance with District policies and procedures. Payroll Manager (PS101503)Provides support to external auditors in the performance of their work by answering questions involving District policy and procedures and producing schedules/documentation that will assist the auditors in the timely completion of their work.Educate &amp; train the Payroll team continuously.May represent the District’s interests at local meetings, including arbitration hearings.Performs other duties as assigned.Regular and reliable attendance and performance required.REQUIRED KNOWLEDGE, SKILLS AND ABILITIES:Working knowledge of:District policies and Memorandums of Understanding (MOUs) for bargaining unitsModern management and administrative practices such as: supervision, strategic planning, goal setting, budgeting, and information technology systems planning and implementation.Federal, State &amp; local laws; deferred compensation plans; voluntary pre-and post-tax deductions; involuntary deductions; calculation of employee taxes, tax reporting, record retention and payroll accounting &amp; audits. Skill in or Ability to:  * Motivate and develop a teamProject ManagementEffective verbal and written communication skill, problem solving and decision making skillsExceptional attention to detail and accuracyCoaching, conflict resolution, and performance managementProvide excellent customer serviceDevelop and maintain effective, productive, cooperative working relationships with employees, supervisory personnel, management, representatives from other agencies, the public and others contacted during the course of workMaintain continuous education of existing and new legislation; enforcing adherence to such requirements; advising management on needed actions and analyzing impact on payroll system.Work independently and effectively under pressure to meet deadlinesUnderstand, interpret, and apply complex rules, regulations, and legal provisions governing compensation and benefitsMaintain control of payroll system; conduct regular system and process audits to ensure data integrity and complianceAPPLICATION PROCEDURE:FAILURE TO MEET ANY OF THE REQUIREMENTS STATED BELOW MAY RESULT IN REJECTION OF YOUR APPLICATION.TO APPLY: www.goldengate.org/jobsApplicants must apply online by the deadline date. Applications received after the deadline will not be considered. For directions and general information, visit our website www.goldengate.org. The District’s primary and official means of application notification is via EMAIL. Thus, applicants are advised to check their email for their application status updates.THE FOLLOWING DOCUMENTS MUST BE SUBMITTED AT TIME OF APPLICATION:1. GGBHTD Online Employment Application2. Resume (Scan and attach as PDF to your online application)3. Applicants who do not possess a degree must attach a statement supporting position related experience in lieu of degree (Scan and attach as PDF to your online application)4. Supplemental Questionnaire (Scan and attach as PDF to your online application)THE SELECTION PROCESS MAY INCLUDE:Assessment of education, training, and experienceOral Panel InterviewDepartment interview for final candidatesBackground, Employment and Security Investigation*** The District will only invite those candidates whose qualifications MOST CLOSELY MATCH the position requirements to continue in the selection process.AN EQUAL OPPORTUNITY EMPLOYERIt is the policy of the Golden Gate Bridge Highway and Transportation District to take all personnel actions on the basis of merit and other job-related factors, without regard to race, color, national origin, religion, sex (including pregnancy, childbirth, and related medical conditions), disability: physical or mental, age (40 and older), genetic information, marital status, sexual orientation and identity, medical condition, political affiliation or military status.Applicants with Disabilities: The Human Resources Department will make reasonable efforts to accommodate applicants with disabilities to complete the Employment Application and in any job-related examination process. If you have special needs, please call (415) 257-4535 (Human Resources).Job Type: Full-timePay: $102,252.00 - $123,593.00 per yearBenefits:Health insuranceSchedule:8 hour shiftEducation:Bachelor's (Preferred)Experience:Payroll: 1 year (Preferred)Accounting: 1 year (Preferred)Work Location:One locationThis Job Is Ideal for Someone Who Is:Dependable -- more reliable than spontaneousDetail-oriented -- would rather focus on the details of work than the bigger pictureAchievement-oriented -- enjoys taking on challenges, even if they might failCompany's website:https://www.goldengate.org/district/careers/current-job-openings/Company's Facebook page:https://www.goldengate.org/district/careers/current-job-openings/</td>\n",
       "      <td>$102,252 - $123,593 a year</td>\n",
       "      <td>None</td>\n",
       "      <td>[{'summary_text': ' The Payroll Manager plans, develops, interprets, and implements all activities of the Payroll Department through subordinate staff . The position is committed toward continuous improvement in accuracy, efficiency and service levels to ensure readiness for growth and the ability to provide superior service . Position is located in San Rafael, CA.'}]</td>\n",
       "    </tr>\n",
       "    <tr>\n",
       "      <th>22</th>\n",
       "      <td>Program Manager, Business Operations, Data Centers_new</td>\n",
       "      <td>Google</td>\n",
       "      <td>San Francisco, CA</td>\n",
       "      <td>Bachelor's degree in Technology, Engineering, Science, Economics, Business or related field or equivalent practical experience.</td>\n",
       "      <td>Note: By applying to this position your application is automatically submitted to the following locations: San Francisco, CA, USA; Sunnyvale, CA, USA\\nMinimum qualifications:\\n\\nBachelor's degree in Technology, Engineering, Science, Economics, Business or related field or equivalent practical experience.\\n1-year of experience in project or program management.\\nExperience creating dashboards (Looker, Tableau, Data Studio, or other similar tool).\\nExperience distilling information into graphics, slides, notes and tables.\\n\\nPreferred qualifications:\\n\\nExperience with project planning, status reporting, timeline estimation, issue tracking, meeting facilitation, and process documentation.\\nExperience with SQL (query, merge, filter, subquery)\\nAbout the job\\nGoogle's projects, like our users, span the globe and require managers to keep the big picture in focus. As a Program Manager at Google, you lead complex, multi-disciplinary projects. You plan requirements with internal customers and usher projects through the entire project lifecycle. This includes managing project schedules, identifying risks and clearly communicating goals to project stakeholders. Your projects often span offices, time zones and hemispheres, and it's your job to keep all the players coordinated on the project's progress and deadlines.\\nResponsibilities\\nMaintain and/or improve existing business processes.\\nDevelop and manage documentation for different tools and processes.\\nTrack progress on diverse business initiatives; and ensure projects are driven to completion.\\nCommunicate updates to cross-functional stakeholders and manage content of team website.\\nDevelop training materials and user documentation for different tools and processes.\\nGoogle is proud to be an equal opportunity workplace and is an affirmative action employer. We are committed to equal employment opportunity regardless of race, color, ancestry, religion, sex, national origin, sexual orientation, age, citizenship, marital status, disability, gender identity or Veteran status. We also consider qualified applicants regardless of criminal histories, consistent with legal requirements. See also Google's EEO Policy and EEO is the Law. If you have a disability or special need that requires accommodation, please let us know by completing this form.</td>\n",
       "      <td>None</td>\n",
       "      <td>4.3</td>\n",
       "      <td>[{'summary_text': \" Program Manager at Google leads complex, multi-disciplinary projects . Google's projects, like our users, span the globe and require managers to keep the big picture in focus. You plan requirements with internal customers and usher projects through the entire proj. The position is located in San Francisco, California, and Sunnyvale, California .\"}]</td>\n",
       "    </tr>\n",
       "    <tr>\n",
       "      <th>23</th>\n",
       "      <td>Contracts Administrator_new</td>\n",
       "      <td>Banking and Finance Professionals</td>\n",
       "      <td>Foster City, CA 94404</td>\n",
       "      <td>Ø Conduct analysis and maintain database systems related to contracts and proposals.\\nØ Perform data integrity and quality control checks to identify areas of…</td>\n",
       "      <td>Ø Conduct analysis and maintain database systems related to contracts and proposalsØ Execute and distribute various reports presenting statistics to departmental management to keep them advised on the status, volume of contracts being executed or amended.Ø Provide internal stakeholders with tracking reports, memos and other ad hoc reports in a timely manner.Ø Perform data integrity and quality control checks to identify areas of improvement or training needed within the department.Ø Serve as a business partner to contract management team to provide customer or account reports and other information to facilitate contract negotiation or renewal.Ø Monitor and manage contracts status (execution, amendment, renewal and termination) and communicates with internal stakeholders and external customers to resolve issues and discrepancies.Ø Track various ad hoc requests for contractual terms to support business needs and initiatives.Ø Work with Project Lead, Contract Managers, and internal / external expert consultants to provide input on the design and update of contract and proposal management tool (Apttus).Ø Ensure all contract data and information is appropriately entered into contract lifecycle management (CLM) tool.Ø Support in maintaining an active issue log for Apttus and partner with IT to remediate issues.Ø Participate in updating and maintaining Standard Operating Procedures (SOPs) and work instructions on a periodical basis.Ø Assist Contract Managers with drafting and negotiating contracts, on an as-needed basis. May be required to work with cross-functional teams (including Legal, Finance, Government Price Reporting, and Operations) for contract input.Advance knowledge in Microsoft Excel, PowerPoint, SharePoint, and Word and working knowledge of contract lifecycle management (CLM) systems.Experience with SalesForce CRM preferred.Job Types: Full-time, ContractPay: $50.00 - $60.00 per hourBenefits:Health insuranceSchedule:Monday to FridayContract Length:1 yearContract Renewal:PossibleWork Location:One locationWork Remotely:Temporarily due to COVID-19COVID-19 Precaution(s):Remote interview process</td>\n",
       "      <td>$50 - $60 an hour</td>\n",
       "      <td>None</td>\n",
       "      <td>[{'summary_text': ' The role is to conduct analysis and maintain database systems related to contracts and proposals . Perform data integrity and quality control checks to identify areas of improvement or training needed . Execute and distribute various reports presenting statistics to departmental management to keep them advised on the status, volume of contracts being executed or amended .'}]</td>\n",
       "    </tr>\n",
       "    <tr>\n",
       "      <th>24</th>\n",
       "      <td>Development Assistant_new</td>\n",
       "      <td>On Lok</td>\n",
       "      <td>San Francisco, CA 94111 (Financial District area)</td>\n",
       "      <td>Proven track record of meeting goals doing data entry and administrative duties as a Data Entry operator, Office Administrator or equivalent position.</td>\n",
       "      <td>On Lok Inc.\\nDedicated to The Care of Elders:\\nOn Lok, Inc. is a not-for-profit organization founded in the early 1970s by a group of citizens concerned about the plight of elders and the lack of long term options in the community. On Lok, Inc. serves as the administrative arm of a group of five affiliated non-profit organizations. Its functions include research and development, human resources, fundraising and management information systems.\\nWe understand the importance of a system that works together. Your expertise, drive and passion can help us carry out our mission to improve lives and advance healthcare.\\nJoin our team of leaders to begin a rewarding career!\\nPOSITION SUMMARY: The Development Assistant supports the fundraising activities of the Development Department through a broad range of administrative support, including assisting with maintaining data quality of the fundraising database (Salesforce), producing standard reports, thanking donors by phone, electronically, and in writing, and facilitating the gift acceptance and acknowledgement process. This position reports directly to the Philanthropy Officer.\\nDUTIES / RESPONSIBILITIES:\\nEnsure that accurate records of all contacts with donors and prospects are maintained in Salesforce.\\nEfficiently and promptly facilitate gift data entry and acknowledgement processing on the same day, or within 48 hours at the latest.\\nCoordinate and execute mailings for gift solicitations and coordinate communications as prescribed by the department annual plan.\\nEnsure that accurate records are kept across all software systems. This includes reconciliation of accounting and other software information vs. Salesforce\\nCreate, run and analyze/edit reports as needed including mailing lists for multiple donor\\nStay up to date on software changes/updates. Recommend and assist adoption of new systems/processes.\\nOccasional evening and weekend work will be required to assist with fundraising\\nAssist Development Team with tasks and projects as needed.\\nAdministrative responsibilities and other related job duties as\\nQUALIFICATIONS (knowledge, skills, abilities):\\nHigh school diploma; additional computer training or certification not required but will be an\\nProven track record of meeting goals doing data entry and administrative duties as a Data Entry operator, Office Administrator or equivalent position.\\nA positive, collaborative, and solutions-oriented attitude and the ability to further strengthen a tight-knit and cohesive team.\\nExcellent written and verbal communication skills, attention to detail and accuracy, and ability to maintain confidentiality with sensitive information.\\nStrong organizational skills, with an ability to stay focused on assigned tasks and problem solve as conflicts arise.\\nInterpersonal and communication skills necessary to build our culture of philanthropy at On Lok while interacting with a variety of individuals including coworkers, community leaders, committee volunteers, health care professionals, and the general\\nAbility to maintain accurate data, operate word processing software, prepare reports, and prepare professional emails and\\nExperience with MS Office and other data programs like Salesforce, Classy, Greater Giving and/or Eventbrite preferred.\\nWORKING CONDITIONS:\\nMust be able to work at a standard workstation and to work remotely as needed during Shelter in Place.\\nPHYSICAL &amp; MENTAL REQUIREMENTS:\\nMust be able to lift 50 lbs.\\nOn Lok's Employee Benefits include (eligible for any regular position for 20 hr/wk or more):\\nMedical, Dental, and Vision coverage\\nRetirement Savings Plan 403(b) and Term Life/AD&amp;D Insurance\\nFlexible Spending Account, Commuter Checks, MLA scholarships, Employee Assistance Program (EAP)\\nPet Insurance and additional discounts\\nHolidays (10 per year), vacation time, sick leave, and long-term disability insurance\\nPursuant to the San Francisco Fair Chance Ordinance, and state and federal laws (including federal PACE requirements at 42 CFR 460.64(a); 460.68(a), we will consider for employment qualified applicants with arrest and conviction records.\\nOn Lok is an equal opportunity employer committed to a diverse and inclusive workforce. All applicants will receive consideration for employment without regard to sex (including pregnancy), race, religion, color, gender, gender identity, gender expression, sexual orientation, national origin, ancestry, disability, medical condition, genetic information, marital status, age, military or veteran status, or any other legally protected status.\\nIf you require reasonable accommodation to participate in the job application or interview process, to perform essential job functions and/or to receive other terms, privileges or benefits of employment please contact Recruitment (recruitment@onlok.org).</td>\n",
       "      <td>None</td>\n",
       "      <td>3.6</td>\n",
       "      <td>[{'summary_text': ' On Lok, Inc. serves as the administrative arm of a group of five affiliated non-profit organizations . It was founded in the 1970s by a group concerned about the lack of long term options in the community . Its functions include research and development, human resources, fundraising and management information systems .'}]</td>\n",
       "    </tr>\n",
       "  </tbody>\n",
       "</table>\n",
       "</div>"
      ],
      "text/plain": [
       "                                                      title  \\\n",
       "20  Data Analyst (Entry) - Data Science - R&D - PH - US_new   \n",
       "21                                      Payroll Manager_new   \n",
       "22   Program Manager, Business Operations, Data Centers_new   \n",
       "23                              Contracts Administrator_new   \n",
       "24                                Development Assistant_new   \n",
       "\n",
       "                                                   company  \\\n",
       "20                                                   Bayer   \n",
       "21  Golden Gate Bridge Highway and Transportation District   \n",
       "22                                                  Google   \n",
       "23                       Banking and Finance Professionals   \n",
       "24                                                  On Lok   \n",
       "\n",
       "                                             location  \\\n",
       "20                                 Berkeley, CA 94710   \n",
       "21                  San Rafael, CA 94901 (Canal area)   \n",
       "22                                  San Francisco, CA   \n",
       "23                              Foster City, CA 94404   \n",
       "24  San Francisco, CA 94111 (Financial District area)   \n",
       "\n",
       "                                                                                                                                                            summary  \\\n",
       "20             Experience with data dashboarding (Spotfire, tableau, or similar).\\nWork with users (scientists) to ensure the tools we build are usable and useful.   \n",
       "21   Maintain control of payroll system; conduct regular system and process audits to ensure data integrity and compliance.\\nPosition is located in San Rafael, CA.   \n",
       "22                                  Bachelor's degree in Technology, Engineering, Science, Economics, Business or related field or equivalent practical experience.   \n",
       "23  Ø Conduct analysis and maintain database systems related to contracts and proposals.\\nØ Perform data integrity and quality control checks to identify areas of…   \n",
       "24           Proven track record of meeting goals doing data entry and administrative duties as a Data Entry operator, Office Administrator or equivalent position.   \n",
       "\n",
       "                                                                                                                                                                                                                                                                                                                                                                                                                                                                                                                                                                                                                                                                                                                                                                                                                                                                                                                                                                                                                                                                                                                                                                                                                                                                                                                                                                                                                                                                                                                                                                                                                                                                                                                                                                                                                                                                                                                                                                                                                                                                                                                                                                                                                                                                                                                                                                                                                                                                                                                                                                                                                                                                                                                                                                                                                                                                                                                                                                                                                                                                                                                                                                                                                                                                                                                                                                                                                                                                                                                                                                                                                                                                                                                                                                                                                                                                                                                                                                                                                                                                                                                                                                                                                                                                                                                                                                                                                                                                                                                                                                                                                                                                                                                                                                                                                                                                                                                                                                                                                                                                                                                                                                                                                                                                                                                                                                                                                                                                                                                                                                                                                                                                                                                                                                                                                                                                                                                                                                                                                                                                                                                                                                                                                                                                                                                                                                                                                                                                                                                                                                                                                                                                                                                                                                                                                                                                                                                                                                                                                                                                                                                                                                                                                                                                                                                                                                                                                                                                                                                                                                                                                                                                                                                                                                                                                                                                                                                                                                                                                                                                                                                                                                                                                                                                                                                                                                                                                                                                                                                                                                                                                                                                                                                                                                                                                                                                                                                                                                                                                                                                                                                                                                                                                                                                                                                                                                                                                                                                                                                                                                                                                                                                                                                                                                                                                                                                                                                                                                                                                                                                                                                                                                                                                                                                                                                                                                                                                    description  \\\n",
       "20                                                                                                                                                                                                                                                                                                                                                                                                                                                                                                                                                                                                                                                                                                                                                                                                                                                                                                                                                                                                                                                                                                                                                                                                                                                                                                                                                                                                                                                                                                                                                                                                                                                                                                                                                                                                                                                                                                                                                                                                                                                                                                                                                                                                                                                                                                                                                                                                                                                                                                                                                                                                                                                                                                                                                                                                                                                                                                                                                                                                                                                                                                                                                                                                                                                                                                                                                                                                                                                                                                                                                                                                                                                                                                                                                                                                                                                                                                                                                                                                                                                                                                                                                                                                                                                                                                                                                                                                                                                                                                                                                                                                                                                                                                                                                                                                                                                                                                                                                                                                                                                                                                                                                                                                                                                                                                                                                                                                                                                                                                                                                                                                                                                                                                                                                                                                                                                                                                                                                                                                                                                                                                                                                                                                                                                                                                                                                                                                                                                                                                                                                                                                                                                                                                                                                                                                                                                                                                                                                                                                                                                                                                                                                                                                                                                                                                                                                                                                                                                                                                                                                                                                                                                                                                                                                                                                                                                                                                                                                                                                                                                                                                                                                                                                                                                                                                                                                                                                                                                                                                                                                                                                                                                                                                                                                                                                                                                                                                                                                                                                                                                                                                                                                                                                                                                                                                                                                                                                                                                      Perform the following tasks related to the software applications:\\nConfiguration\\nDevelopment of templates and dashboards\\nWork with users (scientists) to ensure the tools we build are usable and useful\\nQuickly learn biologics manufacturing process concepts\\nEstablish and document best practices\\nAnswer user questions\\nTroubleshoot problems\\nTrain users\\nRequired qualification\\nUniversity degree with 2+ years experience\\nNeeds to be someone excited to learn new tools and work with customers\\nDemonstrated ability to master software (e.g., experience with scripting; complex software configuration)\\nPreferred qualification\\nExperience with ISA-88 Batch Processing\\nExperience with biological laboratory techniques\\nExperience with chemical manufacturing and control\\nExperience with data dashboarding (Spotfire, tableau, or similar)\\nData analysis experience\\nExperience with Riffyn Nexus, Fluxa PKM, or QbDVision\\nBAY1JP00006374   \n",
       "21  POSITION: PAYROLL MANAGER (PS101503)Position is located in San Rafael, CA.SALARY RANGE: $102,252.80 to $123,593.60 annually plus excellent benefits 40-hour workweekEmployee pays 7% of salary/wage toward CalPERS retirement plan DATEPOSITION DESCRIPTION:Under general direction of the Director of Accounting along with collaboration with the Managers of Human Resources, Deputy General Manager-Administrative and Development, and the District’s legal counsel, this position manages the Payroll Department & represents the District’s interests in all payroll, benefit & pension matters. The Payroll Manager plans, develops, interprets, and implements all activities of the Payroll Department through subordinate staff in a highly demanding and fast-paced environment.The position is committed toward continuous improvement in accuracy, efficiency and service levels to ensure readiness for growth and the ability to provide superior service. In addition, this position develops and executes a vision for future processes and systems including project implementation plans and monitoring & reporting of process improvement initiatives. Other key areas of responsibility include, but are not limited to, leadership in addressing financial controls with both internal and external stakeholders; being an expert in compliance with federal and California state laws as they impact compensation and tax reporting, knowledge of Memorandum of Understanding (MOU) contracts, CalPERS legislative policy and procedures, any other pension legislation.The position also provides professional development opportunities for the Payroll team and implementation of District’s policies and procedures; takes ownership of software systems that support payroll processing and reporting; organize, assign, direct, review and evaluate the work of assigned staff. The role must stay abreast of the latest developments in compensation and pension law and serves as the subject matter expert on all payroll issues. In partnership with Human Resources, the position also guides management toward resolution of compensation issues to ensure compliance with the law yet address practicality of proposed solutions and is very hands-on with the District’s payroll objectives and processing. Payroll Manager (PS101503)MINIMUM JOB REQUIREMENTS:Education and/or Experience:A Bachelor’s degree in Business Administration, Finance, Public Administration, Accounting, or in any related field. Qualifying experience may be substituted on a year-for-year basis in lieu of education. A written statement detailing qualifying experience must be submitted with the application.A minimum of seven years of in-house payroll processing and reporting requirements for federal, state, and pension/retirement plan authorities in organizations of 700+ employees.A minimum four years of recent related supervisory and/or managerial level payroll systems knowledge.Experience with public sector payroll accounting, particularly with a transportation background, is highly desirable.Required License:Must possess and maintain a current, valid California driver's license and satisfactory driving record (Operates District vehicles on a regular basis).CPP (Certified Payroll Professional) certification desirable.Physical Requirements:Mobility to work in a typical office setting. Ability to communicate in person and over the telephone. Ability to read printed materials and a computer screen. Ability to travel to District facilities. Routine use of computer, telephone and other office equipment.ESSENTIAL RESPONSIBILITIES:Oversees the in-house compensation processing associated with a multi-location agency, covering 64 bi-weekly and monthly payroll-reporting periods. The District comprises 800+ employees, 26 bargaining units, 17 unions, 4 pension plans (CalPERS, ATU, IBU & MEBA), has numerous health plans (high deductible plans, self-insured providers, etc.), and two separate timekeeping systems.Manage compliance with: federal, state & local tax law & quarterly and annual payroll reporting (DE9, 941s), etc., tax deposit reporting, involuntary deductions (levies) (IRS, EDD, FTB), union benefit trusts payment & reporting, Bureau of Labor Statistics reporting, National Transit Database compilation and pension requirements.Interprets, educates and applies a variety of laws and regulations governing payroll administration. This includes pertinent labor contract and administrative code provisions, annual salary and salary standardization directives, departmental rules and other documents governing employee's pay and benefit rights. Written and oral explanations to management, union officials and employees is necessitated.Advises District management, supervisors and employees on the interpretation and application of Payroll guidelines/policies, Federal and State regulations and internal Memorandums of Understanding (MOU).Communicates and enforces organization-wide payroll policies and processes regarding earnings, deductions, timekeeping and government compliance reporting. Develops written procedures to document processes & rationale behind decision-making.Supervises internal departmental audits to ensure the accuracy of reporting and compliance with District policies and procedures. Payroll Manager (PS101503)Provides support to external auditors in the performance of their work by answering questions involving District policy and procedures and producing schedules/documentation that will assist the auditors in the timely completion of their work.Educate & train the Payroll team continuously.May represent the District’s interests at local meetings, including arbitration hearings.Performs other duties as assigned.Regular and reliable attendance and performance required.REQUIRED KNOWLEDGE, SKILLS AND ABILITIES:Working knowledge of:District policies and Memorandums of Understanding (MOUs) for bargaining unitsModern management and administrative practices such as: supervision, strategic planning, goal setting, budgeting, and information technology systems planning and implementation.Federal, State & local laws; deferred compensation plans; voluntary pre-and post-tax deductions; involuntary deductions; calculation of employee taxes, tax reporting, record retention and payroll accounting & audits. Skill in or Ability to:  * Motivate and develop a teamProject ManagementEffective verbal and written communication skill, problem solving and decision making skillsExceptional attention to detail and accuracyCoaching, conflict resolution, and performance managementProvide excellent customer serviceDevelop and maintain effective, productive, cooperative working relationships with employees, supervisory personnel, management, representatives from other agencies, the public and others contacted during the course of workMaintain continuous education of existing and new legislation; enforcing adherence to such requirements; advising management on needed actions and analyzing impact on payroll system.Work independently and effectively under pressure to meet deadlinesUnderstand, interpret, and apply complex rules, regulations, and legal provisions governing compensation and benefitsMaintain control of payroll system; conduct regular system and process audits to ensure data integrity and complianceAPPLICATION PROCEDURE:FAILURE TO MEET ANY OF THE REQUIREMENTS STATED BELOW MAY RESULT IN REJECTION OF YOUR APPLICATION.TO APPLY: www.goldengate.org/jobsApplicants must apply online by the deadline date. Applications received after the deadline will not be considered. For directions and general information, visit our website www.goldengate.org. The District’s primary and official means of application notification is via EMAIL. Thus, applicants are advised to check their email for their application status updates.THE FOLLOWING DOCUMENTS MUST BE SUBMITTED AT TIME OF APPLICATION:1. GGBHTD Online Employment Application2. Resume (Scan and attach as PDF to your online application)3. Applicants who do not possess a degree must attach a statement supporting position related experience in lieu of degree (Scan and attach as PDF to your online application)4. Supplemental Questionnaire (Scan and attach as PDF to your online application)THE SELECTION PROCESS MAY INCLUDE:Assessment of education, training, and experienceOral Panel InterviewDepartment interview for final candidatesBackground, Employment and Security Investigation*** The District will only invite those candidates whose qualifications MOST CLOSELY MATCH the position requirements to continue in the selection process.AN EQUAL OPPORTUNITY EMPLOYERIt is the policy of the Golden Gate Bridge Highway and Transportation District to take all personnel actions on the basis of merit and other job-related factors, without regard to race, color, national origin, religion, sex (including pregnancy, childbirth, and related medical conditions), disability: physical or mental, age (40 and older), genetic information, marital status, sexual orientation and identity, medical condition, political affiliation or military status.Applicants with Disabilities: The Human Resources Department will make reasonable efforts to accommodate applicants with disabilities to complete the Employment Application and in any job-related examination process. If you have special needs, please call (415) 257-4535 (Human Resources).Job Type: Full-timePay: $102,252.00 - $123,593.00 per yearBenefits:Health insuranceSchedule:8 hour shiftEducation:Bachelor's (Preferred)Experience:Payroll: 1 year (Preferred)Accounting: 1 year (Preferred)Work Location:One locationThis Job Is Ideal for Someone Who Is:Dependable -- more reliable than spontaneousDetail-oriented -- would rather focus on the details of work than the bigger pictureAchievement-oriented -- enjoys taking on challenges, even if they might failCompany's website:https://www.goldengate.org/district/careers/current-job-openings/Company's Facebook page:https://www.goldengate.org/district/careers/current-job-openings/   \n",
       "22                                                                                                                                                                                                                                                                                                                                                                                                                                                                                                                                                                                                                                                                                                                                                                                                                                                                                                                                                                                                                                                                                                                                                                                                                                                                                                                                                                                                                                                                                                                                                                                                                                                                                                                                                                                                                                                                                                                                                                                                                                                                                                                                                                                                                                                                                                                                                                                                                                                                                                                                                                                                                                                                                                                                                                                                                                                                                                                                                                                                                                                                                                                                                                                                                                                                                                                                                                                                                                                                                                                                                                                                                                                                                                                                                                                                                                                                                                                                                                                                                                                                                                                                                                                                                                                                                                                                                                                                                                                                                                                                                                                                                                                                                                                                                                                                                                                                                                                                                                                                                                                                                                                                                                                                                                                                                                                                                                                                                                                                                                                                                                                                                                                                                                                                                                                                                                                                                                                                                                                                                                                                                                                                                                                                                                                                                                                                                                                                                                                                                                                                                                                                                                                                                                                                                                                                                                                                                                                                                                                                                                                                                                                                                                                                                                                                                                                                                                                                                                                                                                                                                                                                                                                                                                                                                                                                                                                                                                                                                                                                             Note: By applying to this position your application is automatically submitted to the following locations: San Francisco, CA, USA; Sunnyvale, CA, USA\\nMinimum qualifications:\\n\\nBachelor's degree in Technology, Engineering, Science, Economics, Business or related field or equivalent practical experience.\\n1-year of experience in project or program management.\\nExperience creating dashboards (Looker, Tableau, Data Studio, or other similar tool).\\nExperience distilling information into graphics, slides, notes and tables.\\n\\nPreferred qualifications:\\n\\nExperience with project planning, status reporting, timeline estimation, issue tracking, meeting facilitation, and process documentation.\\nExperience with SQL (query, merge, filter, subquery)\\nAbout the job\\nGoogle's projects, like our users, span the globe and require managers to keep the big picture in focus. As a Program Manager at Google, you lead complex, multi-disciplinary projects. You plan requirements with internal customers and usher projects through the entire project lifecycle. This includes managing project schedules, identifying risks and clearly communicating goals to project stakeholders. Your projects often span offices, time zones and hemispheres, and it's your job to keep all the players coordinated on the project's progress and deadlines.\\nResponsibilities\\nMaintain and/or improve existing business processes.\\nDevelop and manage documentation for different tools and processes.\\nTrack progress on diverse business initiatives; and ensure projects are driven to completion.\\nCommunicate updates to cross-functional stakeholders and manage content of team website.\\nDevelop training materials and user documentation for different tools and processes.\\nGoogle is proud to be an equal opportunity workplace and is an affirmative action employer. We are committed to equal employment opportunity regardless of race, color, ancestry, religion, sex, national origin, sexual orientation, age, citizenship, marital status, disability, gender identity or Veteran status. We also consider qualified applicants regardless of criminal histories, consistent with legal requirements. See also Google's EEO Policy and EEO is the Law. If you have a disability or special need that requires accommodation, please let us know by completing this form.   \n",
       "23                                                                                                                                                                                                                                                                                                                                                                                                                                                                                                                                                                                                                                                                                                                                                                                                                                                                                                                                                                                                                                                                                                                                                                                                                                                                                                                                                                                                                                                                                                                                                                                                                                                                                                                                                                                                                                                                                                                                                                                                                                                                                                                                                                                                                                                                                                                                                                                                                                                                                                                                                                                                                                                                                                                                                                                                                                                                                                                                                                                                                                                                                                                                                                                                                                                                                                                                                                                                                                                                                                                                                                                                                                                                                                                                                                                                                                                                                                                                                                                                                                                                                                                                                                                                                                                                                                                                                                                                                                                                                                                                                                                                                                                                                                                                                                                                                                                                                                                                                                                                                                                                                                                                                                                                                                                                                                                                                                                                                                                                                                                                                                                                                                                                                                                                                                                                                                                                                                                                                                                                                                                                                                                                                                                                                                                                                                                                                                                                                                                                                                                                                                                                                                                                                                                                                                                                                                                                                                                                                                                                                                                                                                                                                                                                                                                                                                                                                                                                                                                                                                                                                                                                                                                                                                                                                                                                                                                                                                                                                                                                                                                                                                                                                                                                        Ø Conduct analysis and maintain database systems related to contracts and proposalsØ Execute and distribute various reports presenting statistics to departmental management to keep them advised on the status, volume of contracts being executed or amended.Ø Provide internal stakeholders with tracking reports, memos and other ad hoc reports in a timely manner.Ø Perform data integrity and quality control checks to identify areas of improvement or training needed within the department.Ø Serve as a business partner to contract management team to provide customer or account reports and other information to facilitate contract negotiation or renewal.Ø Monitor and manage contracts status (execution, amendment, renewal and termination) and communicates with internal stakeholders and external customers to resolve issues and discrepancies.Ø Track various ad hoc requests for contractual terms to support business needs and initiatives.Ø Work with Project Lead, Contract Managers, and internal / external expert consultants to provide input on the design and update of contract and proposal management tool (Apttus).Ø Ensure all contract data and information is appropriately entered into contract lifecycle management (CLM) tool.Ø Support in maintaining an active issue log for Apttus and partner with IT to remediate issues.Ø Participate in updating and maintaining Standard Operating Procedures (SOPs) and work instructions on a periodical basis.Ø Assist Contract Managers with drafting and negotiating contracts, on an as-needed basis. May be required to work with cross-functional teams (including Legal, Finance, Government Price Reporting, and Operations) for contract input.Advance knowledge in Microsoft Excel, PowerPoint, SharePoint, and Word and working knowledge of contract lifecycle management (CLM) systems.Experience with SalesForce CRM preferred.Job Types: Full-time, ContractPay: $50.00 - $60.00 per hourBenefits:Health insuranceSchedule:Monday to FridayContract Length:1 yearContract Renewal:PossibleWork Location:One locationWork Remotely:Temporarily due to COVID-19COVID-19 Precaution(s):Remote interview process   \n",
       "24                                                                                                                                                                                                                                                                                                                                                                                                                                                                                                                                                                                                                                                                                                                                                                                                                                                                                                                                                                                                                                                                                                                                                                                                                                                                                                                                                                                                                                                                                                                                                                                                                                                                                                                                                                                                                                                                                                                                                                                                                                                                                                                                                                                                                                                                                                                                                                                                                                                                                                                                                                                                                                                                                                                                                                                                                                                                                                                                                                                                                                                                                                                                                                                                                                                                                                                                                                                                                                                                                                                                                                                                                                                                                                                                                                                                                                                                                                                                                                                                                                                                                                                                                                                                                                                                                                                                                                                                                                                                                                                                                                                                                                                                                                                                                                                                                                                                                                                                                                                                                                                                                                                                                                                                                                                                                                                                                                                                   On Lok Inc.\\nDedicated to The Care of Elders:\\nOn Lok, Inc. is a not-for-profit organization founded in the early 1970s by a group of citizens concerned about the plight of elders and the lack of long term options in the community. On Lok, Inc. serves as the administrative arm of a group of five affiliated non-profit organizations. Its functions include research and development, human resources, fundraising and management information systems.\\nWe understand the importance of a system that works together. Your expertise, drive and passion can help us carry out our mission to improve lives and advance healthcare.\\nJoin our team of leaders to begin a rewarding career!\\nPOSITION SUMMARY: The Development Assistant supports the fundraising activities of the Development Department through a broad range of administrative support, including assisting with maintaining data quality of the fundraising database (Salesforce), producing standard reports, thanking donors by phone, electronically, and in writing, and facilitating the gift acceptance and acknowledgement process. This position reports directly to the Philanthropy Officer.\\nDUTIES / RESPONSIBILITIES:\\nEnsure that accurate records of all contacts with donors and prospects are maintained in Salesforce.\\nEfficiently and promptly facilitate gift data entry and acknowledgement processing on the same day, or within 48 hours at the latest.\\nCoordinate and execute mailings for gift solicitations and coordinate communications as prescribed by the department annual plan.\\nEnsure that accurate records are kept across all software systems. This includes reconciliation of accounting and other software information vs. Salesforce\\nCreate, run and analyze/edit reports as needed including mailing lists for multiple donor\\nStay up to date on software changes/updates. Recommend and assist adoption of new systems/processes.\\nOccasional evening and weekend work will be required to assist with fundraising\\nAssist Development Team with tasks and projects as needed.\\nAdministrative responsibilities and other related job duties as\\nQUALIFICATIONS (knowledge, skills, abilities):\\nHigh school diploma; additional computer training or certification not required but will be an\\nProven track record of meeting goals doing data entry and administrative duties as a Data Entry operator, Office Administrator or equivalent position.\\nA positive, collaborative, and solutions-oriented attitude and the ability to further strengthen a tight-knit and cohesive team.\\nExcellent written and verbal communication skills, attention to detail and accuracy, and ability to maintain confidentiality with sensitive information.\\nStrong organizational skills, with an ability to stay focused on assigned tasks and problem solve as conflicts arise.\\nInterpersonal and communication skills necessary to build our culture of philanthropy at On Lok while interacting with a variety of individuals including coworkers, community leaders, committee volunteers, health care professionals, and the general\\nAbility to maintain accurate data, operate word processing software, prepare reports, and prepare professional emails and\\nExperience with MS Office and other data programs like Salesforce, Classy, Greater Giving and/or Eventbrite preferred.\\nWORKING CONDITIONS:\\nMust be able to work at a standard workstation and to work remotely as needed during Shelter in Place.\\nPHYSICAL & MENTAL REQUIREMENTS:\\nMust be able to lift 50 lbs.\\nOn Lok's Employee Benefits include (eligible for any regular position for 20 hr/wk or more):\\nMedical, Dental, and Vision coverage\\nRetirement Savings Plan 403(b) and Term Life/AD&D Insurance\\nFlexible Spending Account, Commuter Checks, MLA scholarships, Employee Assistance Program (EAP)\\nPet Insurance and additional discounts\\nHolidays (10 per year), vacation time, sick leave, and long-term disability insurance\\nPursuant to the San Francisco Fair Chance Ordinance, and state and federal laws (including federal PACE requirements at 42 CFR 460.64(a); 460.68(a), we will consider for employment qualified applicants with arrest and conviction records.\\nOn Lok is an equal opportunity employer committed to a diverse and inclusive workforce. All applicants will receive consideration for employment without regard to sex (including pregnancy), race, religion, color, gender, gender identity, gender expression, sexual orientation, national origin, ancestry, disability, medical condition, genetic information, marital status, age, military or veteran status, or any other legally protected status.\\nIf you require reasonable accommodation to participate in the job application or interview process, to perform essential job functions and/or to receive other terms, privileges or benefits of employment please contact Recruitment (recruitment@onlok.org).   \n",
       "\n",
       "                        salary rating  \\\n",
       "20                        None    4.2   \n",
       "21  $102,252 - $123,593 a year   None   \n",
       "22                        None    4.3   \n",
       "23           $50 - $60 an hour   None   \n",
       "24                        None    3.6   \n",
       "\n",
       "                                                                                                                                                                                                                                                                                                                                                                                                  desc_summarizer  \n",
       "20                                                    [{'summary_text': ' Perform the following tasks related to the software applications: Configuration and development of templates and dashboards . Work with users (scientists) to ensure the tools we build are usable and useful. Quickly learn biologics manufacturing process concepts. Establish and document best practices; answer user questions.'}]  \n",
       "21                             [{'summary_text': ' The Payroll Manager plans, develops, interprets, and implements all activities of the Payroll Department through subordinate staff . The position is committed toward continuous improvement in accuracy, efficiency and service levels to ensure readiness for growth and the ability to provide superior service . Position is located in San Rafael, CA.'}]  \n",
       "22                             [{'summary_text': \" Program Manager at Google leads complex, multi-disciplinary projects . Google's projects, like our users, span the globe and require managers to keep the big picture in focus. You plan requirements with internal customers and usher projects through the entire proj. The position is located in San Francisco, California, and Sunnyvale, California .\"}]  \n",
       "23  [{'summary_text': ' The role is to conduct analysis and maintain database systems related to contracts and proposals . Perform data integrity and quality control checks to identify areas of improvement or training needed . Execute and distribute various reports presenting statistics to departmental management to keep them advised on the status, volume of contracts being executed or amended .'}]  \n",
       "24                                                        [{'summary_text': ' On Lok, Inc. serves as the administrative arm of a group of five affiliated non-profit organizations . It was founded in the 1970s by a group concerned about the lack of long term options in the community . Its functions include research and development, human resources, fundraising and management information systems .'}]  "
      ]
     },
     "execution_count": 22,
     "metadata": {},
     "output_type": "execute_result"
    }
   ],
   "source": [
    "df = pd.read_csv('jobs_summarized.csv', )\n",
    "df = df.drop(columns=['Unnamed: 0'])\n",
    "df[20:25]"
   ]
  },
  {
   "cell_type": "code",
   "execution_count": 25,
   "metadata": {
    "ExecuteTime": {
     "end_time": "2021-02-22T05:50:22.301133Z",
     "start_time": "2021-02-22T05:50:22.294569Z"
    }
   },
   "outputs": [],
   "source": [
    "df['description'].dropna(inplace=True)"
   ]
  },
  {
   "cell_type": "code",
   "execution_count": 27,
   "metadata": {
    "ExecuteTime": {
     "end_time": "2021-02-22T05:55:31.041654Z",
     "start_time": "2021-02-22T05:55:31.032339Z"
    }
   },
   "outputs": [],
   "source": [
    "df_norating = df[df['rating'] == 'None']\n",
    "df_rating = df[df['rating'] != 'None']"
   ]
  },
  {
   "cell_type": "code",
   "execution_count": 32,
   "metadata": {
    "ExecuteTime": {
     "end_time": "2021-02-22T06:10:35.067283Z",
     "start_time": "2021-02-22T06:10:34.977187Z"
    }
   },
   "outputs": [],
   "source": [
    "df_rating.to_csv('jobs_df_rating.csv', index=False)"
   ]
  },
  {
   "cell_type": "code",
   "execution_count": 31,
   "metadata": {
    "ExecuteTime": {
     "end_time": "2021-02-22T06:10:33.033609Z",
     "start_time": "2021-02-22T06:10:32.983365Z"
    }
   },
   "outputs": [],
   "source": [
    "df_norating.to_csv('jobs_df_norating.csv', index=False)"
   ]
  },
  {
   "cell_type": "code",
   "execution_count": 33,
   "metadata": {
    "ExecuteTime": {
     "end_time": "2021-02-22T06:10:59.704801Z",
     "start_time": "2021-02-22T06:10:59.644742Z"
    }
   },
   "outputs": [],
   "source": [
    "df_rating = pd.read_csv('jobs_df_rating.csv')"
   ]
  },
  {
   "cell_type": "code",
   "execution_count": 43,
   "metadata": {
    "ExecuteTime": {
     "end_time": "2021-02-22T06:19:50.271096Z",
     "start_time": "2021-02-22T06:19:50.251404Z"
    }
   },
   "outputs": [
    {
     "name": "stdout",
     "output_type": "stream",
     "text": [
      "<class 'pandas.core.frame.DataFrame'>\n",
      "RangeIndex: 559 entries, 0 to 558\n",
      "Data columns (total 9 columns):\n",
      " #   Column           Non-Null Count  Dtype  \n",
      "---  ------           --------------  -----  \n",
      " 0   title            559 non-null    object \n",
      " 1   company          559 non-null    object \n",
      " 2   location         559 non-null    object \n",
      " 3   summary          559 non-null    object \n",
      " 4   description      544 non-null    object \n",
      " 5   salary           559 non-null    object \n",
      " 6   rating           559 non-null    float64\n",
      " 7   desc_summarizer  559 non-null    object \n",
      " 8   rating_class     559 non-null    object \n",
      "dtypes: float64(1), object(8)\n",
      "memory usage: 39.4+ KB\n"
     ]
    }
   ],
   "source": [
    "df_rating.info()"
   ]
  },
  {
   "cell_type": "code",
   "execution_count": 40,
   "metadata": {
    "ExecuteTime": {
     "end_time": "2021-02-22T06:19:19.869891Z",
     "start_time": "2021-02-22T06:19:19.862972Z"
    }
   },
   "outputs": [],
   "source": [
    "df_rating['rating'] = df_rating['rating'].astype(float)"
   ]
  },
  {
   "cell_type": "code",
   "execution_count": 4,
   "metadata": {
    "ExecuteTime": {
     "end_time": "2021-02-23T07:26:44.522417Z",
     "start_time": "2021-02-23T07:26:44.501552Z"
    }
   },
   "outputs": [],
   "source": [
    "def classify_rating(num):\n",
    "    if float(num) < 3.5:\n",
    "        return 'below average'\n",
    "    elif float(num) > 4:\n",
    "        return 'above average'\n",
    "    else:\n",
    "        return 'average'\n",
    "\n",
    "\n",
    "df_rating['rating_class'] = df_rating['rating'].apply(lambda x: classify_rating(x))"
   ]
  },
  {
   "cell_type": "code",
   "execution_count": 3,
   "metadata": {
    "ExecuteTime": {
     "end_time": "2021-02-23T07:26:40.393135Z",
     "start_time": "2021-02-23T07:26:39.939067Z"
    }
   },
   "outputs": [],
   "source": [
    "df_rating = pd.read_csv('data_glassdoor.csv')"
   ]
  },
  {
   "cell_type": "code",
   "execution_count": 152,
   "metadata": {
    "ExecuteTime": {
     "end_time": "2021-02-23T07:03:04.756824Z",
     "start_time": "2021-02-23T07:03:04.750514Z"
    }
   },
   "outputs": [
    {
     "data": {
      "text/html": [
       "<div>\n",
       "<style scoped>\n",
       "    .dataframe tbody tr th:only-of-type {\n",
       "        vertical-align: middle;\n",
       "    }\n",
       "\n",
       "    .dataframe tbody tr th {\n",
       "        vertical-align: top;\n",
       "    }\n",
       "\n",
       "    .dataframe thead th {\n",
       "        text-align: right;\n",
       "    }\n",
       "</style>\n",
       "<table border=\"1\" class=\"dataframe\">\n",
       "  <thead>\n",
       "    <tr style=\"text-align: right;\">\n",
       "      <th></th>\n",
       "      <th>salary_min</th>\n",
       "      <th>salary_max</th>\n",
       "      <th>description</th>\n",
       "      <th>rating</th>\n",
       "      <th>company</th>\n",
       "      <th>title</th>\n",
       "      <th>salary_avg</th>\n",
       "      <th>rating_class</th>\n",
       "    </tr>\n",
       "  </thead>\n",
       "  <tbody>\n",
       "    <tr>\n",
       "      <th>0</th>\n",
       "      <td>37000.0</td>\n",
       "      <td>66000.0</td>\n",
       "      <td>Are you eager to roll up your sleeves and harness data to drive policy change? Do you enjoy sifting through complex datasets to illuminate trends and insights? Do you see yourself working for a values-driven organization with a vision to tackle the most pressing injustices of our day?\\n\\nWe are looking to hire a bright, hard-working, and creative individual with strong data management skills a...</td>\n",
       "      <td>3.2</td>\n",
       "      <td>Vera Institute of Justice</td>\n",
       "      <td>Data Analyst, Center on Immigration and Justice (CIJ)</td>\n",
       "      <td>51500.0</td>\n",
       "      <td>below average</td>\n",
       "    </tr>\n",
       "    <tr>\n",
       "      <th>1</th>\n",
       "      <td>37000.0</td>\n",
       "      <td>66000.0</td>\n",
       "      <td>Overview\\n\\nProvides analytical and technical support for the integration of multiple data sources used to prepare internal and external reporting for the Quality Management team and business stakeholders. Provides support and analytical insight for Quality Incentive measures, HEDIS measures, and Quality Improvement initiatives. Monitors, analyzes, and communicates Quality performance related ...</td>\n",
       "      <td>3.8</td>\n",
       "      <td>Visiting Nurse Service of New York</td>\n",
       "      <td>Quality Data Analyst</td>\n",
       "      <td>51500.0</td>\n",
       "      <td>average</td>\n",
       "    </tr>\n",
       "    <tr>\n",
       "      <th>2</th>\n",
       "      <td>37000.0</td>\n",
       "      <td>66000.0</td>\n",
       "      <td>We’re looking for a Senior Data Analyst who has a love of mentorship, data visualization, and generating actionable insights from raw data. In this role, you’ll have the opportunity to be an organizational influencer, who will generate insights with a good degree of autonomy, and partner with data science to grow deeper analytical skills. You will be joining the Insights &amp; Analytics team, a te...</td>\n",
       "      <td>3.4</td>\n",
       "      <td>Squarespace</td>\n",
       "      <td>Senior Data Analyst, Insights &amp; Analytics Team [Customer Operations]</td>\n",
       "      <td>51500.0</td>\n",
       "      <td>below average</td>\n",
       "    </tr>\n",
       "    <tr>\n",
       "      <th>3</th>\n",
       "      <td>37000.0</td>\n",
       "      <td>66000.0</td>\n",
       "      <td>Requisition NumberRR-0001939\\nRemote:Yes\\nWe collaborate. We create. We innovate.\\n\\nIntrigued?\\n\\nYou’re a business professional with an innate curiosity that thrives in a dynamic and Agile environment. You appreciate teamwork, exemplify integrity, perseverance, flexibility, and a generosity of spirit… if this sounds like you, then please apply – we’d love to meet you!\\n\\nCelerity is expandin...</td>\n",
       "      <td>4.1</td>\n",
       "      <td>Celerity</td>\n",
       "      <td>Data Analyst</td>\n",
       "      <td>51500.0</td>\n",
       "      <td>above average</td>\n",
       "    </tr>\n",
       "    <tr>\n",
       "      <th>4</th>\n",
       "      <td>37000.0</td>\n",
       "      <td>66000.0</td>\n",
       "      <td>ABOUT FANDUEL GROUP\\n\\nFanDuel Group is a world-class team of brands and products all built with one goal in mind — to give fans new and innovative ways to interact with their favorite games, sports, teams, and leagues. That's no easy task, which is why we're so dedicated to building a winning team. And make no mistake, we are here to win, but we believe in winning right. That means we'll neve...</td>\n",
       "      <td>3.9</td>\n",
       "      <td>FanDuel</td>\n",
       "      <td>Reporting Data Analyst</td>\n",
       "      <td>51500.0</td>\n",
       "      <td>average</td>\n",
       "    </tr>\n",
       "  </tbody>\n",
       "</table>\n",
       "</div>"
      ],
      "text/plain": [
       "   salary_min  salary_max  \\\n",
       "0     37000.0     66000.0   \n",
       "1     37000.0     66000.0   \n",
       "2     37000.0     66000.0   \n",
       "3     37000.0     66000.0   \n",
       "4     37000.0     66000.0   \n",
       "\n",
       "                                                                                                                                                                                                                                                                                                                                                                                                       description  \\\n",
       "0  Are you eager to roll up your sleeves and harness data to drive policy change? Do you enjoy sifting through complex datasets to illuminate trends and insights? Do you see yourself working for a values-driven organization with a vision to tackle the most pressing injustices of our day?\\n\\nWe are looking to hire a bright, hard-working, and creative individual with strong data management skills a...   \n",
       "1  Overview\\n\\nProvides analytical and technical support for the integration of multiple data sources used to prepare internal and external reporting for the Quality Management team and business stakeholders. Provides support and analytical insight for Quality Incentive measures, HEDIS measures, and Quality Improvement initiatives. Monitors, analyzes, and communicates Quality performance related ...   \n",
       "2  We’re looking for a Senior Data Analyst who has a love of mentorship, data visualization, and generating actionable insights from raw data. In this role, you’ll have the opportunity to be an organizational influencer, who will generate insights with a good degree of autonomy, and partner with data science to grow deeper analytical skills. You will be joining the Insights & Analytics team, a te...   \n",
       "3  Requisition NumberRR-0001939\\nRemote:Yes\\nWe collaborate. We create. We innovate.\\n\\nIntrigued?\\n\\nYou’re a business professional with an innate curiosity that thrives in a dynamic and Agile environment. You appreciate teamwork, exemplify integrity, perseverance, flexibility, and a generosity of spirit… if this sounds like you, then please apply – we’d love to meet you!\\n\\nCelerity is expandin...   \n",
       "4  ABOUT FANDUEL GROUP\\n\\nFanDuel Group is a world-class team of brands and products all built with one goal in mind — to give fans new and innovative ways to interact with their favorite games, sports, teams, and leagues. That's no easy task, which is why we're so dedicated to building a winning team. And make no mistake, we are here to win, but we believe in winning right. That means we'll neve...   \n",
       "\n",
       "   rating                             company  \\\n",
       "0     3.2           Vera Institute of Justice   \n",
       "1     3.8  Visiting Nurse Service of New York   \n",
       "2     3.4                         Squarespace   \n",
       "3     4.1                            Celerity   \n",
       "4     3.9                             FanDuel   \n",
       "\n",
       "                                                                  title  \\\n",
       "0                 Data Analyst, Center on Immigration and Justice (CIJ)   \n",
       "1                                                  Quality Data Analyst   \n",
       "2  Senior Data Analyst, Insights & Analytics Team [Customer Operations]   \n",
       "3                                                          Data Analyst   \n",
       "4                                                Reporting Data Analyst   \n",
       "\n",
       "   salary_avg   rating_class  \n",
       "0     51500.0  below average  \n",
       "1     51500.0        average  \n",
       "2     51500.0  below average  \n",
       "3     51500.0  above average  \n",
       "4     51500.0        average  "
      ]
     },
     "execution_count": 152,
     "metadata": {},
     "output_type": "execute_result"
    }
   ],
   "source": [
    "df_rating.head()"
   ]
  },
  {
   "cell_type": "code",
   "execution_count": 121,
   "metadata": {
    "ExecuteTime": {
     "end_time": "2021-02-22T07:11:29.628390Z",
     "start_time": "2021-02-22T07:11:29.625577Z"
    }
   },
   "outputs": [
    {
     "data": {
      "text/plain": [
       "Index(['title', 'company', 'location', 'summary', 'description', 'salary',\n",
       "       'rating', 'desc_summarizer', 'rating_class'],\n",
       "      dtype='object')"
      ]
     },
     "execution_count": 121,
     "metadata": {},
     "output_type": "execute_result"
    }
   ],
   "source": [
    "df_rating.columns"
   ]
  },
  {
   "cell_type": "code",
   "execution_count": 5,
   "metadata": {
    "ExecuteTime": {
     "end_time": "2021-02-23T07:26:52.633767Z",
     "start_time": "2021-02-23T07:26:52.615092Z"
    }
   },
   "outputs": [
    {
     "data": {
      "text/plain": [
       "average          5849\n",
       "below average    5505\n",
       "above average    4093\n",
       "Name: rating_class, dtype: int64"
      ]
     },
     "execution_count": 5,
     "metadata": {},
     "output_type": "execute_result"
    }
   ],
   "source": [
    "df_rating['rating_class'].value_counts()\n"
   ]
  },
  {
   "cell_type": "code",
   "execution_count": 7,
   "metadata": {
    "ExecuteTime": {
     "end_time": "2021-02-23T07:27:07.885763Z",
     "start_time": "2021-02-23T07:27:07.224530Z"
    },
    "run_control": {
     "marked": false
    }
   },
   "outputs": [],
   "source": [
    "X = df_rating[['company']]\n",
    "X = pd.get_dummies(data=X, drop_first=True, columns=['company'])\n",
    "y = df_rating['rating_class']\n",
    "X_train, X_test, y_train, y_test = train_test_split(X, y, test_size=0.2, random_state=42)\n"
   ]
  },
  {
   "cell_type": "code",
   "execution_count": 8,
   "metadata": {
    "ExecuteTime": {
     "end_time": "2021-02-23T07:27:15.377431Z",
     "start_time": "2021-02-23T07:27:15.375419Z"
    }
   },
   "outputs": [
    {
     "data": {
      "text/plain": [
       "(12357, 5959)"
      ]
     },
     "execution_count": 8,
     "metadata": {},
     "output_type": "execute_result"
    }
   ],
   "source": [
    "X_train.shape"
   ]
  },
  {
   "cell_type": "code",
   "execution_count": 151,
   "metadata": {
    "ExecuteTime": {
     "end_time": "2021-02-23T07:02:50.928095Z",
     "start_time": "2021-02-23T07:02:50.926052Z"
    }
   },
   "outputs": [
    {
     "data": {
      "text/plain": [
       "(12357,)"
      ]
     },
     "execution_count": 151,
     "metadata": {},
     "output_type": "execute_result"
    }
   ],
   "source": [
    "y_train.shape"
   ]
  },
  {
   "cell_type": "code",
   "execution_count": 9,
   "metadata": {
    "ExecuteTime": {
     "end_time": "2021-02-23T07:27:30.222144Z",
     "start_time": "2021-02-23T07:27:28.572470Z"
    }
   },
   "outputs": [],
   "source": [
    "sc = StandardScaler()\n",
    "X_train = sc.fit_transform(X_train)\n",
    "X_test = sc.transform(X_test)"
   ]
  },
  {
   "cell_type": "code",
   "execution_count": 10,
   "metadata": {
    "ExecuteTime": {
     "end_time": "2021-02-23T07:27:48.759215Z",
     "start_time": "2021-02-23T07:27:32.712910Z"
    }
   },
   "outputs": [
    {
     "data": {
      "text/plain": [
       "KNeighborsClassifier(n_neighbors=25)"
      ]
     },
     "execution_count": 10,
     "metadata": {},
     "output_type": "execute_result"
    }
   ],
   "source": [
    "\n",
    "knn3 = KNeighborsClassifier(n_neighbors=3)\n",
    "knn3.fit(X_train, y_train)\n",
    "\n",
    "\n",
    "knn5 = KNeighborsClassifier(n_neighbors=5)\n",
    "knn5.fit(X_train, y_train)\n",
    "\n",
    "\n",
    "knn15 = KNeighborsClassifier(n_neighbors=15)\n",
    "knn15.fit(X_train, y_train)\n",
    "\n",
    "\n",
    "knn25 = KNeighborsClassifier(n_neighbors=25)\n",
    "knn25.fit(X_train, y_train)\n"
   ]
  },
  {
   "cell_type": "code",
   "execution_count": 11,
   "metadata": {
    "ExecuteTime": {
     "end_time": "2021-02-23T07:28:28.235571Z",
     "start_time": "2021-02-23T07:27:51.475294Z"
    }
   },
   "outputs": [
    {
     "name": "stderr",
     "output_type": "stream",
     "text": [
      "/Users/alyssiaoh/opt/anaconda3/lib/python3.8/site-packages/sklearn/linear_model/_logistic.py:762: ConvergenceWarning: lbfgs failed to converge (status=1):\n",
      "STOP: TOTAL NO. of ITERATIONS REACHED LIMIT.\n",
      "\n",
      "Increase the number of iterations (max_iter) or scale the data as shown in:\n",
      "    https://scikit-learn.org/stable/modules/preprocessing.html\n",
      "Please also refer to the documentation for alternative solver options:\n",
      "    https://scikit-learn.org/stable/modules/linear_model.html#logistic-regression\n",
      "  n_iter_i = _check_optimize_result(\n"
     ]
    },
    {
     "data": {
      "text/plain": [
       "LogisticRegression(C=0.1, penalty='l1', solver='liblinear')"
      ]
     },
     "execution_count": 11,
     "metadata": {},
     "output_type": "execute_result"
    }
   ],
   "source": [
    "logreg_ridge1 = LogisticRegression()\n",
    "logreg_ridge1.fit(X_train, y_train)\n",
    "\n",
    "logreg_ridge10 = LogisticRegression(C = .1)\n",
    "logreg_ridge10.fit(X_train, y_train)\n",
    "\n",
    "logreg_lasso1 = LogisticRegression(penalty = 'l1', C = 1, solver='liblinear')\n",
    "logreg_lasso1.fit(X_train, y_train)\n",
    "\n",
    "logreg_lasso10 = LogisticRegression(penalty = 'l1', C = .1, solver='liblinear')\n",
    "logreg_lasso10.fit(X_train, y_train)"
   ]
  },
  {
   "cell_type": "code",
   "execution_count": 12,
   "metadata": {
    "ExecuteTime": {
     "end_time": "2021-02-23T08:29:03.472695Z",
     "start_time": "2021-02-23T07:28:31.748542Z"
    }
   },
   "outputs": [
    {
     "name": "stdout",
     "output_type": "stream",
     "text": [
      "Model: KNeighborsClassifier(n_neighbors=3), mean CV score of train set: 0.7327839507870587, mean CV score of test set: 0.5223300970873785, difference test-train: -0.21045385369968017\n",
      "Model: KNeighborsClassifier(), mean CV score of train set: 0.6677205748494838, mean CV score of test set: 0.5042071197411003, difference test-train: -0.16351345510838344\n",
      "Model: KNeighborsClassifier(n_neighbors=15), mean CV score of train set: 0.44557861484482125, mean CV score of test set: 0.5207119741100323, difference test-train: 0.07513335926521109\n",
      "Model: KNeighborsClassifier(n_neighbors=25), mean CV score of train set: 0.36481404355245767, mean CV score of test set: 0.4932038834951456, difference test-train: 0.12838983994268793\n"
     ]
    },
    {
     "name": "stderr",
     "output_type": "stream",
     "text": [
      "/Users/alyssiaoh/opt/anaconda3/lib/python3.8/site-packages/sklearn/linear_model/_logistic.py:762: ConvergenceWarning: lbfgs failed to converge (status=1):\n",
      "STOP: TOTAL NO. of ITERATIONS REACHED LIMIT.\n",
      "\n",
      "Increase the number of iterations (max_iter) or scale the data as shown in:\n",
      "    https://scikit-learn.org/stable/modules/preprocessing.html\n",
      "Please also refer to the documentation for alternative solver options:\n",
      "    https://scikit-learn.org/stable/modules/linear_model.html#logistic-regression\n",
      "  n_iter_i = _check_optimize_result(\n",
      "/Users/alyssiaoh/opt/anaconda3/lib/python3.8/site-packages/sklearn/linear_model/_logistic.py:762: ConvergenceWarning: lbfgs failed to converge (status=1):\n",
      "STOP: TOTAL NO. of ITERATIONS REACHED LIMIT.\n",
      "\n",
      "Increase the number of iterations (max_iter) or scale the data as shown in:\n",
      "    https://scikit-learn.org/stable/modules/preprocessing.html\n",
      "Please also refer to the documentation for alternative solver options:\n",
      "    https://scikit-learn.org/stable/modules/linear_model.html#logistic-regression\n",
      "  n_iter_i = _check_optimize_result(\n",
      "/Users/alyssiaoh/opt/anaconda3/lib/python3.8/site-packages/sklearn/linear_model/_logistic.py:762: ConvergenceWarning: lbfgs failed to converge (status=1):\n",
      "STOP: TOTAL NO. of ITERATIONS REACHED LIMIT.\n",
      "\n",
      "Increase the number of iterations (max_iter) or scale the data as shown in:\n",
      "    https://scikit-learn.org/stable/modules/preprocessing.html\n",
      "Please also refer to the documentation for alternative solver options:\n",
      "    https://scikit-learn.org/stable/modules/linear_model.html#logistic-regression\n",
      "  n_iter_i = _check_optimize_result(\n",
      "/Users/alyssiaoh/opt/anaconda3/lib/python3.8/site-packages/sklearn/linear_model/_logistic.py:762: ConvergenceWarning: lbfgs failed to converge (status=1):\n",
      "STOP: TOTAL NO. of ITERATIONS REACHED LIMIT.\n",
      "\n",
      "Increase the number of iterations (max_iter) or scale the data as shown in:\n",
      "    https://scikit-learn.org/stable/modules/preprocessing.html\n",
      "Please also refer to the documentation for alternative solver options:\n",
      "    https://scikit-learn.org/stable/modules/linear_model.html#logistic-regression\n",
      "  n_iter_i = _check_optimize_result(\n",
      "/Users/alyssiaoh/opt/anaconda3/lib/python3.8/site-packages/sklearn/linear_model/_logistic.py:762: ConvergenceWarning: lbfgs failed to converge (status=1):\n",
      "STOP: TOTAL NO. of ITERATIONS REACHED LIMIT.\n",
      "\n",
      "Increase the number of iterations (max_iter) or scale the data as shown in:\n",
      "    https://scikit-learn.org/stable/modules/preprocessing.html\n",
      "Please also refer to the documentation for alternative solver options:\n",
      "    https://scikit-learn.org/stable/modules/linear_model.html#logistic-regression\n",
      "  n_iter_i = _check_optimize_result(\n",
      "/Users/alyssiaoh/opt/anaconda3/lib/python3.8/site-packages/sklearn/linear_model/_logistic.py:762: ConvergenceWarning: lbfgs failed to converge (status=1):\n",
      "STOP: TOTAL NO. of ITERATIONS REACHED LIMIT.\n",
      "\n",
      "Increase the number of iterations (max_iter) or scale the data as shown in:\n",
      "    https://scikit-learn.org/stable/modules/preprocessing.html\n",
      "Please also refer to the documentation for alternative solver options:\n",
      "    https://scikit-learn.org/stable/modules/linear_model.html#logistic-regression\n",
      "  n_iter_i = _check_optimize_result(\n",
      "/Users/alyssiaoh/opt/anaconda3/lib/python3.8/site-packages/sklearn/linear_model/_logistic.py:762: ConvergenceWarning: lbfgs failed to converge (status=1):\n",
      "STOP: TOTAL NO. of ITERATIONS REACHED LIMIT.\n",
      "\n",
      "Increase the number of iterations (max_iter) or scale the data as shown in:\n",
      "    https://scikit-learn.org/stable/modules/preprocessing.html\n",
      "Please also refer to the documentation for alternative solver options:\n",
      "    https://scikit-learn.org/stable/modules/linear_model.html#logistic-regression\n",
      "  n_iter_i = _check_optimize_result(\n",
      "/Users/alyssiaoh/opt/anaconda3/lib/python3.8/site-packages/sklearn/linear_model/_logistic.py:762: ConvergenceWarning: lbfgs failed to converge (status=1):\n",
      "STOP: TOTAL NO. of ITERATIONS REACHED LIMIT.\n",
      "\n",
      "Increase the number of iterations (max_iter) or scale the data as shown in:\n",
      "    https://scikit-learn.org/stable/modules/preprocessing.html\n",
      "Please also refer to the documentation for alternative solver options:\n",
      "    https://scikit-learn.org/stable/modules/linear_model.html#logistic-regression\n",
      "  n_iter_i = _check_optimize_result(\n",
      "/Users/alyssiaoh/opt/anaconda3/lib/python3.8/site-packages/sklearn/linear_model/_logistic.py:762: ConvergenceWarning: lbfgs failed to converge (status=1):\n",
      "STOP: TOTAL NO. of ITERATIONS REACHED LIMIT.\n",
      "\n",
      "Increase the number of iterations (max_iter) or scale the data as shown in:\n",
      "    https://scikit-learn.org/stable/modules/preprocessing.html\n",
      "Please also refer to the documentation for alternative solver options:\n",
      "    https://scikit-learn.org/stable/modules/linear_model.html#logistic-regression\n",
      "  n_iter_i = _check_optimize_result(\n",
      "/Users/alyssiaoh/opt/anaconda3/lib/python3.8/site-packages/sklearn/linear_model/_logistic.py:762: ConvergenceWarning: lbfgs failed to converge (status=1):\n",
      "STOP: TOTAL NO. of ITERATIONS REACHED LIMIT.\n",
      "\n",
      "Increase the number of iterations (max_iter) or scale the data as shown in:\n",
      "    https://scikit-learn.org/stable/modules/preprocessing.html\n",
      "Please also refer to the documentation for alternative solver options:\n",
      "    https://scikit-learn.org/stable/modules/linear_model.html#logistic-regression\n",
      "  n_iter_i = _check_optimize_result(\n"
     ]
    },
    {
     "name": "stdout",
     "output_type": "stream",
     "text": [
      "Model: LogisticRegression(), mean CV score of train set: 0.8405774623169215, mean CV score of test set: 0.6977346278317151, difference test-train: -0.1428428344852064\n"
     ]
    },
    {
     "name": "stderr",
     "output_type": "stream",
     "text": [
      "/Users/alyssiaoh/opt/anaconda3/lib/python3.8/site-packages/sklearn/linear_model/_logistic.py:762: ConvergenceWarning: lbfgs failed to converge (status=1):\n",
      "STOP: TOTAL NO. of ITERATIONS REACHED LIMIT.\n",
      "\n",
      "Increase the number of iterations (max_iter) or scale the data as shown in:\n",
      "    https://scikit-learn.org/stable/modules/preprocessing.html\n",
      "Please also refer to the documentation for alternative solver options:\n",
      "    https://scikit-learn.org/stable/modules/linear_model.html#logistic-regression\n",
      "  n_iter_i = _check_optimize_result(\n",
      "/Users/alyssiaoh/opt/anaconda3/lib/python3.8/site-packages/sklearn/linear_model/_logistic.py:762: ConvergenceWarning: lbfgs failed to converge (status=1):\n",
      "STOP: TOTAL NO. of ITERATIONS REACHED LIMIT.\n",
      "\n",
      "Increase the number of iterations (max_iter) or scale the data as shown in:\n",
      "    https://scikit-learn.org/stable/modules/preprocessing.html\n",
      "Please also refer to the documentation for alternative solver options:\n",
      "    https://scikit-learn.org/stable/modules/linear_model.html#logistic-regression\n",
      "  n_iter_i = _check_optimize_result(\n"
     ]
    },
    {
     "name": "stdout",
     "output_type": "stream",
     "text": [
      "Model: LogisticRegression(C=0.1), mean CV score of train set: 0.8175142658069857, mean CV score of test set: 0.6773462783171521, difference test-train: -0.1401679874898336\n",
      "Model: LogisticRegression(C=1, penalty='l1', solver='liblinear'), mean CV score of train set: 0.8404965234257844, mean CV score of test set: 0.6796116504854368, difference test-train: -0.1608848729403476\n",
      "Model: LogisticRegression(C=0.1, penalty='l1', solver='liblinear'), mean CV score of train set: 0.8405774295746518, mean CV score of test set: 0.6773462783171521, difference test-train: -0.16323115125749965\n"
     ]
    }
   ],
   "source": [
    "def model_cv(model, X_train, X_test, y_train, y_test):\n",
    "    cv_train = cross_val_score(model, X_train, y_train).mean()\n",
    "    cv_test = cross_val_score(model, X_test, y_test).mean()\n",
    "    return print(f'Model: {model}, mean CV score of train set: {cv_train}, mean CV score of test set: {cv_test}, difference test-train: {cv_test - cv_train}')\n",
    "    \n",
    "model_cv(knn3, X_train, X_test, y_train, y_test)\n",
    "model_cv(knn5, X_train, X_test, y_train, y_test)\n",
    "model_cv(knn15, X_train, X_test, y_train, y_test)\n",
    "model_cv(knn25, X_train, X_test, y_train, y_test)\n",
    "model_cv(logreg_ridge1, X_train, X_test, y_train, y_test)\n",
    "model_cv(logreg_ridge10, X_train, X_test, y_train, y_test)\n",
    "model_cv(logreg_lasso1, X_train, X_test, y_train, y_test)\n",
    "model_cv(logreg_lasso10, X_train, X_test, y_train, y_test)\n"
   ]
  },
  {
   "cell_type": "code",
   "execution_count": 13,
   "metadata": {
    "ExecuteTime": {
     "end_time": "2021-02-23T08:35:35.936714Z",
     "start_time": "2021-02-23T08:35:35.930296Z"
    }
   },
   "outputs": [
    {
     "name": "stdout",
     "output_type": "stream",
     "text": [
      "Baseline accuracy of default model is 0.4733349518491543\n"
     ]
    }
   ],
   "source": [
    "print(f'Baseline accuracy of default model is {5849/12357}')"
   ]
  },
  {
   "cell_type": "code",
   "execution_count": null,
   "metadata": {},
   "outputs": [],
   "source": []
  },
  {
   "cell_type": "code",
   "execution_count": null,
   "metadata": {},
   "outputs": [],
   "source": []
  },
  {
   "cell_type": "code",
   "execution_count": null,
   "metadata": {},
   "outputs": [],
   "source": []
  },
  {
   "cell_type": "code",
   "execution_count": null,
   "metadata": {},
   "outputs": [],
   "source": []
  },
  {
   "cell_type": "code",
   "execution_count": null,
   "metadata": {},
   "outputs": [],
   "source": []
  },
  {
   "cell_type": "code",
   "execution_count": null,
   "metadata": {},
   "outputs": [],
   "source": []
  },
  {
   "cell_type": "code",
   "execution_count": null,
   "metadata": {},
   "outputs": [],
   "source": []
  },
  {
   "cell_type": "code",
   "execution_count": null,
   "metadata": {},
   "outputs": [],
   "source": []
  },
  {
   "cell_type": "code",
   "execution_count": 30,
   "metadata": {
    "ExecuteTime": {
     "end_time": "2021-02-23T10:28:15.003616Z",
     "start_time": "2021-02-23T10:28:14.979284Z"
    },
    "scrolled": false
   },
   "outputs": [
    {
     "name": "stdout",
     "output_type": "stream",
     "text": [
      "Alyssia Oh\n",
      "\n",
      "San Francisco, CA 8312393523\n",
      "\n",
      "alyssiao@gmail.com • linkedin.com/in/alyssiao • Github/portfolio\n",
      "\n",
      "\n",
      "\n",
      "I am a data scientist with a passion for translating my scientific mind into actionable insights. I come from a background in biomedical research and drug development where I’ve been trained on how to think about data as well as how to design experiments to obtain the desired data, and what the next step should be to strengthen the solution. To facilitate communicating complex ideas, I like using data visualization tools to provide an intuitive understanding of the topic to all levels of expertise.  \n",
      "\n",
      "\n",
      "\n",
      "\n",
      "\n",
      "Skills\n",
      "\n",
      "\n",
      "\n",
      "Languages/Environments | Python, SQL, R, Google Colab\n",
      "\n",
      "Packages/Programs | Pandas, NumPy, Scikit-learn (sklearn), Scipy, Biopython, Requests, NLTK, BeautifulSoup, PySpark, TensorFlow, Keras, BeautifulSoup, AWS, Heroku, Flask, Gensim, pymc3, GraphPad Prism, Pharsight Phoenix WinNonlin, FlowJo, DNAStar\n",
      "\n",
      "Data Visualization | Seaborn, Plotly, Tableau, matplotlib, ggplot1, ggplot2\n",
      "\n",
      "Modeling | Statistical Modeling, Regression Models, k-Nearest Neighbors (KNN), Classification Models, Time Series Analysis, Neural Networks, Image Classification, XGBoost, SVM, Adaboost, Gradient Boosting, Neural Network Classification (NN), Convolutional Neural Nets (CNN), Recurrent Neural Nets (RNN), K-means clustering, PCA analysis, DBSCAN, ARIMA, SARIMAX, Decision Trees, Random Forest, Bagged Decision Trees, ExtraTrees, Natural language processing (NLP)\n",
      "\n",
      "Statistics | Statistical Distributions, Bayesian Analysis, p-Values, Hypothesis Testing, Bayes Theorem, Churn/Survival Analysis, \n",
      "\n",
      "\n",
      "\n",
      "\n",
      "\n",
      "\n",
      "\n",
      "Projects\n",
      "\n",
      "\n",
      "\n",
      "\tLinear regression modeling - standardized testing scores in the United States  \n",
      "\n",
      "\t-  using the linear regression model, I studied which factors correlate highest to the state’s average SAT score.  \n",
      "\n",
      "\t\n",
      "\n",
      "\tHousing price prediction using feature engineering and linear/logistic regression models\n",
      "\n",
      "\t-  predict housing prices in Ames, IA using historical datasets with the R2 score of 0.942\n",
      "\n",
      "\t\n",
      "\n",
      "\tClassification using Natural Language Processing\n",
      "\n",
      "\t- built a NLP model that classifies the origin of the news article between two websites. The model performs at 87% accuracy (compared to 50% baseline accuracy) \n",
      "\n",
      "\t\n",
      "\n",
      "\tCOVID-19 outbreak forecasting\n",
      "\n",
      "\t- Comparison of various time series models (ARIMA, SARIMAX) and recurrent neural network (LSTM) model to forecast infection rates in California's counties to optimize vaccine distribution plan. \n",
      "\n",
      "\t\n",
      "\n",
      "\tAutomated job search using web scraping and skill matching\n",
      "\n",
      "\t- A model automatically scans new jobs and prioritizes the list by matching the job description to your skillset.  \n",
      "\n",
      "\t \n",
      "\n",
      "\t \n",
      "\n",
      "\tRelevant Professional Experience\n",
      "\n",
      "\n",
      "\n",
      "\tUNITY BIOTECHNOLOGY\t     08/18-01/20\n",
      "\n",
      "\tResearch Associate II\n",
      "\n",
      "∙       Design and execute experiments to investigate potential biomarkers for senescence biology by studying epigenetic changes of senescence-induced IMR90 human embryonic fibroblasts at 14 different time points using Whole-Genome Bisulfite Sequencing, ATAC-Seq, Whole Transcriptome RNA-Seq, and Small/Noncoding RNA-Seq\n",
      "\n",
      "∙       Analyze NGS data using Python, UNIX, and RStudio and present the findings using data visualization tools \n",
      "\n",
      "∙       Investigate the effects of oncogene-induced senescence on non-muscle invasive bladder cancer by sequencing tumor & normal-adjacent patient tissues from 154 patients\n",
      "\n",
      "\n",
      "\n",
      "\tCPMC (California Pacific Medical Center) / SUTTER HEALTH RESEARCH INSTITUTE, SAN FRANCISCO\t    07/15-07/16\n",
      "\n",
      "\tSenior Research Associate\n",
      "\n",
      "∙       Perform high-throughput, >8000 multi-drug combination screening using patient-derived xenograft (PDX) from cancer patients including glioblastoma, melanoma, and ovarian cancer\n",
      "\n",
      "∙       Screen for FDA-approved drugs with known anti-cancer abilities from a database using SQL, determine physiologically relevant dosages for each compound, and design ex vivo dose-dependent combination therapy \n",
      "\n",
      "\t∙       Perform viability assay, visualize data using GraphPad Prism, and analyze dose-dependent pharmacokinetics to determine the recommended dose for human patients\n",
      "\n",
      "\t\n",
      "\n",
      "\t\n",
      "\n",
      "\tGENENTECH, INC, SOUTH SAN FRANCISCO\t     11/13-07/15\n",
      "\n",
      "\tResearch Associate\n",
      "\n",
      "∙       Analyze blood serum and tissue concentration data to determine pharmacokinetic and pharmacodynamic effects of Antibody Drug Conjugates on mammalian models using Pharsight Phoenix WinNonlin and generate reports for IND filings\n",
      "\n",
      "\t∙       Investigate correlations between different mouse strains to predict pharmacokinetic behaviors in Cynomolgus monkeys based on historic data over the last 10 years\n",
      "\n",
      "\t\n",
      "\n",
      "\t\n",
      "\n",
      "Education\n",
      "\n",
      "\n",
      "\n",
      "B.A in Molecular Cell Biology - Graduated with Department Honors, 2008\n",
      "\n",
      "University of California, Berkeley / Berkeley, CA\n"
     ]
    }
   ],
   "source": [
    "# Store the resume in a variable\n",
    "resume = docx2txt.process(\"alyssiaoh_resume.docx\")\n",
    "\n",
    "# Print the resume\n",
    "print(resume)"
   ]
  },
  {
   "cell_type": "code",
   "execution_count": 36,
   "metadata": {
    "ExecuteTime": {
     "end_time": "2021-02-23T10:29:29.252118Z",
     "start_time": "2021-02-23T10:29:29.245171Z"
    }
   },
   "outputs": [],
   "source": [
    "# Store the job description into a variable\n",
    "job_description = '''\n",
    "The Clinical Trial Research Coordinator I (CTRC-I) is a novice level position which, under the clinical direction of the Principal Investigator (PI), assists in the operational and administrative research support of the Kaiser Permanente Northern California (KPNC) PI and KPNC Clinical Trials Operations Director or designee, and other research staff conducting multiple FDA-regulated clinical trials. This is a non-licensed position which works under the daily supervision of an experienced Clinical Trial Nurse, Clinical Trial Research Coordinator, and/or KFRI-designated, licensed clinical trial research staff member. This position must adhere to the position's scope of practice as outlined in the Major Responsibilities below. This position is also responsible for assisting in protecting the health, safety, and welfare of research participants.\\n\\n\\n\\nEssential Functions:\\nComplianceSupport & comply w/ the Principles of Responsibility (Kaiser Permanente Code of Conduct). W/ guidance from PI, assist w/ ensuring compliance w/ KPNC IRB Standard Operating Procedures (SOP) & document applications. Adhere to Guideline for Good Clinical Practice (GCP), federal, state, & local regulations, & KP policies & procedures. W/ supervision, assist w/ preparation for inspections, audits & monitoring visits.Study Implementation: Maintain the security & confidentiality of participants' paper or electronic data (e.g., case report forms kept in a secure, locked space). Assist w/ scheduling participants for study assessments/visits, required tests including visit-specific laboratory kits and/or paperwork preparation. Prepare packets for participants (e.g., instructions, phone numbers, calendars, diaries, etc.).\\nAssist w/ obtaining medical records & test results for all projects/participants. w/ supervision & certification, perform packaging & shipping of protocol specimens to the Sponsor lab in accordance w/ IATA/DOT regulations & Sponsor shipping guidelines. Direct issues requiring medical decision-making to the appropriate licensed staff member promptly.\\nProvide PI and/or Clinical Trial Nurse w/ the ongoing informed consent process by coordinating the current consent documents. According to protocol and/or IRB-approved telephone script, collect & document research data in a timely manner, & report the information to the appropriate licensed staff member & PI for assessment. Assist in the collection of protocol-required data w/ timely & accurate submissions as required by Sponsor (e.g., weekly screening log, routine electronic data submissions).\\nUnder specific direction, assist w/ data entry of study activity onto a case report form (paper or electronic), & maintain a database program to track all study activity (i.e., study enrollment & consents). Assist in maintaining research charts & site regulatory files. Assist in ensuring that study-related, non-test article supplies are shipped & re-supplied according to protocol, including tracking expiration dates. Assist in obtaining protocol specific regulatory documents including MDs/RNs licenses & CVs.\\nReport any potential protocol violations/deviations to the PI in a timely manner. Support the regulatory team in the maintenance & storage of critical documents required to be maintained & provided to the Sponsor during the conduct of the trial. W/ supervision, assist in study closure activities including preparation & collection of close-out documentation, & preparation of study files for distribution to longterm storage.\\nThis job description is not all encompassing.\\nBasic Qualifications:\\nExperience\\nN/A.\\nEducation\\nAssociate's degree or higher OR two (2) years of work experience in an ambulatory and/or acute health care setting required (LVN maybe substituted for an Associate's degree)High School Diploma or General Education Development (GED) required.\\nLicense, Certification, Registration\\nN/A.\\nAdditional Requirements:\\nWillingness to obtain IATA/DOT certification prior to start date.Current BLS certification required prior to start date.Satisfies requirements for career advancement/maintenance as defined by the Clinical Trial Career Ladder Program.Must be proficient in electronic health systems and databases used in research environment and word-processing or willingness to learn within 3 months of hire.Demonstrate organizational and communication skills.Demonstrate written, verbal, and interpersonal communication skills.Demonstrate proficiency in medical terminology.Demonstrate attention to detail and accuracy.Ability to manage multiple tasks.Demonstrate good prioritization and organizational skills.Ability to be flexible and dependable.Ability to work effectively on cross-functional teams.Present professional manner and appearance.Demonstrated skill in administrative tasks (i.e., filing, photocopying, faxing, etc.).Knowledge of GCP, federal, state, and local regulations including HIPAA and KP policies and procedures.Must be able to work in a Labor Partnership environment.\\nPreferred Qualifications:\\nClinical trials experience preferred.\\nPrimaryLocation : California,South San Francisco,S. San Francisco Medical Offices\\nHoursPerWeek : 40\\nShift : Day\\nWorkdays : Variable\\nWorkingHoursStart : 08:30 AM\\nWorkingHoursEnd : 05:00 PM\\nJob Schedule : Full-time\\nJob Type : Standard\\nEmployee Status : Regular\\nEmployee Group/Union Affiliation : CNV-NUE|NUE|Non Union Employee\\nJob Level : Entry Level\\nJob Category : Research and Development\\nDepartment : Oakland Reg - 2000 Broadway - Rsrch-Invstgtr Staffg Mdl Dept - 0201\\nTravel : No\\nKaiser Permanente is an equal opportunity employer committed to a diverse and inclusive workforce. Applicants will receive consideration for employment without regard to race, color, religion, sex (including pregnancy), age, sexual orientation, national origin, marital status, parental status, ancestry, disability, gender identity, veteran status, genetic information, other distinguishing characteristics of diversity and inclusion, or any other protected status.\\n\\nExternal hires must pass a background check/drug screen. Qualified applicants with arrest and/or conviction records will be considered for employment in a manner consistent with federal and state laws, as well as applicable local ordinances, including but not limited to the San Francisco and Los Angeles Fair Chance Ordinances\n",
    "'''"
   ]
  },
  {
   "cell_type": "code",
   "execution_count": 37,
   "metadata": {
    "ExecuteTime": {
     "end_time": "2021-02-23T10:29:31.724534Z",
     "start_time": "2021-02-23T10:29:31.723023Z"
    }
   },
   "outputs": [],
   "source": [
    "# A list of text\n",
    "text = [resume, job_description]"
   ]
  },
  {
   "cell_type": "code",
   "execution_count": 38,
   "metadata": {
    "ExecuteTime": {
     "end_time": "2021-02-23T10:29:34.236314Z",
     "start_time": "2021-02-23T10:29:34.233141Z"
    }
   },
   "outputs": [],
   "source": [
    "cv = CountVectorizer()\n",
    "count_matrix = cv.fit_transform(text)"
   ]
  },
  {
   "cell_type": "code",
   "execution_count": 39,
   "metadata": {
    "ExecuteTime": {
     "end_time": "2021-02-23T10:29:36.663583Z",
     "start_time": "2021-02-23T10:29:36.654828Z"
    }
   },
   "outputs": [
    {
     "name": "stdout",
     "output_type": "stream",
     "text": [
      "\n",
      "Similarity Scores:\n",
      "[[1.         0.58425224]\n",
      " [0.58425224 1.        ]]\n"
     ]
    }
   ],
   "source": [
    "from sklearn.metrics.pairwise import cosine_similarity\n",
    "\n",
    "#Print the similarity scores\n",
    "print(\"\\nSimilarity Scores:\")\n",
    "print(cosine_similarity(count_matrix))"
   ]
  },
  {
   "cell_type": "code",
   "execution_count": 40,
   "metadata": {
    "ExecuteTime": {
     "end_time": "2021-02-23T10:29:39.085603Z",
     "start_time": "2021-02-23T10:29:39.082242Z"
    }
   },
   "outputs": [
    {
     "name": "stdout",
     "output_type": "stream",
     "text": [
      "Your resume matches about 58.43% of the job description.\n"
     ]
    }
   ],
   "source": [
    "#get the match percentage\n",
    "matchPercentage = cosine_similarity(count_matrix)[0][1] * 100\n",
    "matchPercentage = round(matchPercentage, 2) # round to two decimal\n",
    "print(\"Your resume matches about \"+ str(matchPercentage)+ \"% of the job description.\")"
   ]
  },
  {
   "cell_type": "code",
   "execution_count": 41,
   "metadata": {
    "ExecuteTime": {
     "end_time": "2021-02-23T10:29:41.502530Z",
     "start_time": "2021-02-23T10:29:41.500394Z"
    }
   },
   "outputs": [],
   "source": [
    "def jobmatch(description):\n",
    "    text = [resume, description]\n",
    "    cv = CountVectorizer()\n",
    "    count_matrix = cv.fit_transform(text)\n",
    "    matchPercentage = cosine_similarity(count_matrix)[0][1] * 100\n",
    "    matchPercentage = round(matchPercentage, 2)\n",
    "    return matchPercentage"
   ]
  },
  {
   "cell_type": "code",
   "execution_count": 48,
   "metadata": {
    "ExecuteTime": {
     "end_time": "2021-02-23T10:34:16.558384Z",
     "start_time": "2021-02-23T10:34:16.501485Z"
    }
   },
   "outputs": [],
   "source": [
    "df.dropna(inplace=True)"
   ]
  },
  {
   "cell_type": "code",
   "execution_count": null,
   "metadata": {},
   "outputs": [],
   "source": []
  },
  {
   "cell_type": "code",
   "execution_count": 49,
   "metadata": {
    "ExecuteTime": {
     "end_time": "2021-02-23T10:34:30.119224Z",
     "start_time": "2021-02-23T10:34:28.759785Z"
    }
   },
   "outputs": [],
   "source": [
    "df['match_rate'] = df['description'].apply(lambda x: jobmatch(x))"
   ]
  },
  {
   "cell_type": "code",
   "execution_count": 54,
   "metadata": {
    "ExecuteTime": {
     "end_time": "2021-02-23T10:36:53.116081Z",
     "start_time": "2021-02-23T10:36:53.089203Z"
    }
   },
   "outputs": [
    {
     "data": {
      "text/html": [
       "<div>\n",
       "<style scoped>\n",
       "    .dataframe tbody tr th:only-of-type {\n",
       "        vertical-align: middle;\n",
       "    }\n",
       "\n",
       "    .dataframe tbody tr th {\n",
       "        vertical-align: top;\n",
       "    }\n",
       "\n",
       "    .dataframe thead th {\n",
       "        text-align: right;\n",
       "    }\n",
       "</style>\n",
       "<table border=\"1\" class=\"dataframe\">\n",
       "  <thead>\n",
       "    <tr style=\"text-align: right;\">\n",
       "      <th></th>\n",
       "      <th>title</th>\n",
       "      <th>company</th>\n",
       "      <th>location</th>\n",
       "      <th>salary</th>\n",
       "      <th>rating</th>\n",
       "      <th>desc_summarizer</th>\n",
       "      <th>match_rate</th>\n",
       "    </tr>\n",
       "  </thead>\n",
       "  <tbody>\n",
       "    <tr>\n",
       "      <th>0</th>\n",
       "      <td>Clinical Trial Research Coordinator I - South San Francisco,..._new</td>\n",
       "      <td>Kaiser Permanente</td>\n",
       "      <td>San Francisco, CA</td>\n",
       "      <td>None</td>\n",
       "      <td>4.1</td>\n",
       "      <td>[{'summary_text': ' The Clinical Trial Research Coordinator I (CTRC-I) assists in the operational and administrative research support of the Kaiser Permanente Northern California (KPNC) PI and KPNC Clinical Trials Operations Director or designee . This position is also responsible for assisting in protecting the health, safety, and welfare of research participants .'}]</td>\n",
       "      <td>58.43</td>\n",
       "    </tr>\n",
       "    <tr>\n",
       "      <th>1</th>\n",
       "      <td>Senior Research Assistant_new</td>\n",
       "      <td>Kaiser Permanente</td>\n",
       "      <td>Oakland, CA</td>\n",
       "      <td>None</td>\n",
       "      <td>4.1</td>\n",
       "      <td>[{'summary_text': \" Assists in training new study staff in protocols and implementation of study goals/objectives . Conducts telephone or in-person interviews with study participants and providers . Assists with all aspects of mailed surveys . Monitors participants' progress (e.g., blood pressure, exerciaries)\"}]</td>\n",
       "      <td>48.32</td>\n",
       "    </tr>\n",
       "    <tr>\n",
       "      <th>2</th>\n",
       "      <td>Data Analyst_new</td>\n",
       "      <td>National Mortgage Insurance Corporation</td>\n",
       "      <td>Emeryville, CA 94608</td>\n",
       "      <td>None</td>\n",
       "      <td>None</td>\n",
       "      <td>[{'summary_text': ' The Analyst will have broad organizational access to support the analytic and reporting needs at all levels of Sales and Risk Management . He will be part of the Sales Effectiveness team with responsibility for owning and developing reporting and analysis tools . The Analyst is responsible for developing and maintaining large analytic datasets, both internal and externally sourced .'}]</td>\n",
       "      <td>56.51</td>\n",
       "    </tr>\n",
       "    <tr>\n",
       "      <th>3</th>\n",
       "      <td>SR Product Analyst - Chartio, SQL (Part-time Contract/REMOTE..._new</td>\n",
       "      <td>CyberCoders</td>\n",
       "      <td>San Francisco, CA 94107 (South Of Market area)</td>\n",
       "      <td>None</td>\n",
       "      <td>3.2</td>\n",
       "      <td>[{'summary_text': ' We are looking for a contractor &amp; expert product analyst/developer to refresh/rebuild our dashboards and assist with the backlog of changes requested by our internal teams . We built the dashboards in-house but are running into errors and limitations due to the climbing amount of users and data . This person will not be tasked with analyzing data .'}]</td>\n",
       "      <td>54.32</td>\n",
       "    </tr>\n",
       "    <tr>\n",
       "      <th>4</th>\n",
       "      <td>Sr. PHP Developer_new</td>\n",
       "      <td>The Lead Group</td>\n",
       "      <td>United States</td>\n",
       "      <td>None</td>\n",
       "      <td>None</td>\n",
       "      <td>[{'summary_text': ' We are looking to bring on a Sr. PHP Developer to help us build new features that empower our business efforts . We are a rapidly growing Online Lead Generation company with offices in Kansas City &amp; Atlanta, and remote staff in Dallas &amp; Phoenix .Responsibilities include writing “clean”, well-designed code that meets all provided product specifications .'}]</td>\n",
       "      <td>60.84</td>\n",
       "    </tr>\n",
       "    <tr>\n",
       "      <th>...</th>\n",
       "      <td>...</td>\n",
       "      <td>...</td>\n",
       "      <td>...</td>\n",
       "      <td>...</td>\n",
       "      <td>...</td>\n",
       "      <td>...</td>\n",
       "      <td>...</td>\n",
       "    </tr>\n",
       "    <tr>\n",
       "      <th>807</th>\n",
       "      <td>Shelter Advocate/Data Entry Specialist</td>\n",
       "      <td>Confidential Nonprofit</td>\n",
       "      <td>Oakland, CA</td>\n",
       "      <td>$17 - $18 an hour</td>\n",
       "      <td>None</td>\n",
       "      <td>[{'summary_text': ' Applicants must have:Relative experience working with diverse populations in residential setting . At least 2-3 years of social service and/or residential program experience . Clean DMV record, proof of auto insurance allowing use of personal car for business/work and satisfactory criminal background check is a must .'}]</td>\n",
       "      <td>34.24</td>\n",
       "    </tr>\n",
       "    <tr>\n",
       "      <th>808</th>\n",
       "      <td>Head Statistics &amp; Data Management</td>\n",
       "      <td>Quantum Leap Healthcare</td>\n",
       "      <td>San Francisco Bay Area, CA</td>\n",
       "      <td>None</td>\n",
       "      <td>None</td>\n",
       "      <td>[{'summary_text': ' The manager of statistics and data management if responsible for managing the functions of biostatistics, statistical programming, and data . These clinical trials may be Phase I, II and III pharmaceutical trials and medical device trials evaluating new biomarkers for cancer . Candidates must have previous personnel, function and project management experience .'}]</td>\n",
       "      <td>59.45</td>\n",
       "    </tr>\n",
       "    <tr>\n",
       "      <th>809</th>\n",
       "      <td>Program Manager (AEA West)</td>\n",
       "      <td>Association For Energy Affordability, Inc.</td>\n",
       "      <td>Emeryville, CA</td>\n",
       "      <td>None</td>\n",
       "      <td>None</td>\n",
       "      <td>[{'summary_text': ' Association for Energy Affordability (AEA) is a rapidly growing nonprofit energy services and training organization dedicated to achieving energy efficiency in buildings . The candidate must be passionate about energy efficiency and green building, highly organized, and have strength in data analytics . The Program Manager will oversee the day-today management and process flow of programs directed at providing energy efficiency services to multifamily homes .'}]</td>\n",
       "      <td>57.34</td>\n",
       "    </tr>\n",
       "    <tr>\n",
       "      <th>810</th>\n",
       "      <td>Domestic Violence (DVHF) Mobile Advocate</td>\n",
       "      <td>Community Overcoming Relationship ABUSE</td>\n",
       "      <td>San Mateo, CA 94403 (Bay Meadows area)</td>\n",
       "      <td>$21 - $23 an hour</td>\n",
       "      <td>None</td>\n",
       "      <td>[{'summary_text': ' CORA is the only agency in San Mateo County providing crisis intervention and supportive services to survivors of domestic violence and their children . The DVHF Mobile Advocate implements creative strategies to facilitate vital links between residents, CORA, law enforcement, and other community-based organizations to increase safety and preven .'}]</td>\n",
       "      <td>58.11</td>\n",
       "    </tr>\n",
       "    <tr>\n",
       "      <th>811</th>\n",
       "      <td>Crisis Counselor (Spanish Bilingual)</td>\n",
       "      <td>Community Overcoming Relationship ABUSE</td>\n",
       "      <td>San Mateo, CA 94403 (Bay Meadows area)</td>\n",
       "      <td>$21.07 an hour</td>\n",
       "      <td>None</td>\n",
       "      <td>[{'summary_text': ' CORA (Community Overcoming Relationship Abuse) is the only agency in San Mateo County providing comprehensive crisis intervention and supportive services to survivors of domestic violence and their children . The prospective candidate must share a passion for our mission, be an adaptable, self-reflective, empathetic team player with strong interpersonal skills .'}]</td>\n",
       "      <td>57.76</td>\n",
       "    </tr>\n",
       "  </tbody>\n",
       "</table>\n",
       "<p>795 rows × 7 columns</p>\n",
       "</div>"
      ],
      "text/plain": [
       "                                                                   title  \\\n",
       "0    Clinical Trial Research Coordinator I - South San Francisco,..._new   \n",
       "1                                          Senior Research Assistant_new   \n",
       "2                                                       Data Analyst_new   \n",
       "3    SR Product Analyst - Chartio, SQL (Part-time Contract/REMOTE..._new   \n",
       "4                                                  Sr. PHP Developer_new   \n",
       "..                                                                   ...   \n",
       "807                               Shelter Advocate/Data Entry Specialist   \n",
       "808                                    Head Statistics & Data Management   \n",
       "809                                           Program Manager (AEA West)   \n",
       "810                             Domestic Violence (DVHF) Mobile Advocate   \n",
       "811                                 Crisis Counselor (Spanish Bilingual)   \n",
       "\n",
       "                                        company  \\\n",
       "0                             Kaiser Permanente   \n",
       "1                             Kaiser Permanente   \n",
       "2       National Mortgage Insurance Corporation   \n",
       "3                                   CyberCoders   \n",
       "4                                The Lead Group   \n",
       "..                                          ...   \n",
       "807                      Confidential Nonprofit   \n",
       "808                     Quantum Leap Healthcare   \n",
       "809  Association For Energy Affordability, Inc.   \n",
       "810     Community Overcoming Relationship ABUSE   \n",
       "811     Community Overcoming Relationship ABUSE   \n",
       "\n",
       "                                           location             salary rating  \\\n",
       "0                                 San Francisco, CA               None    4.1   \n",
       "1                                       Oakland, CA               None    4.1   \n",
       "2                              Emeryville, CA 94608               None   None   \n",
       "3    San Francisco, CA 94107 (South Of Market area)               None    3.2   \n",
       "4                                     United States               None   None   \n",
       "..                                              ...                ...    ...   \n",
       "807                                     Oakland, CA  $17 - $18 an hour   None   \n",
       "808                      San Francisco Bay Area, CA               None   None   \n",
       "809                                  Emeryville, CA               None   None   \n",
       "810          San Mateo, CA 94403 (Bay Meadows area)  $21 - $23 an hour   None   \n",
       "811          San Mateo, CA 94403 (Bay Meadows area)     $21.07 an hour   None   \n",
       "\n",
       "                                                                                                                                                                                                                                                                                                                                                                                                                                                                                            desc_summarizer  \\\n",
       "0                                                                                                                       [{'summary_text': ' The Clinical Trial Research Coordinator I (CTRC-I) assists in the operational and administrative research support of the Kaiser Permanente Northern California (KPNC) PI and KPNC Clinical Trials Operations Director or designee . This position is also responsible for assisting in protecting the health, safety, and welfare of research participants .'}]   \n",
       "1                                                                                                                                                                                [{'summary_text': \" Assists in training new study staff in protocols and implementation of study goals/objectives . Conducts telephone or in-person interviews with study participants and providers . Assists with all aspects of mailed surveys . Monitors participants' progress (e.g., blood pressure, exerciaries)\"}]   \n",
       "2                                                                                  [{'summary_text': ' The Analyst will have broad organizational access to support the analytic and reporting needs at all levels of Sales and Risk Management . He will be part of the Sales Effectiveness team with responsibility for owning and developing reporting and analysis tools . The Analyst is responsible for developing and maintaining large analytic datasets, both internal and externally sourced .'}]   \n",
       "3                                                                                                                     [{'summary_text': ' We are looking for a contractor & expert product analyst/developer to refresh/rebuild our dashboards and assist with the backlog of changes requested by our internal teams . We built the dashboards in-house but are running into errors and limitations due to the climbing amount of users and data . This person will not be tasked with analyzing data .'}]   \n",
       "4                                                                                                                [{'summary_text': ' We are looking to bring on a Sr. PHP Developer to help us build new features that empower our business efforts . We are a rapidly growing Online Lead Generation company with offices in Kansas City & Atlanta, and remote staff in Dallas & Phoenix .Responsibilities include writing “clean”, well-designed code that meets all provided product specifications .'}]   \n",
       "..                                                                                                                                                                                                                                                                                                                                                                                                                                                                                                      ...   \n",
       "807                                                                                                                                                  [{'summary_text': ' Applicants must have:Relative experience working with diverse populations in residential setting . At least 2-3 years of social service and/or residential program experience . Clean DMV record, proof of auto insurance allowing use of personal car for business/work and satisfactory criminal background check is a must .'}]   \n",
       "808                                                                                                      [{'summary_text': ' The manager of statistics and data management if responsible for managing the functions of biostatistics, statistical programming, and data . These clinical trials may be Phase I, II and III pharmaceutical trials and medical device trials evaluating new biomarkers for cancer . Candidates must have previous personnel, function and project management experience .'}]   \n",
       "809  [{'summary_text': ' Association for Energy Affordability (AEA) is a rapidly growing nonprofit energy services and training organization dedicated to achieving energy efficiency in buildings . The candidate must be passionate about energy efficiency and green building, highly organized, and have strength in data analytics . The Program Manager will oversee the day-today management and process flow of programs directed at providing energy efficiency services to multifamily homes .'}]   \n",
       "810                                                                                                                     [{'summary_text': ' CORA is the only agency in San Mateo County providing crisis intervention and supportive services to survivors of domestic violence and their children . The DVHF Mobile Advocate implements creative strategies to facilitate vital links between residents, CORA, law enforcement, and other community-based organizations to increase safety and preven .'}]   \n",
       "811                                                                                                     [{'summary_text': ' CORA (Community Overcoming Relationship Abuse) is the only agency in San Mateo County providing comprehensive crisis intervention and supportive services to survivors of domestic violence and their children . The prospective candidate must share a passion for our mission, be an adaptable, self-reflective, empathetic team player with strong interpersonal skills .'}]   \n",
       "\n",
       "     match_rate  \n",
       "0         58.43  \n",
       "1         48.32  \n",
       "2         56.51  \n",
       "3         54.32  \n",
       "4         60.84  \n",
       "..          ...  \n",
       "807       34.24  \n",
       "808       59.45  \n",
       "809       57.34  \n",
       "810       58.11  \n",
       "811       57.76  \n",
       "\n",
       "[795 rows x 7 columns]"
      ]
     },
     "execution_count": 54,
     "metadata": {},
     "output_type": "execute_result"
    }
   ],
   "source": [
    "df.drop(columns=['description', 'summary'])"
   ]
  },
  {
   "cell_type": "code",
   "execution_count": null,
   "metadata": {},
   "outputs": [],
   "source": []
  }
 ],
 "metadata": {
  "kernelspec": {
   "display_name": "Python 3",
   "language": "python",
   "name": "python3"
  },
  "language_info": {
   "codemirror_mode": {
    "name": "ipython",
    "version": 3
   },
   "file_extension": ".py",
   "mimetype": "text/x-python",
   "name": "python",
   "nbconvert_exporter": "python",
   "pygments_lexer": "ipython3",
   "version": "3.8.5"
  },
  "toc": {
   "base_numbering": 1,
   "nav_menu": {},
   "number_sections": true,
   "sideBar": true,
   "skip_h1_title": false,
   "title_cell": "Table of Contents",
   "title_sidebar": "Contents",
   "toc_cell": false,
   "toc_position": {},
   "toc_section_display": true,
   "toc_window_display": true
  },
  "varInspector": {
   "cols": {
    "lenName": 16,
    "lenType": 16,
    "lenVar": 40
   },
   "kernels_config": {
    "python": {
     "delete_cmd_postfix": "",
     "delete_cmd_prefix": "del ",
     "library": "var_list.py",
     "varRefreshCmd": "print(var_dic_list())"
    },
    "r": {
     "delete_cmd_postfix": ") ",
     "delete_cmd_prefix": "rm(",
     "library": "var_list.r",
     "varRefreshCmd": "cat(var_dic_list()) "
    }
   },
   "types_to_exclude": [
    "module",
    "function",
    "builtin_function_or_method",
    "instance",
    "_Feature"
   ],
   "window_display": false
  }
 },
 "nbformat": 4,
 "nbformat_minor": 4
}
